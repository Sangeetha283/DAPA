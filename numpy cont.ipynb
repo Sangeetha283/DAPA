{
 "cells": [
  {
   "cell_type": "code",
   "execution_count": null,
   "id": "5a3ee800-f8e9-4924-be36-dd8e5d9f60ea",
   "metadata": {},
   "outputs": [],
   "source": [
    "#creating nump0y array"
   ]
  },
  {
   "cell_type": "code",
   "execution_count": 1,
   "id": "54ab96a1-69a3-4284-be13-490d520ddd6e",
   "metadata": {},
   "outputs": [
    {
     "data": {
      "text/plain": [
       "numpy.ndarray"
      ]
     },
     "execution_count": 1,
     "metadata": {},
     "output_type": "execute_result"
    }
   ],
   "source": [
    "\n",
    "import numpy as np\n",
    "a= np.ones((3,4))\n",
    "type(a)"
   ]
  },
  {
   "cell_type": "code",
   "execution_count": 2,
   "id": "1c5e91f4-ff54-4422-851f-278c8937d583",
   "metadata": {},
   "outputs": [
    {
     "data": {
      "text/plain": [
       "array([[1., 1., 1., 1.],\n",
       "       [1., 1., 1., 1.],\n",
       "       [1., 1., 1., 1.]])"
      ]
     },
     "execution_count": 2,
     "metadata": {},
     "output_type": "execute_result"
    }
   ],
   "source": [
    "a"
   ]
  },
  {
   "cell_type": "code",
   "execution_count": 3,
   "id": "e3e9bbb1-cb29-4be0-9ac4-9f1157a127c1",
   "metadata": {},
   "outputs": [
    {
     "data": {
      "text/plain": [
       "array([[0., 0., 0., 0.],\n",
       "       [0., 0., 0., 0.]])"
      ]
     },
     "execution_count": 3,
     "metadata": {},
     "output_type": "execute_result"
    }
   ],
   "source": [
    "a1=np.zeros((2,4))\n",
    "a1"
   ]
  },
  {
   "cell_type": "code",
   "execution_count": 4,
   "id": "03e449f2-24b3-4e48-b57c-ed6164ea66ff",
   "metadata": {},
   "outputs": [
    {
     "data": {
      "text/plain": [
       "array([[0., 0., 0.],\n",
       "       [0., 0., 0.],\n",
       "       [0., 0., 0.]])"
      ]
     },
     "execution_count": 4,
     "metadata": {},
     "output_type": "execute_result"
    }
   ],
   "source": [
    "zeros_array=np.zeros((3,3))\n",
    "ones_array=np.ones((2,4))\n",
    "zeros_array"
   ]
  },
  {
   "cell_type": "code",
   "execution_count": 5,
   "id": "93cb8cea-ebbc-4ccd-b161-35dfbc5b4e15",
   "metadata": {},
   "outputs": [
    {
     "data": {
      "text/plain": [
       "array([[1., 1., 1., 1.],\n",
       "       [1., 1., 1., 1.]])"
      ]
     },
     "execution_count": 5,
     "metadata": {},
     "output_type": "execute_result"
    }
   ],
   "source": [
    "ones_array"
   ]
  },
  {
   "cell_type": "code",
   "execution_count": 6,
   "id": "8492ecf2-5f2f-4e18-a911-b1ff48eeab29",
   "metadata": {},
   "outputs": [
    {
     "data": {
      "text/plain": [
       "array([[1., 0., 0.],\n",
       "       [0., 1., 0.],\n",
       "       [0., 0., 1.]])"
      ]
     },
     "execution_count": 6,
     "metadata": {},
     "output_type": "execute_result"
    }
   ],
   "source": [
    "identity_matrix=np.eye(3)\n",
    "identity_matrix"
   ]
  },
  {
   "cell_type": "code",
   "execution_count": 7,
   "id": "77d40b96-d32b-437e-a596-adc1f6bac556",
   "metadata": {},
   "outputs": [
    {
     "data": {
      "text/plain": [
       "array([1, 2, 3, 4])"
      ]
     },
     "execution_count": 7,
     "metadata": {},
     "output_type": "execute_result"
    }
   ],
   "source": [
    "b=[1,2,3,4]\n",
    "np.array(b,dtype=np.int32)"
   ]
  },
  {
   "cell_type": "code",
   "execution_count": 8,
   "id": "80248078-02bd-4f1f-b817-369fb6630b5d",
   "metadata": {},
   "outputs": [
    {
     "data": {
      "text/plain": [
       "array([1, 2, 3])"
      ]
     },
     "execution_count": 8,
     "metadata": {},
     "output_type": "execute_result"
    }
   ],
   "source": [
    "int_array=np.array([1,2,3], dtype=np.int32)\n",
    "float_array=np.array([0.1,0.2,0.3],dtype=np.float64)\n",
    "int_array"
   ]
  },
  {
   "cell_type": "code",
   "execution_count": 9,
   "id": "28135b58-847b-4124-93fa-1428086230c1",
   "metadata": {},
   "outputs": [
    {
     "data": {
      "text/plain": [
       "array([0.1, 0.2, 0.3])"
      ]
     },
     "execution_count": 9,
     "metadata": {},
     "output_type": "execute_result"
    }
   ],
   "source": [
    "float_array"
   ]
  },
  {
   "cell_type": "code",
   "execution_count": 10,
   "id": "95aa45f4-209d-4255-9189-108c78dafd8f",
   "metadata": {},
   "outputs": [
    {
     "data": {
      "text/plain": [
       "array([0, 1, 2, 3, 4, 5, 6, 7])"
      ]
     },
     "execution_count": 10,
     "metadata": {},
     "output_type": "execute_result"
    }
   ],
   "source": [
    "a2=np.arange(0,8)\n",
    "a2"
   ]
  },
  {
   "cell_type": "code",
   "execution_count": 11,
   "id": "b105a82e-0414-41ca-8d47-438717343ebe",
   "metadata": {},
   "outputs": [
    {
     "data": {
      "text/plain": [
       "array([ 0.,  2.,  4.,  6.,  8., 10.])"
      ]
     },
     "execution_count": 11,
     "metadata": {},
     "output_type": "execute_result"
    }
   ],
   "source": [
    "linspace_array=np.linspace(0,10,6)\n",
    "linspace_array"
   ]
  },
  {
   "cell_type": "code",
   "execution_count": 12,
   "id": "b6072a04-4cc4-49b5-a717-21ad3d715fe8",
   "metadata": {},
   "outputs": [
    {
     "data": {
      "text/plain": [
       "array([ 0.,  5., 10., 15., 20.])"
      ]
     },
     "execution_count": 12,
     "metadata": {},
     "output_type": "execute_result"
    }
   ],
   "source": [
    "linspace_array1=np.linspace(0,20,5)\n",
    "linspace_array1"
   ]
  },
  {
   "cell_type": "code",
   "execution_count": 13,
   "id": "ce5530e9-d4da-479b-95e4-841568d38569",
   "metadata": {},
   "outputs": [
    {
     "data": {
      "text/plain": [
       "array([[0.8566368 , 0.34749196, 0.71723184, 0.77377866],\n",
       "       [0.20185894, 0.43770632, 0.33641201, 0.04108622],\n",
       "       [0.7888428 , 0.74626922, 0.10892331, 0.68584227],\n",
       "       [0.1763358 , 0.84892025, 0.76609175, 0.43453974]])"
      ]
     },
     "execution_count": 13,
     "metadata": {},
     "output_type": "execute_result"
    }
   ],
   "source": [
    "random_array=np.random.rand(4,4)\n",
    "random_array"
   ]
  },
  {
   "cell_type": "code",
   "execution_count": null,
   "id": "352318d7-6a69-40c4-93fa-b498c1313a63",
   "metadata": {},
   "outputs": [],
   "source": [
    "#basic indexing"
   ]
  },
  {
   "cell_type": "code",
   "execution_count": 14,
   "id": "f6647a98-c781-48ef-aeaf-1aaa10ed0225",
   "metadata": {},
   "outputs": [
    {
     "name": "stdout",
     "output_type": "stream",
     "text": [
      "10\n",
      "40\n"
     ]
    }
   ],
   "source": [
    "arr=np.array([10,20,30,40])\n",
    "print(arr[0])\n",
    "print(arr[-1])"
   ]
  },
  {
   "cell_type": "code",
   "execution_count": 15,
   "id": "80d6994d-add2-4bbc-8518-acceaa8d2441",
   "metadata": {},
   "outputs": [
    {
     "data": {
      "text/plain": [
       "array([[23,  4,  6,  3],\n",
       "       [ 1, 67, 98,  6]])"
      ]
     },
     "execution_count": 15,
     "metadata": {},
     "output_type": "execute_result"
    }
   ],
   "source": [
    "arr1=np.array([[23,4,6,3],[1,67,98,6]])\n",
    "arr1"
   ]
  },
  {
   "cell_type": "code",
   "execution_count": 16,
   "id": "12b4d92b-7d02-41d6-bffb-55aa63f38d16",
   "metadata": {},
   "outputs": [
    {
     "name": "stdout",
     "output_type": "stream",
     "text": [
      "3\n",
      "6\n"
     ]
    }
   ],
   "source": [
    "print(arr1[0,3])\n",
    "print(arr1[1,-1])"
   ]
  },
  {
   "cell_type": "code",
   "execution_count": null,
   "id": "8ffbe9ef-310d-4902-8ce5-f74dcdce40da",
   "metadata": {},
   "outputs": [],
   "source": [
    "#1D array slicing"
   ]
  },
  {
   "cell_type": "code",
   "execution_count": 17,
   "id": "a8c84511-f9e2-49f2-a0c3-76d1f7d1d8a1",
   "metadata": {},
   "outputs": [
    {
     "name": "stdout",
     "output_type": "stream",
     "text": [
      "[7 8 5]\n",
      "[1 7 8 5 4 3]\n",
      "[1 7 8 5 4]\n"
     ]
    }
   ],
   "source": [
    "arr2=np.array([1,7,8,5,4,3])\n",
    "print(arr2[1:4])\n",
    "print(arr2[:6])\n",
    "print(arr2[:-1])"
   ]
  },
  {
   "cell_type": "code",
   "execution_count": 18,
   "id": "5b4ee41a-4e84-4bfe-839f-68eb9b5dc16e",
   "metadata": {},
   "outputs": [
    {
     "name": "stdout",
     "output_type": "stream",
     "text": [
      "[[2 3]]\n"
     ]
    }
   ],
   "source": [
    "matrix=np.array([[1,2,3],\n",
    "                 [4,5,6],\n",
    "                 [7,8,9]])\n",
    "print(matrix[0:1,1:3])"
   ]
  },
  {
   "cell_type": "code",
   "execution_count": 19,
   "id": "d4b22234-7e6b-4f4d-b267-abcd38ff2af9",
   "metadata": {},
   "outputs": [
    {
     "name": "stdout",
     "output_type": "stream",
     "text": [
      "[[8]]\n",
      "[[5 6]]\n"
     ]
    }
   ],
   "source": [
    "print(matrix[2:3,1:2])\n",
    "print(matrix[1:2,1:3])"
   ]
  },
  {
   "cell_type": "code",
   "execution_count": 20,
   "id": "1102b046-8670-452f-b694-736aaf4c936c",
   "metadata": {},
   "outputs": [
    {
     "data": {
      "text/plain": [
       "array([2, 3])"
      ]
     },
     "execution_count": 20,
     "metadata": {},
     "output_type": "execute_result"
    }
   ],
   "source": [
    "v=np.array([1,2,3,4])\n",
    "s=v[1:3]\n",
    "s"
   ]
  },
  {
   "cell_type": "code",
   "execution_count": 21,
   "id": "6553c3b2-066a-4ddb-a22a-798293a98617",
   "metadata": {},
   "outputs": [
    {
     "data": {
      "text/plain": [
       "array([2, 3])"
      ]
     },
     "execution_count": 21,
     "metadata": {},
     "output_type": "execute_result"
    }
   ],
   "source": [
    "#copy\n",
    "a=np.array([1,2,3,4,5])\n",
    "b=a[1:3].copy()\n",
    "b"
   ]
  },
  {
   "cell_type": "code",
   "execution_count": 22,
   "id": "57196524-96bd-4a2d-beba-a0d1da1bef0a",
   "metadata": {},
   "outputs": [
    {
     "data": {
      "text/plain": [
       "(2, 3)"
      ]
     },
     "execution_count": 22,
     "metadata": {},
     "output_type": "execute_result"
    }
   ],
   "source": [
    "#shape\n",
    "arr=np.array([[1,2,3],[4,5,6]])\n",
    "arr.shape"
   ]
  },
  {
   "cell_type": "code",
   "execution_count": 24,
   "id": "ead2ce76-1593-42c0-a640-2fe7350dfc60",
   "metadata": {},
   "outputs": [
    {
     "data": {
      "text/plain": [
       "array([ 0,  1,  2,  3,  4,  5,  6,  7,  8,  9, 10, 11])"
      ]
     },
     "execution_count": 24,
     "metadata": {},
     "output_type": "execute_result"
    }
   ],
   "source": [
    "a=np.arange(12)\n",
    "a\n"
   ]
  },
  {
   "cell_type": "code",
   "execution_count": 25,
   "id": "f8488197-306c-4ecb-ad33-3be459ae52c9",
   "metadata": {},
   "outputs": [
    {
     "data": {
      "text/plain": [
       "array([[ 0,  1,  2,  3],\n",
       "       [ 4,  5,  6,  7],\n",
       "       [ 8,  9, 10, 11]])"
      ]
     },
     "execution_count": 25,
     "metadata": {},
     "output_type": "execute_result"
    }
   ],
   "source": [
    "\n",
    "b=a.reshape(3,4)\n",
    "b"
   ]
  },
  {
   "cell_type": "code",
   "execution_count": 26,
   "id": "837fb55a-69f3-4369-9b4f-bc416b9dc70e",
   "metadata": {},
   "outputs": [
    {
     "data": {
      "text/plain": [
       "array([ 0,  1,  2,  3,  4,  5,  6,  7,  8,  9, 10, 11, 12, 13, 14, 15, 16,\n",
       "       17, 18, 19])"
      ]
     },
     "execution_count": 26,
     "metadata": {},
     "output_type": "execute_result"
    }
   ],
   "source": [
    "d=np.arange(20)\n",
    "d"
   ]
  },
  {
   "cell_type": "code",
   "execution_count": 27,
   "id": "946ef4d5-9c68-4fde-a9e8-9d89e6a20f7f",
   "metadata": {},
   "outputs": [
    {
     "data": {
      "text/plain": [
       "array([[ 0,  1,  2,  3],\n",
       "       [ 4,  5,  6,  7],\n",
       "       [ 8,  9, 10, 11],\n",
       "       [12, 13, 14, 15],\n",
       "       [16, 17, 18, 19]])"
      ]
     },
     "execution_count": 27,
     "metadata": {},
     "output_type": "execute_result"
    }
   ],
   "source": [
    "e=d.reshape(5,4)\n",
    "e"
   ]
  },
  {
   "cell_type": "code",
   "execution_count": 28,
   "id": "b02b0ea1-ff9c-495f-9616-e9c46be315ee",
   "metadata": {},
   "outputs": [
    {
     "data": {
      "text/plain": [
       "array([[0, 4, 7],\n",
       "       [1, 5, 8],\n",
       "       [2, 6, 9]])"
      ]
     },
     "execution_count": 28,
     "metadata": {},
     "output_type": "execute_result"
    }
   ],
   "source": [
    "arr_3d=np.array([[0,1,2],\n",
    "              [4,5,6],\n",
    "              [7,8,9]])\n",
    "arr_3d.transpose()"
   ]
  },
  {
   "cell_type": "code",
   "execution_count": 29,
   "id": "44842dbe-a9fc-4816-8423-d64ca7818cf6",
   "metadata": {},
   "outputs": [
    {
     "data": {
      "text/plain": [
       "array([[ 1, 10],\n",
       "       [ 2, 20],\n",
       "       [ 3, 30],\n",
       "       [ 4, 40],\n",
       "       [ 5, 50],\n",
       "       [ 6, 60]])"
      ]
     },
     "execution_count": 29,
     "metadata": {},
     "output_type": "execute_result"
    }
   ],
   "source": [
    "arr=np.array([[1,2,3,4,5,6],[10,20,30,40,50,60]])\n",
    "arr.transpose()"
   ]
  },
  {
   "cell_type": "code",
   "execution_count": null,
   "id": "ac382b6b-14a9-408d-8b8d-a943ee23a4cd",
   "metadata": {},
   "outputs": [],
   "source": []
  }
 ],
 "metadata": {
  "kernelspec": {
   "display_name": "Python 3 (ipykernel)",
   "language": "python",
   "name": "python3"
  },
  "language_info": {
   "codemirror_mode": {
    "name": "ipython",
    "version": 3
   },
   "file_extension": ".py",
   "mimetype": "text/x-python",
   "name": "python",
   "nbconvert_exporter": "python",
   "pygments_lexer": "ipython3",
   "version": "3.12.7"
  }
 },
 "nbformat": 4,
 "nbformat_minor": 5
}
