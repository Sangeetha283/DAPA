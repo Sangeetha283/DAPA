{
 "cells": [
  {
   "cell_type": "code",
   "execution_count": 1,
   "id": "ea94f697-4182-4697-a81d-77e34624dc62",
   "metadata": {},
   "outputs": [
    {
     "data": {
      "text/plain": [
       "{'row_id': 1, 'order_id': 'abcde', 'order_date': '14-5-2025'}"
      ]
     },
     "execution_count": 1,
     "metadata": {},
     "output_type": "execute_result"
    }
   ],
   "source": [
    "#dictionary\n",
    "dict={\"row_id\":1,\"order_id\":\"abcde\",\"order_date\":\"14-5-2025\"}\n",
    "dict"
   ]
  },
  {
   "cell_type": "code",
   "execution_count": 2,
   "id": "5e5b3eb1-4eec-4904-9727-aae3c637bc57",
   "metadata": {},
   "outputs": [
    {
     "data": {
      "text/plain": [
       "dict"
      ]
     },
     "execution_count": 2,
     "metadata": {},
     "output_type": "execute_result"
    }
   ],
   "source": [
    "d={\"name\":\"raj\",\"age\":50,\"gender\":\"male\"}\n",
    "type(d)"
   ]
  },
  {
   "cell_type": "code",
   "execution_count": 3,
   "id": "4937acc2-9a47-4827-b5f2-a69247018842",
   "metadata": {},
   "outputs": [
    {
     "data": {
      "text/plain": [
       "set"
      ]
     },
     "execution_count": 3,
     "metadata": {},
     "output_type": "execute_result"
    }
   ],
   "source": [
    "a={1,2,3,4}\n",
    "type(a)"
   ]
  },
  {
   "cell_type": "code",
   "execution_count": null,
   "id": "8cd8eecb-85fa-482f-88a7-2dcbaded613a",
   "metadata": {},
   "outputs": [],
   "source": [
    "#characteristics of dictionaries"
   ]
  },
  {
   "cell_type": "code",
   "execution_count": 4,
   "id": "ead5ee1d-1235-4f4d-8ba2-a12278c7e3ec",
   "metadata": {},
   "outputs": [
    {
     "data": {
      "text/plain": [
       "{'name': 'vini', 'age': 21, 'city': 'banglore'}"
      ]
     },
     "execution_count": 4,
     "metadata": {},
     "output_type": "execute_result"
    }
   ],
   "source": [
    "#unordered\n",
    "my_dict={\"name\":\"vini\",\"age\":21,\"city\":\"banglore\"}\n",
    "my_dict"
   ]
  },
  {
   "cell_type": "code",
   "execution_count": 5,
   "id": "273f70d9-ccec-4ce0-be20-6ed182a9d51c",
   "metadata": {},
   "outputs": [
    {
     "data": {
      "text/plain": [
       "{'name': 'vini', 'age': 22, 'city': 'banglore'}"
      ]
     },
     "execution_count": 5,
     "metadata": {},
     "output_type": "execute_result"
    }
   ],
   "source": [
    "#mutable\n",
    "my_dict[\"age\"]=22\n",
    "my_dict"
   ]
  },
  {
   "cell_type": "code",
   "execution_count": 6,
   "id": "36c8dd71-d54c-4ddf-bbc8-5762d576aa90",
   "metadata": {},
   "outputs": [
    {
     "data": {
      "text/plain": [
       "{'name': 'vini', 'age': 66}"
      ]
     },
     "execution_count": 6,
     "metadata": {},
     "output_type": "execute_result"
    }
   ],
   "source": [
    "#unique keys\n",
    "my_dict={\"name\":\"vini\",\"age\":21,\"age\":25,\"age\":66}\n",
    "my_dict"
   ]
  },
  {
   "cell_type": "code",
   "execution_count": 7,
   "id": "e0e5a5d0-c6f5-4b20-b439-dfde86c90193",
   "metadata": {},
   "outputs": [
    {
     "data": {
      "text/plain": [
       "{(1, 2): 'point', 'name': 'alice'}"
      ]
     },
     "execution_count": 7,
     "metadata": {},
     "output_type": "execute_result"
    }
   ],
   "source": [
    "#immutable\n",
    "my_dic={(1,2):\"point\",\"name\":\"alice\"}\n",
    "my_dic"
   ]
  },
  {
   "cell_type": "code",
   "execution_count": null,
   "id": "febeab70-409c-4ed0-b659-9943681d1636",
   "metadata": {},
   "outputs": [],
   "source": [
    "#accessing a value by key"
   ]
  },
  {
   "cell_type": "code",
   "execution_count": 8,
   "id": "7ffd198f-39cb-4219-b8f4-f813d49d4c4f",
   "metadata": {},
   "outputs": [],
   "source": [
    "my_dict={\n",
    "    \"name\":'john',\n",
    "    \"age\":34,\n",
    "    \"hobbies\":\"reading\",\n",
    "    \"education\":\"degree\"\n",
    "}"
   ]
  },
  {
   "cell_type": "code",
   "execution_count": 9,
   "id": "498485a1-d231-48dd-bccb-7d46034d8703",
   "metadata": {},
   "outputs": [
    {
     "data": {
      "text/plain": [
       "34"
      ]
     },
     "execution_count": 9,
     "metadata": {},
     "output_type": "execute_result"
    }
   ],
   "source": [
    "my_dict[\"age\"]"
   ]
  },
  {
   "cell_type": "code",
   "execution_count": 10,
   "id": "74706865-8dd2-4048-b5a5-eb49d58c5a65",
   "metadata": {},
   "outputs": [
    {
     "data": {
      "text/plain": [
       "'degree'"
      ]
     },
     "execution_count": 10,
     "metadata": {},
     "output_type": "execute_result"
    }
   ],
   "source": [
    "my_dict[\"education\"]"
   ]
  },
  {
   "cell_type": "code",
   "execution_count": null,
   "id": "e26bd439-347a-44dd-9458-b327cfb0006b",
   "metadata": {},
   "outputs": [],
   "source": [
    "#using the get() method"
   ]
  },
  {
   "cell_type": "code",
   "execution_count": 12,
   "id": "1cc8789b-93c8-414a-94c9-4023e005c6f4",
   "metadata": {},
   "outputs": [
    {
     "data": {
      "text/plain": [
       "{'name': 'san', 'age': 25}"
      ]
     },
     "execution_count": 12,
     "metadata": {},
     "output_type": "execute_result"
    }
   ],
   "source": [
    "my_dic={\"name\":'san','age':25}\n",
    "my_dic"
   ]
  },
  {
   "cell_type": "code",
   "execution_count": 13,
   "id": "11ef8f4e-2969-4c8e-b397-04ab06cbe22f",
   "metadata": {},
   "outputs": [
    {
     "data": {
      "text/plain": [
       "25"
      ]
     },
     "execution_count": 13,
     "metadata": {},
     "output_type": "execute_result"
    }
   ],
   "source": [
    "my_dic.get(\"age\")"
   ]
  },
  {
   "cell_type": "code",
   "execution_count": 14,
   "id": "19e41d23-9f17-4b46-b0e7-bd11629007c5",
   "metadata": {},
   "outputs": [
    {
     "data": {
      "text/plain": [
       "'san'"
      ]
     },
     "execution_count": 14,
     "metadata": {},
     "output_type": "execute_result"
    }
   ],
   "source": [
    "my_dic.get(\"name\")"
   ]
  },
  {
   "cell_type": "code",
   "execution_count": 15,
   "id": "b207112a-ca93-4fa4-a5b3-64ca968cd66b",
   "metadata": {},
   "outputs": [
    {
     "name": "stdout",
     "output_type": "stream",
     "text": [
      "san\n",
      "None\n"
     ]
    }
   ],
   "source": [
    "print(my_dic.get(\"name\"))\n",
    "print(my_dic.get(\"city\"))"
   ]
  },
  {
   "cell_type": "code",
   "execution_count": null,
   "id": "dd7c429a-8058-4a09-ac9b-0b9caaf99017",
   "metadata": {},
   "outputs": [],
   "source": [
    "#accessing all keys"
   ]
  },
  {
   "cell_type": "code",
   "execution_count": 16,
   "id": "d36c93d2-96ce-46f5-a2fa-a32716a78f55",
   "metadata": {},
   "outputs": [
    {
     "data": {
      "text/plain": [
       "dict_keys(['name', 'age'])"
      ]
     },
     "execution_count": 16,
     "metadata": {},
     "output_type": "execute_result"
    }
   ],
   "source": [
    "my_dic.keys()"
   ]
  },
  {
   "cell_type": "code",
   "execution_count": 17,
   "id": "831e5637-c755-4eb7-8a4b-625ad52b7cdd",
   "metadata": {},
   "outputs": [],
   "source": [
    "my_dict={\"name\":\"san\",\"age\":21,\"city\":\"banglore\"}"
   ]
  },
  {
   "cell_type": "code",
   "execution_count": 18,
   "id": "47e63a05-5527-4aff-b65c-9fd1af9124ec",
   "metadata": {},
   "outputs": [
    {
     "data": {
      "text/plain": [
       "dict_keys(['name', 'age', 'city'])"
      ]
     },
     "execution_count": 18,
     "metadata": {},
     "output_type": "execute_result"
    }
   ],
   "source": [
    "my_dict.keys()"
   ]
  },
  {
   "cell_type": "code",
   "execution_count": null,
   "id": "2e5ee4f6-d830-438b-9aca-efd7cd6ea720",
   "metadata": {},
   "outputs": [],
   "source": [
    "#accessing all values"
   ]
  },
  {
   "cell_type": "code",
   "execution_count": 20,
   "id": "c20c8761-4cf8-4baa-a61f-292379877e93",
   "metadata": {},
   "outputs": [
    {
     "data": {
      "text/plain": [
       "dict_values(['san', 21, 'banglore'])"
      ]
     },
     "execution_count": 20,
     "metadata": {},
     "output_type": "execute_result"
    }
   ],
   "source": [
    "my_dict={\"name\":\"san\",\"age\":21,\"city\":\"banglore\"}\n",
    "my_dict.values()"
   ]
  },
  {
   "cell_type": "code",
   "execution_count": 21,
   "id": "f21d532d-8098-4c55-ae40-e76fbf9e87bf",
   "metadata": {},
   "outputs": [
    {
     "data": {
      "text/plain": [
       "dict_values(['san', 25])"
      ]
     },
     "execution_count": 21,
     "metadata": {},
     "output_type": "execute_result"
    }
   ],
   "source": [
    "my_dic.values()"
   ]
  },
  {
   "cell_type": "code",
   "execution_count": null,
   "id": "86c38956-16d5-4470-96ff-bd10dff7faa0",
   "metadata": {},
   "outputs": [],
   "source": [
    "#accessing all key-values pairs"
   ]
  },
  {
   "cell_type": "code",
   "execution_count": 22,
   "id": "59213049-9757-4af8-a414-96039736ffe4",
   "metadata": {},
   "outputs": [
    {
     "data": {
      "text/plain": [
       "{'name': 'san', 'age': 21, 'city': 'banglore'}"
      ]
     },
     "execution_count": 22,
     "metadata": {},
     "output_type": "execute_result"
    }
   ],
   "source": [
    "my_dict"
   ]
  },
  {
   "cell_type": "code",
   "execution_count": 23,
   "id": "dad89fb1-162e-4acf-8f4b-3326994a1a8f",
   "metadata": {},
   "outputs": [
    {
     "data": {
      "text/plain": [
       "dict_items([('name', 'san'), ('age', 21), ('city', 'banglore')])"
      ]
     },
     "execution_count": 23,
     "metadata": {},
     "output_type": "execute_result"
    }
   ],
   "source": [
    "my_dict.items()"
   ]
  },
  {
   "cell_type": "code",
   "execution_count": 26,
   "id": "0b57c0a2-4daa-4b12-93c3-164e3d67bb1b",
   "metadata": {},
   "outputs": [
    {
     "name": "stdout",
     "output_type": "stream",
     "text": [
      "name\n",
      "age\n",
      "city\n"
     ]
    }
   ],
   "source": [
    "#iterating over values\n",
    "my_dict={\"name\":\"san\",\"age\":21,\"city\":\"banglore\"}\n",
    "\n",
    "for i in my_dict:\n",
    "    print(i)"
   ]
  },
  {
   "cell_type": "code",
   "execution_count": 27,
   "id": "db016b24-d029-45b1-8b8a-1fb5eda7dce7",
   "metadata": {},
   "outputs": [
    {
     "name": "stdout",
     "output_type": "stream",
     "text": [
      "san\n",
      "21\n",
      "banglore\n"
     ]
    }
   ],
   "source": [
    "for j in my_dict.values():\n",
    "    print(j)"
   ]
  },
  {
   "cell_type": "code",
   "execution_count": 28,
   "id": "03a7eb9a-3012-4b43-80a2-7ef8c17edce3",
   "metadata": {},
   "outputs": [
    {
     "name": "stdout",
     "output_type": "stream",
     "text": [
      "name:san\n",
      "age:21\n",
      "city:banglore\n"
     ]
    }
   ],
   "source": [
    "for i,j in my_dict.items():\n",
    "    print(f\"{i}:{j}\")"
   ]
  },
  {
   "cell_type": "code",
   "execution_count": 29,
   "id": "5a14f2d7-8989-47c8-b6cf-42c1ef3afb06",
   "metadata": {},
   "outputs": [
    {
     "data": {
      "text/plain": [
       "{'person1': {'name': 'alice', 'age': 34, 'city': 'new york'},\n",
       " 'person2': {'name': 'john', 'age': 24, 'city': 'london'}}"
      ]
     },
     "execution_count": 29,
     "metadata": {},
     "output_type": "execute_result"
    }
   ],
   "source": [
    "nested_dict={ \n",
    "    \"person1\":{\n",
    "    \"name\":'alice',\n",
    "     \"age\":34,\n",
    "    \"city\":'new york'\n",
    "},\n",
    "    \"person2\":{\n",
    "        \"name\":'john',\n",
    "        \"age\":24,\n",
    "        \"city\":'london'\n",
    "    }\n",
    "}\n",
    "nested_dict"
   ]
  },
  {
   "cell_type": "code",
   "execution_count": null,
   "id": "06e91d57-585d-493b-a21d-9bce7df62599",
   "metadata": {},
   "outputs": [],
   "source": [
    "#accessing elements in a  nested dictionary"
   ]
  },
  {
   "cell_type": "code",
   "execution_count": 30,
   "id": "0032704f-6a20-43ea-9f43-38b0b5b68fed",
   "metadata": {},
   "outputs": [
    {
     "name": "stdout",
     "output_type": "stream",
     "text": [
      "alice\n"
     ]
    }
   ],
   "source": [
    "print(nested_dict['person1']['name'])"
   ]
  },
  {
   "cell_type": "code",
   "execution_count": 31,
   "id": "7376bc72-6a76-400a-b6c4-9002af858d72",
   "metadata": {},
   "outputs": [
    {
     "name": "stdout",
     "output_type": "stream",
     "text": [
      "london\n"
     ]
    }
   ],
   "source": [
    "print(nested_dict['person2']['city'])"
   ]
  },
  {
   "cell_type": "code",
   "execution_count": 32,
   "id": "e428791c-41e8-4b20-83d5-817ff80f50c1",
   "metadata": {},
   "outputs": [
    {
     "data": {
      "text/plain": [
       "{'person1': {'name': 'alice', 'age': 34, 'city': 'new york'},\n",
       " 'person2': {'name': 'john', 'age': 24, 'city': 'london'},\n",
       " 'person3': {'name': 'ali', 'age': 38, 'city': 'new delhi'}}"
      ]
     },
     "execution_count": 32,
     "metadata": {},
     "output_type": "execute_result"
    }
   ],
   "source": [
    "nested_dict[\"person3\"]={\n",
    "    \"name\":'ali',\n",
    "     \"age\":38,\n",
    "    \"city\":'new delhi'\n",
    "}\n",
    "nested_dict"
   ]
  },
  {
   "cell_type": "code",
   "execution_count": null,
   "id": "3b0d241d-5aac-415d-a0fb-1881c729d83f",
   "metadata": {},
   "outputs": [],
   "source": [
    "#modifying elements in a nested dictionary"
   ]
  },
  {
   "cell_type": "code",
   "execution_count": 33,
   "id": "db13e87f-2e0e-4f55-acd4-0e20a8e27ac7",
   "metadata": {},
   "outputs": [
    {
     "data": {
      "text/plain": [
       "{'person1': {'name': 'alice', 'age': 45, 'city': 'new york'},\n",
       " 'person2': {'name': 'john', 'age': 24, 'city': 'london'},\n",
       " 'person3': {'name': 'ali', 'age': 38, 'city': 'new delhi'}}"
      ]
     },
     "execution_count": 33,
     "metadata": {},
     "output_type": "execute_result"
    }
   ],
   "source": [
    "nested_dict['person1']['age']=45\n",
    "nested_dict"
   ]
  },
  {
   "cell_type": "code",
   "execution_count": 34,
   "id": "4b7e542b-c9b3-4fff-a1d0-a9f9c9cfd49b",
   "metadata": {},
   "outputs": [
    {
     "data": {
      "text/plain": [
       "{'name': 'grey', 'city': 'london', 'profession': 'software'}"
      ]
     },
     "execution_count": 34,
     "metadata": {},
     "output_type": "execute_result"
    }
   ],
   "source": [
    "#using del\n",
    "mydic={\n",
    "    'name':'grey',\n",
    "    'age':34,\n",
    "    'city':'london',\n",
    "    'profession':'software'\n",
    "}\n",
    "del mydic['age']\n",
    "mydic"
   ]
  },
  {
   "cell_type": "code",
   "execution_count": 35,
   "id": "1c048345-7a31-47ec-ac60-7f1029ed08e1",
   "metadata": {},
   "outputs": [
    {
     "data": {
      "text/plain": [
       "'london'"
      ]
     },
     "execution_count": 35,
     "metadata": {},
     "output_type": "execute_result"
    }
   ],
   "source": [
    "#pop\n",
    "mydic\n",
    "{'name': 'grey', 'city': 'london', 'profession': 'software'}\n",
    "a=mydic.pop('city')\n",
    "a"
   ]
  },
  {
   "cell_type": "code",
   "execution_count": 36,
   "id": "27a9b912-07e4-43aa-9b33-ba15a00e5b5e",
   "metadata": {},
   "outputs": [
    {
     "data": {
      "text/plain": [
       "{'name': 'grey', 'profession': 'software'}"
      ]
     },
     "execution_count": 36,
     "metadata": {},
     "output_type": "execute_result"
    }
   ],
   "source": [
    "mydic"
   ]
  },
  {
   "cell_type": "code",
   "execution_count": 40,
   "id": "f9ae6640-b074-4a14-91ea-0b1e082b0c30",
   "metadata": {},
   "outputs": [
    {
     "data": {
      "text/plain": [
       "('name', 'san')"
      ]
     },
     "execution_count": 40,
     "metadata": {},
     "output_type": "execute_result"
    }
   ],
   "source": [
    "#using popitem()\n",
    "my_dict.popitem()"
   ]
  },
  {
   "cell_type": "code",
   "execution_count": 41,
   "id": "dfb9abd9-377f-411f-b8d0-f0c1894360cc",
   "metadata": {},
   "outputs": [
    {
     "data": {
      "text/plain": [
       "{'name': 'san', 'age': 25}"
      ]
     },
     "execution_count": 41,
     "metadata": {},
     "output_type": "execute_result"
    }
   ],
   "source": [
    "#membership operator\n",
    "my_dic"
   ]
  },
  {
   "cell_type": "code",
   "execution_count": 42,
   "id": "2eb709bc-7024-47c5-b5fc-7495afe98e55",
   "metadata": {},
   "outputs": [
    {
     "data": {
      "text/plain": [
       "False"
      ]
     },
     "execution_count": 42,
     "metadata": {},
     "output_type": "execute_result"
    }
   ],
   "source": [
    "98 in my_dic"
   ]
  },
  {
   "cell_type": "code",
   "execution_count": 43,
   "id": "46c69e88-2b74-4d18-952d-f9a090e7b5c9",
   "metadata": {},
   "outputs": [
    {
     "data": {
      "text/plain": [
       "True"
      ]
     },
     "execution_count": 43,
     "metadata": {},
     "output_type": "execute_result"
    }
   ],
   "source": [
    "'name' in my_dic"
   ]
  },
  {
   "cell_type": "code",
   "execution_count": null,
   "id": "f0024d11-6014-4119-9def-8ca86423ed1c",
   "metadata": {},
   "outputs": [],
   "source": []
  }
 ],
 "metadata": {
  "kernelspec": {
   "display_name": "Python 3 (ipykernel)",
   "language": "python",
   "name": "python3"
  },
  "language_info": {
   "codemirror_mode": {
    "name": "ipython",
    "version": 3
   },
   "file_extension": ".py",
   "mimetype": "text/x-python",
   "name": "python",
   "nbconvert_exporter": "python",
   "pygments_lexer": "ipython3",
   "version": "3.12.7"
  }
 },
 "nbformat": 4,
 "nbformat_minor": 5
}
