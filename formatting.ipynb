{
 "cells": [
  {
   "cell_type": "code",
   "execution_count": 1,
   "id": "8b87f8d5-762e-498d-b4be-d11ce71f67bb",
   "metadata": {},
   "outputs": [
    {
     "name": "stdin",
     "output_type": "stream",
     "text": [
      "Please enter your name: sangeetha\n"
     ]
    },
    {
     "name": "stdout",
     "output_type": "stream",
     "text": [
      "Hello , sangeetha! Nice to meet you\n"
     ]
    }
   ],
   "source": [
    "def greet_user():\n",
    "    name=input(\"Please enter your name:\")\n",
    "    print(f\"Hello , {name}! Nice to meet you\")\n",
    "greet_user()    "
   ]
  },
  {
   "cell_type": "code",
   "execution_count": 2,
   "id": "a30eb856-3374-460f-807d-438b58e5513c",
   "metadata": {},
   "outputs": [],
   "source": [
    "def fun(name,age,gender):\n",
    "    print(f\"hello my name is {name},my age is {age},my gender is {gender}\")"
   ]
  },
  {
   "cell_type": "code",
   "execution_count": 3,
   "id": "56920750-264e-4bed-8abe-7e88fb414de2",
   "metadata": {},
   "outputs": [
    {
     "name": "stdout",
     "output_type": "stream",
     "text": [
      "hello my name is raju,my age is 23,my gender is male\n"
     ]
    }
   ],
   "source": [
    "fun(age=23,name='raju',gender='male')"
   ]
  },
  {
   "cell_type": "code",
   "execution_count": 4,
   "id": "1059a60c-87cb-49f2-b313-c0a95e5b8bf2",
   "metadata": {},
   "outputs": [
    {
     "ename": "NameError",
     "evalue": "name 'book_flight' is not defined",
     "output_type": "error",
     "traceback": [
      "\u001b[1;31m---------------------------------------------------------------------------\u001b[0m",
      "\u001b[1;31mNameError\u001b[0m                                 Traceback (most recent call last)",
      "Cell \u001b[1;32mIn[4], line 1\u001b[0m\n\u001b[1;32m----> 1\u001b[0m book_flight(departure\u001b[38;5;241m=\u001b[39m\u001b[38;5;124m'\u001b[39m\u001b[38;5;124mParis\u001b[39m\u001b[38;5;124m'\u001b[39m, destination\u001b[38;5;241m=\u001b[39m\u001b[38;5;124m'\u001b[39m\u001b[38;5;124mTokyo\u001b[39m\u001b[38;5;124m'\u001b[39m, seat_class\u001b[38;5;241m=\u001b[39m\u001b[38;5;124m'\u001b[39m\u001b[38;5;124mBusiness\u001b[39m\u001b[38;5;124m'\u001b[39m, meal_pref\u001b[38;5;241m=\u001b[39m\u001b[38;5;124m'\u001b[39m\u001b[38;5;124mVegetrian\u001b[39m\u001b[38;5;124m'\u001b[39m)\n",
      "\u001b[1;31mNameError\u001b[0m: name 'book_flight' is not defined"
     ]
    }
   ],
   "source": [
    "book_flight(departure='Paris', destination='Tokyo', seat_class='Business', meal_pref='Vegetrian')"
   ]
  },
  {
   "cell_type": "code",
   "execution_count": 5,
   "id": "6fcc8717-b246-4fcb-abb7-63eb739eb91c",
   "metadata": {},
   "outputs": [
    {
     "name": "stdout",
     "output_type": "stream",
     "text": [
      "addition: 12\n"
     ]
    }
   ],
   "source": [
    "#arbitrary positional arguments\n",
    "def add(*num):\n",
    "    v = num[0]+num[1]+num[2]\n",
    "    print (\"addition:\", v)\n",
    "add(5,7,0)    "
   ]
  },
  {
   "cell_type": "code",
   "execution_count": 6,
   "id": "159363f9-09c5-480f-9120-f8dc9a6ad239",
   "metadata": {},
   "outputs": [
    {
     "name": "stdout",
     "output_type": "stream",
     "text": [
      "20\n"
     ]
    }
   ],
   "source": [
    "def add_numbers(*a):\n",
    "    sum_value=sum(a)\n",
    "    print(sum_value)\n",
    "add_numbers(7,4,9)"
   ]
  },
  {
   "cell_type": "code",
   "execution_count": 7,
   "id": "cc92a613-373c-4379-80d7-ad40aa11d904",
   "metadata": {},
   "outputs": [
    {
     "name": "stdout",
     "output_type": "stream",
     "text": [
      "98\n"
     ]
    }
   ],
   "source": [
    "def find_max(*args):\n",
    "    return max(args)\n",
    "print(find_max(6,98,4,2,0,7))   "
   ]
  },
  {
   "cell_type": "code",
   "execution_count": 8,
   "id": "c3351d38-c7aa-4dfa-a26c-5760b1f4bba7",
   "metadata": {},
   "outputs": [
    {
     "data": {
      "text/plain": [
       "'Hello World !'"
      ]
     },
     "execution_count": 8,
     "metadata": {},
     "output_type": "execute_result"
    }
   ],
   "source": [
    "def concatenate_strings(*args):\n",
    "    return \" \".join(args)\n",
    "concatenate_strings(\"Hello\", \"World\", \"!\")    "
   ]
  },
  {
   "cell_type": "code",
   "execution_count": 9,
   "id": "a32723ac-91e2-42c9-9159-c235da759727",
   "metadata": {},
   "outputs": [
    {
     "name": "stdout",
     "output_type": "stream",
     "text": [
      "<class 'dict'>\n",
      "this is a key name this is a value kenn\n",
      "this is a key age this is a value 56\n"
     ]
    }
   ],
   "source": [
    "def func(**a):\n",
    "    print(type(a))\n",
    "    for i,j in a.items():\n",
    "        print(f\"this is a key {i} this is a value {j}\")\n",
    "func(name='kenn',age=56)"
   ]
  },
  {
   "cell_type": "code",
   "execution_count": null,
   "id": "dc1a8573-146f-4cd9-b98e-42f4ae21fdef",
   "metadata": {},
   "outputs": [],
   "source": [
    "#local variable\n",
    "#variables that are declared inside a function and can only accessed within that function"
   ]
  },
  {
   "cell_type": "code",
   "execution_count": null,
   "id": "884e3897-dad4-413c-a6dc-b7bcf17b6779",
   "metadata": {},
   "outputs": [],
   "source": [
    "#global variable\n",
    "#variables that are declared outside the function and can be accessed both inside and outside any function"
   ]
  },
  {
   "cell_type": "code",
   "execution_count": null,
   "id": "17c84840-e969-4436-b524-11bb106b5b13",
   "metadata": {},
   "outputs": [],
   "source": [
    "#nested function"
   ]
  },
  {
   "cell_type": "code",
   "execution_count": 10,
   "id": "1cf1a711-70a3-4a73-83b4-03c88d543e4a",
   "metadata": {},
   "outputs": [
    {
     "name": "stdout",
     "output_type": "stream",
     "text": [
      "first\n",
      "hello\n"
     ]
    }
   ],
   "source": [
    "def outer_func():\n",
    "    print('first')\n",
    "    def inner_func():\n",
    "        print('hello')\n",
    "    inner_func()\n",
    "outer_func()"
   ]
  },
  {
   "cell_type": "code",
   "execution_count": 11,
   "id": "80e34b95-e4ad-4b73-a20a-f045bfc8be51",
   "metadata": {},
   "outputs": [
    {
     "name": "stdout",
     "output_type": "stream",
     "text": [
      "hello,world!\n"
     ]
    }
   ],
   "source": [
    "def my_func():\n",
    "    print('hello,world!')\n",
    "my_func()"
   ]
  },
  {
   "cell_type": "code",
   "execution_count": 12,
   "id": "a629dad0-5cf3-454a-94dd-80337e7cffc4",
   "metadata": {},
   "outputs": [
    {
     "ename": "NameError",
     "evalue": "name 'my_func' is not defined",
     "output_type": "error",
     "traceback": [
      "\u001b[1;31m---------------------------------------------------------------------------\u001b[0m",
      "\u001b[1;31mNameError\u001b[0m                                 Traceback (most recent call last)",
      "Cell \u001b[1;32mIn[12], line 2\u001b[0m\n\u001b[0;32m      1\u001b[0m \u001b[38;5;28;01mdel\u001b[39;00m my_func\n\u001b[1;32m----> 2\u001b[0m my_func()\n",
      "\u001b[1;31mNameError\u001b[0m: name 'my_func' is not defined"
     ]
    }
   ],
   "source": [
    "del my_func\n",
    "my_func()"
   ]
  },
  {
   "cell_type": "code",
   "execution_count": null,
   "id": "b45295ed-b70d-4373-bf89-b7f4ebcebad9",
   "metadata": {},
   "outputs": [],
   "source": [
    "#lambda function in python is a small,anonymous function defined in the beginning"
   ]
  },
  {
   "cell_type": "code",
   "execution_count": 13,
   "id": "74142b43-c60e-487c-ac2c-e18531ab4427",
   "metadata": {},
   "outputs": [
    {
     "data": {
      "text/plain": [
       "112"
      ]
     },
     "execution_count": 13,
     "metadata": {},
     "output_type": "execute_result"
    }
   ],
   "source": [
    "ba=lambda a,b,c:a+b+c\n",
    "ba(45,65,2)"
   ]
  },
  {
   "cell_type": "code",
   "execution_count": 14,
   "id": "83d67c15-4da8-40f8-879b-2ceaa8e2cbdc",
   "metadata": {},
   "outputs": [
    {
     "data": {
      "text/plain": [
       "42"
      ]
     },
     "execution_count": 14,
     "metadata": {},
     "output_type": "execute_result"
    }
   ],
   "source": [
    "ab=lambda a,b:a*b\n",
    "ab(6,7)"
   ]
  },
  {
   "cell_type": "code",
   "execution_count": null,
   "id": "9d265346-62c1-4d64-b380-3c7b375d63f8",
   "metadata": {},
   "outputs": [],
   "source": []
  }
 ],
 "metadata": {
  "kernelspec": {
   "display_name": "Python 3 (ipykernel)",
   "language": "python",
   "name": "python3"
  },
  "language_info": {
   "codemirror_mode": {
    "name": "ipython",
    "version": 3
   },
   "file_extension": ".py",
   "mimetype": "text/x-python",
   "name": "python",
   "nbconvert_exporter": "python",
   "pygments_lexer": "ipython3",
   "version": "3.12.7"
  }
 },
 "nbformat": 4,
 "nbformat_minor": 5
}
