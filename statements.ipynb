{
 "cells": [
  {
   "cell_type": "code",
   "execution_count": null,
   "id": "0c56b9a3-dbf0-4798-88ed-da91f0495100",
   "metadata": {},
   "outputs": [],
   "source": [
    "#Boolean operator"
   ]
  },
  {
   "cell_type": "code",
   "execution_count": 1,
   "id": "1d7f9fb3-7699-40bb-9bda-d744f9a431db",
   "metadata": {},
   "outputs": [
    {
     "name": "stdout",
     "output_type": "stream",
     "text": [
      "has the student passed? True\n"
     ]
    }
   ],
   "source": [
    "score=75\n",
    "has_passed=(score>=60)\n",
    "print(\"has the student passed?\", has_passed)\n"
   ]
  },
  {
   "cell_type": "code",
   "execution_count": 2,
   "id": "b03f13b5-34db-4513-b68c-c7652ee4e039",
   "metadata": {},
   "outputs": [
    {
     "data": {
      "text/plain": [
       "True"
      ]
     },
     "execution_count": 2,
     "metadata": {},
     "output_type": "execute_result"
    }
   ],
   "source": [
    "(score>=60)"
   ]
  },
  {
   "cell_type": "code",
   "execution_count": 3,
   "id": "0b85bc39-b630-4051-913e-c464aa6862c4",
   "metadata": {},
   "outputs": [
    {
     "name": "stdout",
     "output_type": "stream",
     "text": [
      "a is cheaper\n"
     ]
    }
   ],
   "source": [
    "a=40\n",
    "b=50\n",
    "if(a<b):\n",
    "    print(\"a is cheaper\")\n",
    "else:\n",
    "    print(\"b is cheaper\")"
   ]
  },
  {
   "cell_type": "code",
   "execution_count": 4,
   "id": "e1b66672-1225-4670-8eba-10bc36167c3f",
   "metadata": {},
   "outputs": [
    {
     "data": {
      "text/plain": [
       "False"
      ]
     },
     "execution_count": 4,
     "metadata": {},
     "output_type": "execute_result"
    }
   ],
   "source": [
    "3>2 and 4>5\n",
    "True and False"
   ]
  },
  {
   "cell_type": "code",
   "execution_count": 5,
   "id": "434c488f-a690-45b8-9751-864842c114b8",
   "metadata": {},
   "outputs": [
    {
     "name": "stdout",
     "output_type": "stream",
     "text": [
      "0\n"
     ]
    }
   ],
   "source": [
    "a=5\n",
    "b=2\n",
    "result= a&b\n",
    "print(result)"
   ]
  },
  {
   "cell_type": "code",
   "execution_count": 6,
   "id": "5c8869a3-fa89-4c77-bfef-2c77697adc33",
   "metadata": {},
   "outputs": [
    {
     "data": {
      "text/plain": [
       "5"
      ]
     },
     "execution_count": 6,
     "metadata": {},
     "output_type": "execute_result"
    }
   ],
   "source": [
    "5&7"
   ]
  },
  {
   "cell_type": "code",
   "execution_count": 7,
   "id": "f05b0219-747c-4d27-a1e3-b73ac9225d43",
   "metadata": {},
   "outputs": [
    {
     "name": "stdout",
     "output_type": "stream",
     "text": [
      "14\n"
     ]
    }
   ],
   "source": [
    "a=2\n",
    "b=12\n",
    "result= a|b\n",
    "print(result)\n"
   ]
  },
  {
   "cell_type": "code",
   "execution_count": null,
   "id": "aabad915-4139-40c3-ae2c-5159d84f0734",
   "metadata": {},
   "outputs": [],
   "source": [
    "#membership operator"
   ]
  },
  {
   "cell_type": "code",
   "execution_count": null,
   "id": "def410eb-7d7b-4b62-9b02-3002c2a0938b",
   "metadata": {},
   "outputs": [],
   "source": [
    "#in\n"
   ]
  },
  {
   "cell_type": "code",
   "execution_count": 8,
   "id": "827b98dc-db21-4910-a516-8a83313de590",
   "metadata": {},
   "outputs": [
    {
     "name": "stdout",
     "output_type": "stream",
     "text": [
      "True\n"
     ]
    }
   ],
   "source": [
    "list=[1,2,3,4,5]\n",
    "print(3 in list)"
   ]
  },
  {
   "cell_type": "code",
   "execution_count": 9,
   "id": "8df16ea6-2c08-4c11-b669-b3eba525ba15",
   "metadata": {},
   "outputs": [
    {
     "name": "stdout",
     "output_type": "stream",
     "text": [
      "False\n"
     ]
    }
   ],
   "source": [
    "str=[2,4,5,6,7]\n",
    "print(1 in str)"
   ]
  },
  {
   "cell_type": "code",
   "execution_count": 10,
   "id": "27fd2ed3-1b81-498f-af49-4d0ca2c17656",
   "metadata": {},
   "outputs": [
    {
     "name": "stdout",
     "output_type": "stream",
     "text": [
      "True\n"
     ]
    }
   ],
   "source": [
    "#not in\n",
    "str=[1,3,2,4,5,8,9,6,7]\n",
    "print(1 in str)"
   ]
  },
  {
   "cell_type": "code",
   "execution_count": 11,
   "id": "350cbad4-5aa7-466c-9d36-d399c0d2bb00",
   "metadata": {},
   "outputs": [
    {
     "name": "stdout",
     "output_type": "stream",
     "text": [
      "True\n"
     ]
    }
   ],
   "source": [
    "str=\"hello\"\n",
    "print(\"python\" not in str)"
   ]
  },
  {
   "cell_type": "code",
   "execution_count": 12,
   "id": "3c34e4f5-85c8-414e-bcc0-c2c7226823f3",
   "metadata": {},
   "outputs": [
    {
     "name": "stdout",
     "output_type": "stream",
     "text": [
      "True\n"
     ]
    }
   ],
   "source": [
    "fruit=[\"apple\",\"banana\",\"kiwi\"]\n",
    "print(\"grape\" not in fruit)"
   ]
  },
  {
   "cell_type": "code",
   "execution_count": 13,
   "id": "b82c05f7-f81b-4e09-b074-67fcb53fed03",
   "metadata": {},
   "outputs": [
    {
     "name": "stdout",
     "output_type": "stream",
     "text": [
      "True\n"
     ]
    }
   ],
   "source": [
    "veggies=[\"tomato\",\"potato\",\"onion\",\"carrot\"]\n",
    "print(\"onion\" in veggies)"
   ]
  },
  {
   "cell_type": "code",
   "execution_count": 14,
   "id": "6cc18596-d82a-4cbe-8d33-c5fddd6dff00",
   "metadata": {},
   "outputs": [
    {
     "name": "stdout",
     "output_type": "stream",
     "text": [
      "False\n"
     ]
    }
   ],
   "source": [
    "str=\"wlcm to python\"\n",
    "print(\"java\" in str)"
   ]
  },
  {
   "cell_type": "code",
   "execution_count": 15,
   "id": "6b6e0e41-b86d-48d2-b5f3-38cbb03e230a",
   "metadata": {},
   "outputs": [
    {
     "name": "stdout",
     "output_type": "stream",
     "text": [
      "True\n"
     ]
    }
   ],
   "source": [
    "str=\"welc0me to python\"\n",
    "print(\"java\" not in str)"
   ]
  },
  {
   "cell_type": "code",
   "execution_count": null,
   "id": "483c6785-31a4-4af1-a50a-01948296fb2c",
   "metadata": {},
   "outputs": [],
   "source": [
    "#Introduction to Python Statements"
   ]
  },
  {
   "cell_type": "code",
   "execution_count": null,
   "id": "56e338ec-130d-4988-ab0f-cd2ae0b11894",
   "metadata": {},
   "outputs": [],
   "source": [
    "#if statement"
   ]
  },
  {
   "cell_type": "code",
   "execution_count": 17,
   "id": "583ffd9c-cf67-4989-a827-3f452123efac",
   "metadata": {},
   "outputs": [
    {
     "name": "stdout",
     "output_type": "stream",
     "text": [
      "i got it\n",
      "this will be printed\n"
     ]
    }
   ],
   "source": [
    "a=[1,2,3,4]\n",
    "if 1 in a:\n",
    "    print(\"i got it\")\n",
    "print(\"this will be printed\") "
   ]
  },
  {
   "cell_type": "code",
   "execution_count": 18,
   "id": "8a50ca4e-151a-40f6-a7c6-92c5b33fb74f",
   "metadata": {},
   "outputs": [
    {
     "name": "stdout",
     "output_type": "stream",
     "text": [
      "you are eligible to vote\n"
     ]
    }
   ],
   "source": [
    "age = 21\n",
    "if age>=18:\n",
    "    print(\"you are eligible to vote\")"
   ]
  },
  {
   "cell_type": "code",
   "execution_count": 19,
   "id": "dae6f327-0d1d-400c-a2e0-fc56e9b20c93",
   "metadata": {},
   "outputs": [
    {
     "data": {
      "text/plain": [
       "False"
      ]
     },
     "execution_count": 19,
     "metadata": {},
     "output_type": "execute_result"
    }
   ],
   "source": [
    "age=19\n",
    "age<=18"
   ]
  },
  {
   "cell_type": "code",
   "execution_count": 20,
   "id": "ba9a67ec-df80-4ee6-a654-9ddf36989bda",
   "metadata": {},
   "outputs": [
    {
     "name": "stdout",
     "output_type": "stream",
     "text": [
      "greater\n"
     ]
    }
   ],
   "source": [
    "if 8>2:\n",
    "    print (\"greater\")"
   ]
  },
  {
   "cell_type": "code",
   "execution_count": 21,
   "id": "ee026cba-e514-4184-b0da-2306978eccf9",
   "metadata": {},
   "outputs": [],
   "source": [
    "if 5<2:                                          #noting got printed\n",
    "    print (\"greater\")"
   ]
  },
  {
   "cell_type": "code",
   "execution_count": null,
   "id": "5a6a9c34-775c-4a76-9b23-56b2d2c984c3",
   "metadata": {},
   "outputs": [],
   "source": [
    "#if statment with logical operator"
   ]
  },
  {
   "cell_type": "code",
   "execution_count": 22,
   "id": "e6481472-37b4-4ddc-803d-1f480169ecbe",
   "metadata": {},
   "outputs": [
    {
     "name": "stdout",
     "output_type": "stream",
     "text": [
      "if statement with logical operator\n",
      "statement 2\n"
     ]
    }
   ],
   "source": [
    "if 5>2 or 7<3:\n",
    "    print(\"if statement with logical operator\")\n",
    "    print(\"statement 2\")"
   ]
  },
  {
   "cell_type": "code",
   "execution_count": 23,
   "id": "6aa59f86-1c50-447c-8f0a-78cc4fab26ea",
   "metadata": {},
   "outputs": [
    {
     "name": "stdout",
     "output_type": "stream",
     "text": [
      "if statement with logical operator\n",
      "statement 2\n"
     ]
    }
   ],
   "source": [
    "if 5>2 and 7>3:\n",
    "    print(\"if statement with logical operator\")\n",
    "    print(\"statement 2\")"
   ]
  },
  {
   "cell_type": "code",
   "execution_count": null,
   "id": "fc29b674-6d53-405c-8b11-f7e4c46ea5fe",
   "metadata": {},
   "outputs": [],
   "source": [
    "#if else"
   ]
  },
  {
   "cell_type": "code",
   "execution_count": 24,
   "id": "ce14b833-d058-4ae1-903e-31f17c854702",
   "metadata": {},
   "outputs": [
    {
     "name": "stdout",
     "output_type": "stream",
     "text": [
      "it's a cool day\n"
     ]
    }
   ],
   "source": [
    "temperature=30 \n",
    "if temperature < 25:\n",
    "    print(\"it's a hot day\")\n",
    "else:\n",
    "    print(\"it's a cool day\")"
   ]
  },
  {
   "cell_type": "code",
   "execution_count": null,
   "id": "c9bacb4a-72a1-4d5c-b513-d6b27c991d09",
   "metadata": {},
   "outputs": [],
   "source": [
    "#example problem"
   ]
  },
  {
   "cell_type": "code",
   "execution_count": 25,
   "id": "e492250f-03b8-446d-bcca-26388ecb503e",
   "metadata": {},
   "outputs": [
    {
     "name": "stdin",
     "output_type": "stream",
     "text": [
      "enter the number 5\n"
     ]
    },
    {
     "name": "stdout",
     "output_type": "stream",
     "text": [
      "the number is odd\n"
     ]
    }
   ],
   "source": [
    "num=int(input(\"enter the number\"))\n",
    "if num%2 == 0:\n",
    "    print(\"the number is even\")\n",
    "else:\n",
    "    print(\"the number is odd\")"
   ]
  },
  {
   "cell_type": "code",
   "execution_count": null,
   "id": "cdb64c81-9855-49e4-9d8b-e7159ea94443",
   "metadata": {},
   "outputs": [],
   "source": [
    "#if elif"
   ]
  },
  {
   "cell_type": "code",
   "execution_count": 26,
   "id": "e6941d80-347b-441b-8507-0042e4ac62c8",
   "metadata": {},
   "outputs": [
    {
     "name": "stdout",
     "output_type": "stream",
     "text": [
      "Grade D\n"
     ]
    }
   ],
   "source": [
    "marks=40\n",
    "if marks>= 90:\n",
    "    print('Grade A')\n",
    "elif marks>= 80:\n",
    "    print('Grade B')\n",
    "elif marks>= 70:\n",
    "    print('Grade C')\n",
    "else:\n",
    "    print('Grade D')\n"
   ]
  },
  {
   "cell_type": "code",
   "execution_count": 27,
   "id": "6e114182-97d3-411e-bac0-116915539957",
   "metadata": {},
   "outputs": [
    {
     "name": "stdout",
     "output_type": "stream",
     "text": [
      "Grade A\n",
      "Grade D\n"
     ]
    }
   ],
   "source": [
    "marks=65\n",
    "if marks>= 60:\n",
    "    print('Grade A')\n",
    "if marks>= 70:\n",
    "    print('Grade B')\n",
    "if marks>= 80:\n",
    "    print('Grade C')\n",
    "else:\n",
    "    print('Grade D')"
   ]
  },
  {
   "cell_type": "code",
   "execution_count": null,
   "id": "7d7da340-0e3c-4c28-9ef2-5ec1849d5495",
   "metadata": {},
   "outputs": [],
   "source": [
    "#nested if"
   ]
  },
  {
   "cell_type": "code",
   "execution_count": 28,
   "id": "7f0d3ce1-6143-4777-bde3-b6227cc47dea",
   "metadata": {},
   "outputs": [
    {
     "name": "stdout",
     "output_type": "stream",
     "text": [
      "the number is negative\n"
     ]
    }
   ],
   "source": [
    "number = -2\n",
    "if number>0:\n",
    "    print(\"the number is positive\")\n",
    "    if number % 2 ==0:\n",
    "        print(\"the number is even\")\n",
    "    else:\n",
    "        print(\"the number is odd\")\n",
    "else:\n",
    "    print(\"the number is negative\")"
   ]
  },
  {
   "cell_type": "code",
   "execution_count": 29,
   "id": "9a2f804a-d660-4485-a527-f023d34b6627",
   "metadata": {},
   "outputs": [
    {
     "name": "stdout",
     "output_type": "stream",
     "text": [
      "its freezing\n"
     ]
    }
   ],
   "source": [
    "temperature = -2\n",
    "\n",
    "if temperature < 0:\n",
    "    print(\"its freezing\")\n",
    "elif temperature>10:\n",
    "    print(\"its cold\")\n",
    "elif temperature>25:\n",
    "    print(\"its warm\")\n",
    "else:\n",
    "    print(\"its hot\")\n"
   ]
  },
  {
   "cell_type": "code",
   "execution_count": 30,
   "id": "7461f270-aac0-4a91-9737-ac298d9f57a6",
   "metadata": {},
   "outputs": [
    {
     "name": "stdout",
     "output_type": "stream",
     "text": [
      "weak password\n"
     ]
    }
   ],
   "source": [
    "password='123v'\n",
    "if len(password)<6:\n",
    "    print(\"weak password\")\n",
    "elif len(password)<=8:\n",
    "    print(\"moderate password\")\n",
    "else:\n",
    "    print(\"strong password\")"
   ]
  },
  {
   "cell_type": "code",
   "execution_count": 1,
   "id": "8763b655-7230-4c48-ab8f-4c3835196995",
   "metadata": {},
   "outputs": [
    {
     "name": "stdout",
     "output_type": "stream",
     "text": [
      "strong password\n"
     ]
    }
   ],
   "source": [
    "password = ('123viniii')              #practise\n",
    "if len(password)<6:\n",
    "    print('weak password')\n",
    "elif len(password)<8:\n",
    "    print('moderate password')\n",
    "else:\n",
    "    print('strong password')"
   ]
  },
  {
   "cell_type": "code",
   "execution_count": null,
   "id": "4e7226ba-21fd-495b-b7b1-be7b1fd79834",
   "metadata": {},
   "outputs": [],
   "source": [
    "#for loop"
   ]
  },
  {
   "cell_type": "code",
   "execution_count": null,
   "id": "56d3469d-4101-44bb-9434-37e0ae75a28c",
   "metadata": {},
   "outputs": [],
   "source": [
    "#syntax  \n",
    "#for varaible in sequence:"
   ]
  },
  {
   "cell_type": "code",
   "execution_count": 2,
   "id": "ae2f12d4-c942-4a98-9d89-703c905b9aa3",
   "metadata": {},
   "outputs": [
    {
     "name": "stdout",
     "output_type": "stream",
     "text": [
      "1\n",
      "2\n",
      "3\n",
      "4\n",
      "5\n",
      "6\n"
     ]
    }
   ],
   "source": [
    "a = (1,2,3,4,5,6)\n",
    "for i in a:\n",
    "    print(i)"
   ]
  },
  {
   "cell_type": "code",
   "execution_count": 4,
   "id": "8035c922-7742-4b85-8474-818d30ff92bf",
   "metadata": {},
   "outputs": [
    {
     "name": "stdout",
     "output_type": "stream",
     "text": [
      "apple\n",
      "cherry\n",
      "kiwi\n"
     ]
    }
   ],
   "source": [
    "fruits = ['apple','cherry','kiwi']\n",
    "for i in fruits:\n",
    "    print(i)\n"
   ]
  },
  {
   "cell_type": "code",
   "execution_count": 5,
   "id": "38190d13-eddc-403e-bb34-6f0dcc31eaf6",
   "metadata": {},
   "outputs": [
    {
     "name": "stdout",
     "output_type": "stream",
     "text": [
      "h\n",
      "e\n",
      "l\n",
      "l\n",
      "o\n"
     ]
    }
   ],
   "source": [
    "string='hello'\n",
    "for i in string:\n",
    "    print(i)"
   ]
  },
  {
   "cell_type": "code",
   "execution_count": 6,
   "id": "7b0034c0-d52f-4acd-9976-d0aec6b1d706",
   "metadata": {},
   "outputs": [
    {
     "name": "stdout",
     "output_type": "stream",
     "text": [
      "5\n",
      "6\n",
      "7\n",
      "8\n",
      "9\n"
     ]
    }
   ],
   "source": [
    "range(0,5)\n",
    "for i in range(5,10):\n",
    "    print(i)"
   ]
  },
  {
   "cell_type": "code",
   "execution_count": 7,
   "id": "55f45331-ed7f-49c7-a31b-e878d605cf65",
   "metadata": {},
   "outputs": [
    {
     "name": "stdout",
     "output_type": "stream",
     "text": [
      "1\n",
      "4\n",
      "7\n"
     ]
    }
   ],
   "source": [
    "for i in range(1,10,3):\n",
    "    print(i)"
   ]
  },
  {
   "cell_type": "code",
   "execution_count": 8,
   "id": "572bb87c-6bfc-40ff-aa04-9c2355fd283a",
   "metadata": {},
   "outputs": [
    {
     "name": "stdout",
     "output_type": "stream",
     "text": [
      "0\n",
      "1\n",
      "2\n",
      "3\n",
      "loop is finished\n"
     ]
    }
   ],
   "source": [
    "for i in range(4):\n",
    "    print (i)\n",
    "else:\n",
    "    print('loop is finished')"
   ]
  },
  {
   "cell_type": "code",
   "execution_count": 9,
   "id": "abdd1fea-0814-4183-bbbb-e6c0ad9b01ed",
   "metadata": {},
   "outputs": [
    {
     "name": "stdout",
     "output_type": "stream",
     "text": [
      "i=0,j=0\n",
      "i=0,j=1\n",
      "i=0,j=2\n",
      "i=1,j=0\n",
      "i=1,j=1\n",
      "i=1,j=2\n"
     ]
    }
   ],
   "source": [
    "for i in range(2):  \n",
    "    for j in range(3):    \n",
    "        print(f'i={i},j={j}')"
   ]
  },
  {
   "cell_type": "code",
   "execution_count": 10,
   "id": "3eeb146a-c462-4ad5-9682-caf95fd345c3",
   "metadata": {},
   "outputs": [
    {
     "name": "stdout",
     "output_type": "stream",
     "text": [
      "my name is sangeetha\n"
     ]
    }
   ],
   "source": [
    "name='sangeetha'\n",
    "print(f'my name is {name}')"
   ]
  },
  {
   "cell_type": "code",
   "execution_count": 11,
   "id": "aab59332-e1e0-43cf-be10-37884696745c",
   "metadata": {},
   "outputs": [
    {
     "name": "stdout",
     "output_type": "stream",
     "text": [
      "this is inner loop\n",
      "this is inner loop\n",
      "this is outer loop\n",
      "this is outer loop\n",
      "this is outer loop\n",
      "this is outer loop\n"
     ]
    }
   ],
   "source": [
    "for i in range(2):\n",
    "    print('this is inner loop')\n",
    "for j in range(4):\n",
    "    print('this is outer loop')"
   ]
  },
  {
   "cell_type": "code",
   "execution_count": 12,
   "id": "0f4eb954-e588-45d0-9e1a-aa6a5a47b810",
   "metadata": {},
   "outputs": [
    {
     "name": "stdout",
     "output_type": "stream",
     "text": [
      "0\n",
      "this is first\n",
      "this is second\n",
      "this is third\n",
      "1\n",
      "this is first\n",
      "this is second\n",
      "this is third\n",
      "2\n",
      "this is first\n",
      "this is second\n",
      "this is third\n"
     ]
    }
   ],
   "source": [
    "for i in range(3):\n",
    "    print(i)\n",
    "    print('this is first')\n",
    "    print('this is second')\n",
    "    print('this is third')\n",
    "    \n"
   ]
  },
  {
   "cell_type": "code",
   "execution_count": 13,
   "id": "28db7234-a48d-468c-9150-7717061d8422",
   "metadata": {},
   "outputs": [
    {
     "data": {
      "text/plain": [
       "4"
      ]
     },
     "execution_count": 13,
     "metadata": {},
     "output_type": "execute_result"
    }
   ],
   "source": [
    "a=[1,6,4]\n",
    "a[2]\n",
    "4"
   ]
  },
  {
   "cell_type": "code",
   "execution_count": 14,
   "id": "6634439e-4122-478e-a764-b0e6382325bf",
   "metadata": {},
   "outputs": [
    {
     "name": "stdout",
     "output_type": "stream",
     "text": [
      "0 = h\n",
      "1 = e\n",
      "2 = l\n",
      "3 = l\n",
      "4 = o\n"
     ]
    }
   ],
   "source": [
    "str='hello'\n",
    "n=len(str)\n",
    "for i in range(n): \n",
    "    print(i, '=',str[i])"
   ]
  },
  {
   "cell_type": "code",
   "execution_count": null,
   "id": "a5753ba9-ccd3-42be-8810-36aba0112ced",
   "metadata": {},
   "outputs": [],
   "source": [
    "#Break statemrent"
   ]
  },
  {
   "cell_type": "code",
   "execution_count": 15,
   "id": "c43017d9-a0be-4b2e-bc60-3651ba213d98",
   "metadata": {},
   "outputs": [
    {
     "name": "stdout",
     "output_type": "stream",
     "text": [
      "0\n",
      "1\n",
      "2\n",
      "3\n",
      "4\n",
      "5\n",
      "6\n",
      "for loop is stopped\n"
     ]
    }
   ],
   "source": [
    "for i in range(10):\n",
    "    if i==7:\n",
    "        break\n",
    "    print(i)  \n",
    "print('for loop is stopped')"
   ]
  },
  {
   "cell_type": "code",
   "execution_count": null,
   "id": "b885d014-6981-423d-b992-54ef9e0c786c",
   "metadata": {},
   "outputs": [],
   "source": [
    "#Continue"
   ]
  },
  {
   "cell_type": "code",
   "execution_count": 16,
   "id": "52bd8af4-285a-411a-8886-1244afefa828",
   "metadata": {},
   "outputs": [
    {
     "name": "stdout",
     "output_type": "stream",
     "text": [
      "0\n",
      "1\n",
      "2\n",
      "3\n",
      "4\n",
      "5\n",
      "6\n",
      "8\n",
      "9\n",
      "10\n",
      "11\n"
     ]
    }
   ],
   "source": [
    "for i in range(12):\n",
    "    if i==7:\n",
    "        continue\n",
    "    print(i)"
   ]
  },
  {
   "cell_type": "code",
   "execution_count": 17,
   "id": "692d23cf-da6e-4131-baf2-0aa9fc45f27d",
   "metadata": {},
   "outputs": [
    {
     "name": "stdout",
     "output_type": "stream",
     "text": [
      "list 4 found!\n"
     ]
    }
   ],
   "source": [
    "list=[1,2,3,4,5]\n",
    "target=4\n",
    "for list in list:\n",
    "    if list==target:\n",
    "        print(f'list {target} found!')\n",
    "        break\n",
    "        "
   ]
  },
  {
   "cell_type": "code",
   "execution_count": null,
   "id": "88cbc8b0-eb33-4bb3-89a8-d1019167e3b8",
   "metadata": {},
   "outputs": [],
   "source": []
  }
 ],
 "metadata": {
  "kernelspec": {
   "display_name": "Python 3 (ipykernel)",
   "language": "python",
   "name": "python3"
  },
  "language_info": {
   "codemirror_mode": {
    "name": "ipython",
    "version": 3
   },
   "file_extension": ".py",
   "mimetype": "text/x-python",
   "name": "python",
   "nbconvert_exporter": "python",
   "pygments_lexer": "ipython3",
   "version": "3.12.7"
  }
 },
 "nbformat": 4,
 "nbformat_minor": 5
}
