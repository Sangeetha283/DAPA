{
 "cells": [
  {
   "cell_type": "code",
   "execution_count": 2,
   "id": "ba1ee264-7ea5-4599-93e4-2f223fca5eb1",
   "metadata": {},
   "outputs": [
    {
     "name": "stdout",
     "output_type": "stream",
     "text": [
      "Average Temperatures: 70.0\n"
     ]
    }
   ],
   "source": [
    "#mean\n",
    "temperatures=np.array([76,98,34,90,33,89])\n",
    "average_temperature=np.mean(temperatures)\n",
    "print(\"Average Temperatures:\", average_temperature)"
   ]
  },
  {
   "cell_type": "code",
   "execution_count": 3,
   "id": "f740abc5-712f-42e9-956d-d9fad0d8c705",
   "metadata": {},
   "outputs": [],
   "source": [
    "#standard deviation\n",
    "classA=np.array([65,89,34,87,78])\n",
    "\n",
    "classB=np.array([70,88,85,95,100])"
   ]
  },
  {
   "cell_type": "code",
   "execution_count": 4,
   "id": "24ec9efd-8e71-46d9-b3f2-1ef084ca08a5",
   "metadata": {},
   "outputs": [
    {
     "data": {
      "text/plain": [
       "20.16531675922796"
      ]
     },
     "execution_count": 4,
     "metadata": {},
     "output_type": "execute_result"
    }
   ],
   "source": [
    "np.std(classA)\n"
   ]
  },
  {
   "cell_type": "code",
   "execution_count": 8,
   "id": "9f2e7308-8711-4224-b42a-faf49b11d2b5",
   "metadata": {},
   "outputs": [
    {
     "data": {
      "text/plain": [
       "10.248902380255165"
      ]
     },
     "execution_count": 8,
     "metadata": {},
     "output_type": "execute_result"
    }
   ],
   "source": [
    "np.std(classB)"
   ]
  },
  {
   "cell_type": "code",
   "execution_count": 6,
   "id": "5e201a95-5ebc-424d-a911-7ef7e23a142a",
   "metadata": {},
   "outputs": [
    {
     "data": {
      "text/plain": [
       "0.25"
      ]
     },
     "execution_count": 6,
     "metadata": {},
     "output_type": "execute_result"
    }
   ],
   "source": [
    "#variance\n",
    "prd_a=np.array([4,3])\n",
    "\n",
    "prd_b=np.array([2,8])\n",
    "np.var(prd_a)"
   ]
  },
  {
   "cell_type": "code",
   "execution_count": 7,
   "id": "1cd43aae-2ff2-45b0-99bd-8b3f04bad678",
   "metadata": {},
   "outputs": [
    {
     "data": {
      "text/plain": [
       "9.0"
      ]
     },
     "execution_count": 7,
     "metadata": {},
     "output_type": "execute_result"
    }
   ],
   "source": [
    "np.var(prd_b)"
   ]
  },
  {
   "cell_type": "code",
   "execution_count": 9,
   "id": "f41fac42-8a76-43d9-8245-c403776a356c",
   "metadata": {},
   "outputs": [
    {
     "name": "stdout",
     "output_type": "stream",
     "text": [
      "Min traffic: 1200\n",
      "Max traffic: 1800\n"
     ]
    }
   ],
   "source": [
    "#min and max\n",
    "daily_traffic=np.array([1200,1350,1480,1650,1800,1550,1680])\n",
    "print(\"Min traffic:\",np.min(daily_traffic))\n",
    "print(\"Max traffic:\",np.max(daily_traffic))"
   ]
  },
  {
   "cell_type": "code",
   "execution_count": 10,
   "id": "7f106080-1f51-4c3b-907b-b220c7c1cad5",
   "metadata": {},
   "outputs": [
    {
     "name": "stdout",
     "output_type": "stream",
     "text": [
      "Total Weekly Sales: 46100\n"
     ]
    }
   ],
   "source": [
    "#summation\n",
    "sales=np.array([5500,6200,4800,7200,6800,7500,8100])\n",
    "total_sales=np.sum(sales)\n",
    "print(\"Total Weekly Sales:\", total_sales)"
   ]
  },
  {
   "cell_type": "code",
   "execution_count": 11,
   "id": "869ab477-2573-43e0-98e4-b5eb9be2cbac",
   "metadata": {},
   "outputs": [
    {
     "name": "stdout",
     "output_type": "stream",
     "text": [
      "25th Percentile: 95.75\n",
      "50th Percentile (Median): 111.0\n",
      "75th Percentile: 124.5\n",
      "90th Percentile: 132.6\n"
     ]
    }
   ],
   "source": [
    "#percentile\n",
    "test_scores=np.array([\n",
    "    65,75,80,85,90,94,95,96,100,102,104,106,108,\n",
    "    110,112,114,116,118,120,122,124,126,128,130,132,134,136,138])\n",
    "print(\"25th Percentile:\",np.percentile(test_scores,25))\n",
    "print(\"50th Percentile (Median):\",np.percentile(test_scores,50))\n",
    "print(\"75th Percentile:\",np.percentile(test_scores,75))\n",
    "print(\"90th Percentile:\",np.percentile(test_scores,90))"
   ]
  },
  {
   "cell_type": "code",
   "execution_count": 12,
   "id": "f14c0b77-19f4-4cfb-9414-7c75a24d9ff8",
   "metadata": {},
   "outputs": [
    {
     "data": {
      "text/plain": [
       "array([1, 2, 3, 4, 5])"
      ]
     },
     "execution_count": 12,
     "metadata": {},
     "output_type": "execute_result"
    }
   ],
   "source": [
    "arr=np.array([1,2,3,4,5])\n",
    "np.save('Saved_array.npy',arr)\n",
    "arr"
   ]
  },
  {
   "cell_type": "code",
   "execution_count": 13,
   "id": "966df7dd-8085-45f9-86ce-71839d972a8b",
   "metadata": {},
   "outputs": [
    {
     "name": "stdout",
     "output_type": "stream",
     "text": [
      "[1 2 3 4 5]\n"
     ]
    }
   ],
   "source": [
    "loaded_arr=np.load('Saved_array.npy')\n",
    "print(loaded_arr)\n"
   ]
  },
  {
   "cell_type": "code",
   "execution_count": 15,
   "id": "a4732d5d-0868-4098-83c0-3916832335af",
   "metadata": {},
   "outputs": [],
   "source": [
    "arr=np.array([[1,2,3],[4,5,6]])\n",
    "np.savetxt('array.txt',arr)"
   ]
  },
  {
   "cell_type": "code",
   "execution_count": null,
   "id": "4783f9c5-cf03-40d4-abb6-4202f88fb465",
   "metadata": {},
   "outputs": [],
   "source": []
  }
 ],
 "metadata": {
  "kernelspec": {
   "display_name": "Python 3 (ipykernel)",
   "language": "python",
   "name": "python3"
  },
  "language_info": {
   "codemirror_mode": {
    "name": "ipython",
    "version": 3
   },
   "file_extension": ".py",
   "mimetype": "text/x-python",
   "name": "python",
   "nbconvert_exporter": "python",
   "pygments_lexer": "ipython3",
   "version": "3.12.7"
  }
 },
 "nbformat": 4,
 "nbformat_minor": 5
}
