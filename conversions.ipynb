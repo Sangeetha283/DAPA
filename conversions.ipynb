{
 "cells": [
  {
   "cell_type": "code",
   "execution_count": null,
   "id": "f0fd932c-71ba-4044-8d91-d8e0aa0b6c7e",
   "metadata": {},
   "outputs": [],
   "source": [
    "#Type Conversion"
   ]
  },
  {
   "cell_type": "code",
   "execution_count": 1,
   "id": "3e3a5e54-67e2-4f5c-b563-f27a169be9a4",
   "metadata": {},
   "outputs": [],
   "source": [
    "int_value=8"
   ]
  },
  {
   "cell_type": "code",
   "execution_count": 2,
   "id": "bce68542-670e-4018-8b0e-91269ccd0f21",
   "metadata": {},
   "outputs": [
    {
     "data": {
      "text/plain": [
       "int"
      ]
     },
     "execution_count": 2,
     "metadata": {},
     "output_type": "execute_result"
    }
   ],
   "source": [
    "type(int_value)"
   ]
  },
  {
   "cell_type": "code",
   "execution_count": null,
   "id": "98df962f-944f-4670-adab-8c2aebbc4352",
   "metadata": {},
   "outputs": [],
   "source": [
    "#convert int into float"
   ]
  },
  {
   "cell_type": "code",
   "execution_count": 3,
   "id": "3268a007-1956-4f5b-a09e-17a2e498bed7",
   "metadata": {},
   "outputs": [],
   "source": [
    "int_value = float(int_value)\n"
   ]
  },
  {
   "cell_type": "code",
   "execution_count": 4,
   "id": "100d2920-43e5-4d1d-8daf-2c579523b4a2",
   "metadata": {},
   "outputs": [
    {
     "data": {
      "text/plain": [
       "float"
      ]
     },
     "execution_count": 4,
     "metadata": {},
     "output_type": "execute_result"
    }
   ],
   "source": [
    "type(int_value)\n"
   ]
  },
  {
   "cell_type": "code",
   "execution_count": 5,
   "id": "5d6f6201-6dfa-4c61-b494-62a612c22384",
   "metadata": {},
   "outputs": [],
   "source": [
    "age_value=24"
   ]
  },
  {
   "cell_type": "code",
   "execution_count": 6,
   "id": "4231ce18-28fa-420a-8765-106daaea7309",
   "metadata": {},
   "outputs": [
    {
     "data": {
      "text/plain": [
       "int"
      ]
     },
     "execution_count": 6,
     "metadata": {},
     "output_type": "execute_result"
    }
   ],
   "source": [
    "type(age_value)"
   ]
  },
  {
   "cell_type": "code",
   "execution_count": 14,
   "id": "c4e7ae26-8d61-4317-9385-9bca5d1ab0b2",
   "metadata": {},
   "outputs": [],
   "source": [
    "int=25"
   ]
  },
  {
   "cell_type": "code",
   "execution_count": 15,
   "id": "4c46c7c1-a1e0-4f4b-8d5b-ed9c044245ec",
   "metadata": {},
   "outputs": [
    {
     "data": {
      "text/plain": [
       "int"
      ]
     },
     "execution_count": 15,
     "metadata": {},
     "output_type": "execute_result"
    }
   ],
   "source": [
    "type(int)"
   ]
  },
  {
   "cell_type": "code",
   "execution_count": 16,
   "id": "8f874c97-bedd-48c8-b3bd-daae428559e9",
   "metadata": {},
   "outputs": [],
   "source": [
    "int=float(int)"
   ]
  },
  {
   "cell_type": "code",
   "execution_count": 17,
   "id": "8a45da46-3cf1-43d8-9322-05da833d4a8b",
   "metadata": {},
   "outputs": [
    {
     "data": {
      "text/plain": [
       "float"
      ]
     },
     "execution_count": 17,
     "metadata": {},
     "output_type": "execute_result"
    }
   ],
   "source": [
    "type(int)"
   ]
  },
  {
   "cell_type": "code",
   "execution_count": 18,
   "id": "540669b6-86f8-4754-b08e-0924d6a8de62",
   "metadata": {},
   "outputs": [],
   "source": [
    "age_str='25'"
   ]
  },
  {
   "cell_type": "code",
   "execution_count": 19,
   "id": "36fbd6ab-0964-4412-a5de-f4bfadbf1339",
   "metadata": {},
   "outputs": [
    {
     "data": {
      "text/plain": [
       "str"
      ]
     },
     "execution_count": 19,
     "metadata": {},
     "output_type": "execute_result"
    }
   ],
   "source": [
    "type(age_str)"
   ]
  },
  {
   "cell_type": "code",
   "execution_count": null,
   "id": "04c4e658-825c-4d6c-a365-a10d056bf2dd",
   "metadata": {},
   "outputs": [],
   "source": [
    "age_str=\"25\"\n",
    "age_int=int(age_str)"
   ]
  },
  {
   "cell_type": "code",
   "execution_count": 20,
   "id": "585f9749-3911-44e4-88a7-e5e2aa7c5baa",
   "metadata": {},
   "outputs": [
    {
     "data": {
      "text/plain": [
       "str"
      ]
     },
     "execution_count": 20,
     "metadata": {},
     "output_type": "execute_result"
    }
   ],
   "source": [
    "type(age_str)"
   ]
  },
  {
   "cell_type": "code",
   "execution_count": 22,
   "id": "7b466af1-9e98-4879-b69d-0c59d56ca891",
   "metadata": {},
   "outputs": [],
   "source": [
    "number=10\n",
    "number_str=str(number) "
   ]
  },
  {
   "cell_type": "code",
   "execution_count": 23,
   "id": "b7a261f7-5b43-4782-bd60-3db2ec973c94",
   "metadata": {},
   "outputs": [
    {
     "data": {
      "text/plain": [
       "int"
      ]
     },
     "execution_count": 23,
     "metadata": {},
     "output_type": "execute_result"
    }
   ],
   "source": [
    "type(number)"
   ]
  },
  {
   "cell_type": "code",
   "execution_count": null,
   "id": "c63ede03-ec8d-42f0-9142-5139b9563880",
   "metadata": {},
   "outputs": [],
   "source": [
    "#implicit "
   ]
  },
  {
   "cell_type": "code",
   "execution_count": 24,
   "id": "b3eda733-d631-4f8a-bf90-764bea36a1b0",
   "metadata": {},
   "outputs": [
    {
     "name": "stdout",
     "output_type": "stream",
     "text": [
      "18.5\n"
     ]
    }
   ],
   "source": [
    "print(8+10.5)"
   ]
  },
  {
   "cell_type": "code",
   "execution_count": 25,
   "id": "65fffd20-0087-4832-af4b-f69e9594393b",
   "metadata": {},
   "outputs": [
    {
     "name": "stdout",
     "output_type": "stream",
     "text": [
      "<class 'int'> <class 'float'>\n"
     ]
    }
   ],
   "source": [
    "print(type(8),type(10.5))"
   ]
  },
  {
   "cell_type": "code",
   "execution_count": null,
   "id": "8486e4c9-efad-461c-a77b-74a60340dbbd",
   "metadata": {},
   "outputs": [],
   "source": [
    "#explict"
   ]
  },
  {
   "cell_type": "code",
   "execution_count": 28,
   "id": "d8a973f7-3c52-4b93-aa0f-fc09ff574eef",
   "metadata": {},
   "outputs": [],
   "source": [
    "a=11"
   ]
  },
  {
   "cell_type": "code",
   "execution_count": 29,
   "id": "414f9477-afd9-40da-98b6-5b75f99d8232",
   "metadata": {},
   "outputs": [],
   "source": [
    "b=str(a)"
   ]
  },
  {
   "cell_type": "code",
   "execution_count": 30,
   "id": "3e5d30de-c940-4950-9405-2fc21cc33c58",
   "metadata": {},
   "outputs": [
    {
     "data": {
      "text/plain": [
       "str"
      ]
     },
     "execution_count": 30,
     "metadata": {},
     "output_type": "execute_result"
    }
   ],
   "source": [
    "type(b)"
   ]
  },
  {
   "cell_type": "code",
   "execution_count": null,
   "id": "8d6bd0d7-de80-4a71-ada7-40cb70f9773d",
   "metadata": {},
   "outputs": [],
   "source": [
    "#syntax"
   ]
  },
  {
   "cell_type": "code",
   "execution_count": null,
   "id": "d2362d2b-589d-4401-8ed9-3fee31639db2",
   "metadata": {},
   "outputs": [],
   "source": [
    "#It refers to the set of rules that defines the structrure of valid statements and expressions in a programming language\n",
    "#correct syntax is essential for writing code that the interpreter or complier can understand"
   ]
  },
  {
   "cell_type": "code",
   "execution_count": null,
   "id": "87363bf4-1cd1-48db-aacf-1ea917a5d9b1",
   "metadata": {},
   "outputs": [],
   "source": [
    "#Literals\n",
    "#a literal is a fixed value that is directly written into the code and represents specific data"
   ]
  },
  {
   "cell_type": "code",
   "execution_count": null,
   "id": "42156284-b71d-4493-bad1-bda7b6799e27",
   "metadata": {},
   "outputs": [],
   "source": [
    "#Operators"
   ]
  },
  {
   "cell_type": "code",
   "execution_count": null,
   "id": "ba1f95e9-f27f-42d9-b67f-3f164be510ee",
   "metadata": {},
   "outputs": [],
   "source": [
    "#types of arithmetic operators:"
   ]
  },
  {
   "cell_type": "code",
   "execution_count": null,
   "id": "0ecb2087-3c41-414f-a593-5378f14b798e",
   "metadata": {},
   "outputs": [],
   "source": [
    "#Addition"
   ]
  },
  {
   "cell_type": "code",
   "execution_count": 31,
   "id": "08fbfad6-67b2-4489-85b9-df8f52e09a88",
   "metadata": {},
   "outputs": [
    {
     "data": {
      "text/plain": [
       "15"
      ]
     },
     "execution_count": 31,
     "metadata": {},
     "output_type": "execute_result"
    }
   ],
   "source": [
    "10+5"
   ]
  },
  {
   "cell_type": "code",
   "execution_count": 32,
   "id": "bc2acc92-bbaf-4812-83b9-efce83c1eca3",
   "metadata": {},
   "outputs": [],
   "source": [
    "a=56\n",
    "b=78"
   ]
  },
  {
   "cell_type": "code",
   "execution_count": 33,
   "id": "6235200a-e8e1-4a7a-9577-791c965ace16",
   "metadata": {},
   "outputs": [
    {
     "data": {
      "text/plain": [
       "134"
      ]
     },
     "execution_count": 33,
     "metadata": {},
     "output_type": "execute_result"
    }
   ],
   "source": [
    "a+b"
   ]
  },
  {
   "cell_type": "code",
   "execution_count": null,
   "id": "a15a6d43-4503-43fb-911e-91ed64685973",
   "metadata": {},
   "outputs": [],
   "source": [
    "#subtraction"
   ]
  },
  {
   "cell_type": "code",
   "execution_count": 34,
   "id": "b948992b-478a-4acb-a7d4-fc243a901ba4",
   "metadata": {},
   "outputs": [],
   "source": [
    "a=67\n",
    "b=45"
   ]
  },
  {
   "cell_type": "code",
   "execution_count": 35,
   "id": "c09ec4fc-264d-44b5-b160-2492decda32c",
   "metadata": {},
   "outputs": [
    {
     "data": {
      "text/plain": [
       "22"
      ]
     },
     "execution_count": 35,
     "metadata": {},
     "output_type": "execute_result"
    }
   ],
   "source": [
    "a-b"
   ]
  },
  {
   "cell_type": "code",
   "execution_count": null,
   "id": "744abf75-64ee-49e1-8c5d-59378d17c3ca",
   "metadata": {},
   "outputs": [],
   "source": [
    "#multiplication\n"
   ]
  },
  {
   "cell_type": "code",
   "execution_count": 36,
   "id": "5e3e8c0d-59b9-4e90-be04-5bd1ef1e054f",
   "metadata": {},
   "outputs": [],
   "source": [
    "a=5\n",
    "b=9"
   ]
  },
  {
   "cell_type": "code",
   "execution_count": 37,
   "id": "85ea2dfa-e4e1-4a3d-adfb-af1b98a8afa5",
   "metadata": {},
   "outputs": [
    {
     "data": {
      "text/plain": [
       "45"
      ]
     },
     "execution_count": 37,
     "metadata": {},
     "output_type": "execute_result"
    }
   ],
   "source": [
    "a*b"
   ]
  },
  {
   "cell_type": "code",
   "execution_count": null,
   "id": "b490d26e-d1b8-48c5-820e-7e039bc7c1a8",
   "metadata": {},
   "outputs": [],
   "source": [
    "#devision"
   ]
  },
  {
   "cell_type": "code",
   "execution_count": null,
   "id": "55820951-68fb-4fd8-af45-e04552766173",
   "metadata": {},
   "outputs": [],
   "source": [
    "a=13\n",
    "b=5"
   ]
  },
  {
   "cell_type": "code",
   "execution_count": 38,
   "id": "1645d31d-f0a5-41a8-b7aa-f9198fd467ca",
   "metadata": {},
   "outputs": [
    {
     "data": {
      "text/plain": [
       "0.5555555555555556"
      ]
     },
     "execution_count": 38,
     "metadata": {},
     "output_type": "execute_result"
    }
   ],
   "source": [
    "a/b"
   ]
  },
  {
   "cell_type": "code",
   "execution_count": null,
   "id": "c688a9a3-355c-4635-8e35-6f6f1c7697d3",
   "metadata": {},
   "outputs": [],
   "source": [
    "#floor division"
   ]
  },
  {
   "cell_type": "code",
   "execution_count": 40,
   "id": "3a50aad7-2c88-44e6-84cb-55d7dd43ee69",
   "metadata": {},
   "outputs": [],
   "source": [
    "results = 16/3"
   ]
  },
  {
   "cell_type": "code",
   "execution_count": 41,
   "id": "b4ad5a78-ec09-45e2-a34a-4023e8f3a519",
   "metadata": {},
   "outputs": [
    {
     "data": {
      "text/plain": [
       "5.333333333333333"
      ]
     },
     "execution_count": 41,
     "metadata": {},
     "output_type": "execute_result"
    }
   ],
   "source": [
    "results"
   ]
  },
  {
   "cell_type": "code",
   "execution_count": 43,
   "id": "b508f6ab-40f2-4d5b-9632-1889db79ac45",
   "metadata": {},
   "outputs": [],
   "source": [
    "results=16//3"
   ]
  },
  {
   "cell_type": "code",
   "execution_count": 44,
   "id": "c5f61f58-b8c2-4852-a51b-fd8c72683df8",
   "metadata": {},
   "outputs": [
    {
     "data": {
      "text/plain": [
       "5"
      ]
     },
     "execution_count": 44,
     "metadata": {},
     "output_type": "execute_result"
    }
   ],
   "source": [
    "results"
   ]
  },
  {
   "cell_type": "code",
   "execution_count": null,
   "id": "cb92adac-085f-4712-af6c-03c7234424cb",
   "metadata": {},
   "outputs": [],
   "source": [
    "#modulus"
   ]
  },
  {
   "cell_type": "code",
   "execution_count": 45,
   "id": "35d241c3-af7c-4929-b52d-e93af6d5c7e2",
   "metadata": {},
   "outputs": [],
   "source": [
    "results=10%3"
   ]
  },
  {
   "cell_type": "code",
   "execution_count": 46,
   "id": "f3ba8b7b-0abc-4fe2-a372-09b66a065d3a",
   "metadata": {},
   "outputs": [
    {
     "data": {
      "text/plain": [
       "1"
      ]
     },
     "execution_count": 46,
     "metadata": {},
     "output_type": "execute_result"
    }
   ],
   "source": [
    "results"
   ]
  },
  {
   "cell_type": "code",
   "execution_count": 47,
   "id": "639337bd-10da-49a5-9c78-c688583044a1",
   "metadata": {},
   "outputs": [
    {
     "data": {
      "text/plain": [
       "3.3333333333333335"
      ]
     },
     "execution_count": 47,
     "metadata": {},
     "output_type": "execute_result"
    }
   ],
   "source": [
    "10/3"
   ]
  },
  {
   "cell_type": "code",
   "execution_count": null,
   "id": "bcca78ae-9e8c-4846-9a27-3bb3b7cb1e97",
   "metadata": {},
   "outputs": [],
   "source": [
    "#exponentiation"
   ]
  },
  {
   "cell_type": "code",
   "execution_count": 52,
   "id": "d309a4d1-99ed-4fc6-aef0-044aff279b88",
   "metadata": {},
   "outputs": [],
   "source": [
    "results=2**3"
   ]
  },
  {
   "cell_type": "code",
   "execution_count": 53,
   "id": "e224a947-d3e5-4fc7-9551-e6835e7c98b8",
   "metadata": {},
   "outputs": [
    {
     "data": {
      "text/plain": [
       "8"
      ]
     },
     "execution_count": 53,
     "metadata": {},
     "output_type": "execute_result"
    }
   ],
   "source": [
    "results"
   ]
  },
  {
   "cell_type": "code",
   "execution_count": 54,
   "id": "03d9faf5-acc5-469a-891e-bc2c7622f80f",
   "metadata": {},
   "outputs": [
    {
     "data": {
      "text/plain": [
       "625"
      ]
     },
     "execution_count": 54,
     "metadata": {},
     "output_type": "execute_result"
    }
   ],
   "source": [
    "5**4"
   ]
  },
  {
   "cell_type": "code",
   "execution_count": null,
   "id": "de35aaad-b4cf-4679-a505-8add7ef3613d",
   "metadata": {},
   "outputs": [],
   "source": [
    "#combining arithmetic operators"
   ]
  },
  {
   "cell_type": "code",
   "execution_count": 57,
   "id": "803298e8-f1bb-4b16-8326-fb7bcd23d980",
   "metadata": {},
   "outputs": [],
   "source": [
    "a=5+3*2-8/4"
   ]
  },
  {
   "cell_type": "code",
   "execution_count": 58,
   "id": "1e9336fc-f6bc-4355-a1ff-30c6f1dbba30",
   "metadata": {},
   "outputs": [
    {
     "data": {
      "text/plain": [
       "9.0"
      ]
     },
     "execution_count": 58,
     "metadata": {},
     "output_type": "execute_result"
    }
   ],
   "source": [
    "a"
   ]
  },
  {
   "cell_type": "code",
   "execution_count": 60,
   "id": "589b2926-6ee4-4b62-ab5f-6aeb23ddb58b",
   "metadata": {},
   "outputs": [],
   "source": [
    "scores=(85+90+78+92+88)/5"
   ]
  },
  {
   "cell_type": "code",
   "execution_count": 61,
   "id": "a790ee27-838f-44ac-9530-9519075de04e",
   "metadata": {},
   "outputs": [
    {
     "data": {
      "text/plain": [
       "86.6"
      ]
     },
     "execution_count": 61,
     "metadata": {},
     "output_type": "execute_result"
    }
   ],
   "source": [
    "scores"
   ]
  },
  {
   "cell_type": "code",
   "execution_count": 62,
   "id": "d3a51a61-362d-4081-bc97-91fa3e9a55ef",
   "metadata": {},
   "outputs": [],
   "source": [
    "scores=[56,78,76,67,90]"
   ]
  },
  {
   "cell_type": "code",
   "execution_count": 63,
   "id": "e0daa994-d8ca-47c2-a99b-8e11faad4ed3",
   "metadata": {},
   "outputs": [],
   "source": [
    "total_scores=sum(scores)"
   ]
  },
  {
   "cell_type": "code",
   "execution_count": 64,
   "id": "a1dfd775-3794-44d8-8773-74c9ecb505f4",
   "metadata": {},
   "outputs": [
    {
     "data": {
      "text/plain": [
       "367"
      ]
     },
     "execution_count": 64,
     "metadata": {},
     "output_type": "execute_result"
    }
   ],
   "source": [
    "total_scores"
   ]
  },
  {
   "cell_type": "code",
   "execution_count": 65,
   "id": "8e068b7f-2bb6-432a-9f11-5067a69ae1e3",
   "metadata": {},
   "outputs": [
    {
     "data": {
      "text/plain": [
       "5"
      ]
     },
     "execution_count": 65,
     "metadata": {},
     "output_type": "execute_result"
    }
   ],
   "source": [
    "len(scores)"
   ]
  },
  {
   "cell_type": "code",
   "execution_count": 66,
   "id": "81fd0afc-4271-4996-bb2d-4348da65430c",
   "metadata": {},
   "outputs": [],
   "source": [
    "budget=1200\n",
    "spend=350\n",
    "utensils=150\n",
    "transportation=200\n",
    "remaining_budget=budget-(spend+utensils+transportation)"
   ]
  },
  {
   "cell_type": "code",
   "execution_count": 67,
   "id": "6bd5d161-ce49-44a0-b8c6-96409ca3eb06",
   "metadata": {},
   "outputs": [
    {
     "name": "stdout",
     "output_type": "stream",
     "text": [
      "Remaining_budget: 500\n"
     ]
    }
   ],
   "source": [
    "print(\"Remaining_budget:\",remaining_budget)"
   ]
  },
  {
   "cell_type": "code",
   "execution_count": 68,
   "id": "fede93af-679e-4d0b-be6e-3303442873cf",
   "metadata": {},
   "outputs": [],
   "source": [
    "book=23.75"
   ]
  },
  {
   "cell_type": "code",
   "execution_count": 69,
   "id": "ec16a952-4c27-4317-b409-45f4a09c0b8d",
   "metadata": {},
   "outputs": [],
   "source": [
    "pay=50"
   ]
  },
  {
   "cell_type": "code",
   "execution_count": 70,
   "id": "0434ad09-ed17-4b75-b05d-fe7b21948a34",
   "metadata": {},
   "outputs": [],
   "source": [
    "change=pay-book"
   ]
  },
  {
   "cell_type": "code",
   "execution_count": 71,
   "id": "b9de32b7-a478-4a19-8d82-61cb1405c9a3",
   "metadata": {},
   "outputs": [
    {
     "data": {
      "text/plain": [
       "26.25"
      ]
     },
     "execution_count": 71,
     "metadata": {},
     "output_type": "execute_result"
    }
   ],
   "source": [
    "change"
   ]
  },
  {
   "cell_type": "code",
   "execution_count": 72,
   "id": "bd6b1092-7168-4391-a642-0761d4f0883a",
   "metadata": {},
   "outputs": [
    {
     "data": {
      "text/plain": [
       "150"
      ]
     },
     "execution_count": 72,
     "metadata": {},
     "output_type": "execute_result"
    }
   ],
   "source": [
    "rectangle=10\n",
    "wide=15\n",
    "area=rectangle*wide\n",
    "area"
   ]
  },
  {
   "cell_type": "code",
   "execution_count": 73,
   "id": "d77567a5-f4cc-4104-8237-653bc2d2b34b",
   "metadata": {},
   "outputs": [
    {
     "data": {
      "text/plain": [
       "5"
      ]
     },
     "execution_count": 73,
     "metadata": {},
     "output_type": "execute_result"
    }
   ],
   "source": [
    "alice_age=25\n",
    "bob_age=30\n",
    "age_difference=(bob_age-alice_age)\n",
    "age_difference"
   ]
  },
  {
   "cell_type": "code",
   "execution_count": 74,
   "id": "50680ff5-2a2c-4155-89e6-2c2123d439db",
   "metadata": {},
   "outputs": [
    {
     "name": "stdout",
     "output_type": "stream",
     "text": [
      "profit= 50.0\n"
     ]
    }
   ],
   "source": [
    "item=120\n",
    "sold=180\n",
    "profit=sold-item\n",
    "profit=profit*100/item\n",
    "print(\"profit=\",profit)"
   ]
  },
  {
   "cell_type": "code",
   "execution_count": null,
   "id": "859e6bf7-e63c-4ede-bf35-416ad7278224",
   "metadata": {},
   "outputs": [],
   "source": []
  },
  {
   "cell_type": "code",
   "execution_count": null,
   "id": "1481517e-55bb-44b3-bd5e-e70bed37d63b",
   "metadata": {},
   "outputs": [],
   "source": []
  },
  {
   "cell_type": "code",
   "execution_count": null,
   "id": "de30b7db-88b0-402b-abda-28e4331ffa6a",
   "metadata": {},
   "outputs": [],
   "source": []
  },
  {
   "cell_type": "code",
   "execution_count": null,
   "id": "c7872011-5b67-4503-a967-13e00ea0a0ed",
   "metadata": {},
   "outputs": [],
   "source": []
  },
  {
   "cell_type": "code",
   "execution_count": null,
   "id": "a9141f2f-0195-4db0-8c00-4abff087f514",
   "metadata": {},
   "outputs": [],
   "source": []
  },
  {
   "cell_type": "code",
   "execution_count": null,
   "id": "72ecfc83-b087-4d16-a203-c1401a718abc",
   "metadata": {},
   "outputs": [],
   "source": []
  },
  {
   "cell_type": "code",
   "execution_count": null,
   "id": "9918eb8f-29ff-4514-ab7b-23d95bd09f74",
   "metadata": {},
   "outputs": [],
   "source": []
  }
 ],
 "metadata": {
  "kernelspec": {
   "display_name": "Python 3 (ipykernel)",
   "language": "python",
   "name": "python3"
  },
  "language_info": {
   "codemirror_mode": {
    "name": "ipython",
    "version": 3
   },
   "file_extension": ".py",
   "mimetype": "text/x-python",
   "name": "python",
   "nbconvert_exporter": "python",
   "pygments_lexer": "ipython3",
   "version": "3.12.7"
  }
 },
 "nbformat": 4,
 "nbformat_minor": 5
}
