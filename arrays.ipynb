{
 "cells": [
  {
   "cell_type": "code",
   "execution_count": 1,
   "id": "6416aaa5-345a-41ff-9dee-904d4306e4e4",
   "metadata": {},
   "outputs": [
    {
     "name": "stdout",
     "output_type": "stream",
     "text": [
      "Uniform Distridution:\n",
      " [[0.85073368 0.01274021 0.93085623]\n",
      " [0.07556603 0.41990163 0.38626909]\n",
      " [0.97820348 0.29915441 0.49331237]]\n"
     ]
    }
   ],
   "source": [
    "import numpy as np\n",
    "uniform=np.random.rand(3,3)\n",
    "print(\"Uniform Distridution:\\n\",uniform)"
   ]
  },
  {
   "cell_type": "code",
   "execution_count": 2,
   "id": "2ddebbcd-be44-412c-af59-49847ce5983e",
   "metadata": {},
   "outputs": [
    {
     "data": {
      "text/plain": [
       "(array([3, 4], dtype=int64),)"
      ]
     },
     "execution_count": 2,
     "metadata": {},
     "output_type": "execute_result"
    }
   ],
   "source": [
    "#searching in array where----returns the index value \n",
    "a=np.array([1,2,3,4,5])\n",
    "np.where(a>3)"
   ]
  },
  {
   "cell_type": "code",
   "execution_count": 3,
   "id": "80ce013b-1f17-4389-a068-8ce776fc27f8",
   "metadata": {},
   "outputs": [
    {
     "data": {
      "text/plain": [
       "(array([4], dtype=int64),)"
      ]
     },
     "execution_count": 3,
     "metadata": {},
     "output_type": "execute_result"
    }
   ],
   "source": [
    "np.where(a>4)"
   ]
  },
  {
   "cell_type": "code",
   "execution_count": 4,
   "id": "2ccf8750-cad2-4f21-8ce8-dc408a6616ac",
   "metadata": {},
   "outputs": [
    {
     "data": {
      "text/plain": [
       "(array([0], dtype=int64),)"
      ]
     },
     "execution_count": 4,
     "metadata": {},
     "output_type": "execute_result"
    }
   ],
   "source": [
    "np.where(a<2)"
   ]
  },
  {
   "cell_type": "code",
   "execution_count": 5,
   "id": "329fc901-4c3d-4460-9976-14fc15320ca0",
   "metadata": {},
   "outputs": [
    {
     "data": {
      "text/plain": [
       "4"
      ]
     },
     "execution_count": 5,
     "metadata": {},
     "output_type": "execute_result"
    }
   ],
   "source": [
    "np.argmax(a)"
   ]
  },
  {
   "cell_type": "code",
   "execution_count": 6,
   "id": "a14d670a-cf8c-4b2a-85af-a96ad79b41aa",
   "metadata": {},
   "outputs": [
    {
     "data": {
      "text/plain": [
       "0"
      ]
     },
     "execution_count": 6,
     "metadata": {},
     "output_type": "execute_result"
    }
   ],
   "source": [
    "np.argmin(a)"
   ]
  },
  {
   "cell_type": "code",
   "execution_count": 7,
   "id": "14d1e24a-75d0-4fa1-b315-2e32a32bffc4",
   "metadata": {},
   "outputs": [
    {
     "data": {
      "text/plain": [
       "3"
      ]
     },
     "execution_count": 7,
     "metadata": {},
     "output_type": "execute_result"
    }
   ],
   "source": [
    "#searchsorted\n",
    "sorted_arr=np.array([1,3,5,7])\n",
    "np.searchsorted(sorted_arr,6)"
   ]
  },
  {
   "cell_type": "code",
   "execution_count": 8,
   "id": "8e9bec8a-b46d-4bc7-97e5-583110c88e3b",
   "metadata": {},
   "outputs": [
    {
     "data": {
      "text/plain": [
       "2"
      ]
     },
     "execution_count": 8,
     "metadata": {},
     "output_type": "execute_result"
    }
   ],
   "source": [
    "np.searchsorted(sorted_arr,4)"
   ]
  },
  {
   "cell_type": "code",
   "execution_count": null,
   "id": "5d54d661-0dab-402a-a79e-f966b03f7ad0",
   "metadata": {},
   "outputs": [],
   "source": [
    "#extract --- retuns the value "
   ]
  },
  {
   "cell_type": "code",
   "execution_count": 9,
   "id": "619f1784-3fe8-4dc7-89d5-9df69b8567a9",
   "metadata": {},
   "outputs": [
    {
     "data": {
      "text/plain": [
       "array([4, 5])"
      ]
     },
     "execution_count": 9,
     "metadata": {},
     "output_type": "execute_result"
    }
   ],
   "source": [
    "np.extract(a>3,a)"
   ]
  },
  {
   "cell_type": "code",
   "execution_count": 10,
   "id": "f2caf0bb-2aee-47e2-86f1-64e81c5b032f",
   "metadata": {},
   "outputs": [
    {
     "data": {
      "text/plain": [
       "[[1, 2, 3], [4, 5, 6]]"
      ]
     },
     "execution_count": 10,
     "metadata": {},
     "output_type": "execute_result"
    }
   ],
   "source": [
    "#transpose\n",
    "matrix=([[1,2,3],[4,5,6]])\n",
    "matrix"
   ]
  },
  {
   "cell_type": "code",
   "execution_count": 20,
   "id": "c37588d5-d0a9-4309-ac86-fc3fe24e8dc8",
   "metadata": {},
   "outputs": [
    {
     "data": {
      "text/plain": [
       "array([[1, 4],\n",
       "       [2, 5],\n",
       "       [3, 6]])"
      ]
     },
     "execution_count": 20,
     "metadata": {},
     "output_type": "execute_result"
    }
   ],
   "source": [
    "np.transpose(matrix)"
   ]
  },
  {
   "cell_type": "code",
   "execution_count": 21,
   "id": "37810cf8-7445-40e0-8444-41e24423b23b",
   "metadata": {},
   "outputs": [
    {
     "name": "stdout",
     "output_type": "stream",
     "text": [
      "Mean Value 3.0\n"
     ]
    }
   ],
   "source": [
    "#mean\n",
    "print(\"Mean Value\",np.mean(a))"
   ]
  },
  {
   "cell_type": "code",
   "execution_count": 22,
   "id": "7abcc28a-8493-49ad-98ce-108437d4d23b",
   "metadata": {},
   "outputs": [
    {
     "data": {
      "text/plain": [
       "[array([1, 2, 3]), array([4, 5, 6])]"
      ]
     },
     "execution_count": 22,
     "metadata": {},
     "output_type": "execute_result"
    }
   ],
   "source": [
    "#splitting arrays\n",
    "#--equal parts split\n",
    "aa=np.array([1,2,3,4,5,6])\n",
    "np.split(aa,2)"
   ]
  },
  {
   "cell_type": "code",
   "execution_count": 23,
   "id": "b67f9951-aca7-4109-9d5f-0f3ea2e6d098",
   "metadata": {},
   "outputs": [
    {
     "data": {
      "text/plain": [
       "[array([1, 2]), array([3, 4]), array([5, 6])]"
      ]
     },
     "execution_count": 23,
     "metadata": {},
     "output_type": "execute_result"
    }
   ],
   "source": [
    "np.split(aa,3)"
   ]
  },
  {
   "cell_type": "code",
   "execution_count": 24,
   "id": "d622099b-438c-4387-a9c0-860f515f18f9",
   "metadata": {},
   "outputs": [],
   "source": [
    "#--split at specific positions"
   ]
  },
  {
   "cell_type": "code",
   "execution_count": 25,
   "id": "aa903b67-1dcb-4329-b869-2bc8bd591a0f",
   "metadata": {},
   "outputs": [
    {
     "data": {
      "text/plain": [
       "[array([1, 2]), array([3, 4]), array([5, 6])]"
      ]
     },
     "execution_count": 25,
     "metadata": {},
     "output_type": "execute_result"
    }
   ],
   "source": [
    "np.split(aa,[2,4])"
   ]
  },
  {
   "cell_type": "code",
   "execution_count": 27,
   "id": "640456d3-8fd0-498f-b9cf-675db5408adb",
   "metadata": {},
   "outputs": [
    {
     "data": {
      "text/plain": [
       "[array([[1],\n",
       "        [4]]),\n",
       " array([[2],\n",
       "        [5]]),\n",
       " array([[3],\n",
       "        [6]])]"
      ]
     },
     "execution_count": 27,
     "metadata": {},
     "output_type": "execute_result"
    }
   ],
   "source": [
    "#matrix\n",
    "mat=np.array([[1,2,3],\n",
    "              [4,5,6]])\n",
    "np.split(mat, 3,axis=1)"
   ]
  },
  {
   "cell_type": "code",
   "execution_count": 28,
   "id": "90b5bc94-185e-49ad-bc53-7a4611ddb8d7",
   "metadata": {},
   "outputs": [
    {
     "data": {
      "text/plain": [
       "[array([[1, 2, 3, 4]]), array([[5, 6, 7, 8]])]"
      ]
     },
     "execution_count": 28,
     "metadata": {},
     "output_type": "execute_result"
    }
   ],
   "source": [
    "matr=np.array([[1,2,3,4],\n",
    "              [5,6,7,8]])\n",
    "np.split(matr,2,axis=0)"
   ]
  },
  {
   "cell_type": "code",
   "execution_count": 29,
   "id": "808ce517-42ff-4962-8d17-4ffbbc16f876",
   "metadata": {},
   "outputs": [
    {
     "data": {
      "text/plain": [
       "array([1, 2, 3, 4])"
      ]
     },
     "execution_count": 29,
     "metadata": {},
     "output_type": "execute_result"
    }
   ],
   "source": [
    "ab=np.array([3,1,2,4])\n",
    "np.sort(ab)"
   ]
  },
  {
   "cell_type": "code",
   "execution_count": 30,
   "id": "852567f5-a0e1-4781-98ad-9a9ba425e007",
   "metadata": {},
   "outputs": [
    {
     "name": "stdout",
     "output_type": "stream",
     "text": [
      "sorted rows:\n",
      " [[1 2 3]\n",
      " [4 5 6]]\n"
     ]
    }
   ],
   "source": [
    "matt=np.array([[3,1,2],\n",
    "               [6,5,4]])\n",
    "print(\"sorted rows:\\n\",np.sort(matt,axis=1))"
   ]
  },
  {
   "cell_type": "code",
   "execution_count": 31,
   "id": "01745793-643e-4deb-a1c3-afb1433dbcc0",
   "metadata": {},
   "outputs": [
    {
     "name": "stdout",
     "output_type": "stream",
     "text": [
      "sorted columns:\n",
      " [[3 1 2]\n",
      " [6 5 4]]\n"
     ]
    }
   ],
   "source": [
    "print(\"sorted columns:\\n\",np.sort(matt,axis=0))"
   ]
  },
  {
   "cell_type": "code",
   "execution_count": 3,
   "id": "5645a9ea-cf8d-4c56-a7cf-5b1b30e5d07d",
   "metadata": {},
   "outputs": [],
   "source": [
    "import numpy as np\n"
   ]
  },
  {
   "cell_type": "code",
   "execution_count": 4,
   "id": "415ad97f-30a8-4d88-a335-accd51ab8a93",
   "metadata": {},
   "outputs": [],
   "source": [
    "arr=np.array([[1,2],\n",
    "              [3,4]])\n",
    "arr1=np.array([[5,6],\n",
    "              [3,4]])"
   ]
  },
  {
   "cell_type": "code",
   "execution_count": 5,
   "id": "28fe0cb3-ebea-4022-8914-277a1eda0c3d",
   "metadata": {},
   "outputs": [
    {
     "data": {
      "text/plain": [
       "array([[1, 2],\n",
       "       [3, 4],\n",
       "       [5, 6],\n",
       "       [3, 4]])"
      ]
     },
     "execution_count": 5,
     "metadata": {},
     "output_type": "execute_result"
    }
   ],
   "source": [
    "np.concatenate((arr,arr1),axis=0)"
   ]
  },
  {
   "cell_type": "code",
   "execution_count": 6,
   "id": "282e80dd-32a5-4fd1-9ebd-85323e7c89fa",
   "metadata": {},
   "outputs": [
    {
     "data": {
      "text/plain": [
       "array([[1, 2, 5, 6],\n",
       "       [3, 4, 3, 4]])"
      ]
     },
     "execution_count": 6,
     "metadata": {},
     "output_type": "execute_result"
    }
   ],
   "source": [
    "np.concatenate((arr,arr1),axis=1)"
   ]
  },
  {
   "cell_type": "code",
   "execution_count": 7,
   "id": "9b92ee78-37d5-4975-bf7e-b7f8693e4e82",
   "metadata": {},
   "outputs": [
    {
     "data": {
      "text/plain": [
       "array([[1, 2, 3],\n",
       "       [4, 5, 6]])"
      ]
     },
     "execution_count": 7,
     "metadata": {},
     "output_type": "execute_result"
    }
   ],
   "source": [
    "#stacks arrays vertically(row_wise)\n",
    "arr2=np.array([1,2,3])\n",
    "arr3=np.array([4,5,6])\n",
    "np.vstack((arr2, arr3))"
   ]
  },
  {
   "cell_type": "code",
   "execution_count": 8,
   "id": "66e826ab-c7ff-4b4e-ac1d-8b8c616615dd",
   "metadata": {},
   "outputs": [
    {
     "data": {
      "text/plain": [
       "array([1, 2, 3, 4])"
      ]
     },
     "execution_count": 8,
     "metadata": {},
     "output_type": "execute_result"
    }
   ],
   "source": [
    "a=np.array([1,2])\n",
    "b=np.array([3,4])\n",
    "np.hstack((a,b))"
   ]
  },
  {
   "cell_type": "code",
   "execution_count": null,
   "id": "cf871176-a596-434a-8646-b184d15f8325",
   "metadata": {},
   "outputs": [],
   "source": [
    "#filtering"
   ]
  },
  {
   "cell_type": "code",
   "execution_count": 9,
   "id": "f19f08c4-97d1-47e4-a746-85e1fb6849f2",
   "metadata": {},
   "outputs": [
    {
     "name": "stdout",
     "output_type": "stream",
     "text": [
      "Filtered element >3: [4 5 6]\n"
     ]
    }
   ],
   "source": [
    "import numpy as np\n",
    "aa=np.array([1,2,3,4,5,6])\n",
    "mask=aa>3\n",
    "filtered=aa[mask]\n",
    "print(\"Filtered element >3:\",filtered)"
   ]
  },
  {
   "cell_type": "code",
   "execution_count": 10,
   "id": "50fbe384-ecae-48f2-88b6-1326acf6af89",
   "metadata": {},
   "outputs": [
    {
     "data": {
      "text/plain": [
       "array([False, False,  True,  True,  True, False])"
      ]
     },
     "execution_count": 10,
     "metadata": {},
     "output_type": "execute_result"
    }
   ],
   "source": [
    "(aa>2)&(aa<6) #-------boolean"
   ]
  },
  {
   "cell_type": "code",
   "execution_count": 11,
   "id": "514f976a-fd5b-474e-b4fa-015fc124a301",
   "metadata": {},
   "outputs": [
    {
     "data": {
      "text/plain": [
       "array([3, 4, 5])"
      ]
     },
     "execution_count": 11,
     "metadata": {},
     "output_type": "execute_result"
    }
   ],
   "source": [
    "aa[(aa>2)&(aa<6)]    #------filtered"
   ]
  },
  {
   "cell_type": "code",
   "execution_count": 12,
   "id": "cc3dfd75-c544-4931-98c8-54c08829b487",
   "metadata": {},
   "outputs": [
    {
     "data": {
      "text/plain": [
       "array([1, 2, 3, 6])"
      ]
     },
     "execution_count": 12,
     "metadata": {},
     "output_type": "execute_result"
    }
   ],
   "source": [
    "aa[(aa<=3) | (aa>5)]"
   ]
  },
  {
   "cell_type": "code",
   "execution_count": 13,
   "id": "2916eb78-d5c9-4786-9a30-6406661690b3",
   "metadata": {},
   "outputs": [
    {
     "name": "stdout",
     "output_type": "stream",
     "text": [
      "Values > 20: [25 30 35]\n"
     ]
    }
   ],
   "source": [
    "matrix=np.array([\n",
    "    [10,15,20,],\n",
    "    [25,30,35]\n",
    "])\n",
    "print(\"Values > 20:\",matrix[matrix>20])"
   ]
  },
  {
   "cell_type": "code",
   "execution_count": 14,
   "id": "9131c73e-8ddc-4b45-9528-af63ed8913f2",
   "metadata": {},
   "outputs": [
    {
     "name": "stdout",
     "output_type": "stream",
     "text": [
      "Scores values>90: [92 95 94]\n"
     ]
    }
   ],
   "source": [
    "scores=np.array([85,92,78,88,95,72,89,94,68,90])\n",
    "print(\"Scores values>90:\",scores[scores>90])"
   ]
  },
  {
   "cell_type": "code",
   "execution_count": 15,
   "id": "a73792cf-1cb5-4a6f-93b4-24aab97a07fd",
   "metadata": {},
   "outputs": [
    {
     "data": {
      "text/plain": [
       "array([85, 92, 78, 88, 95, 72, 89, 94, 68, 90])"
      ]
     },
     "execution_count": 15,
     "metadata": {},
     "output_type": "execute_result"
    }
   ],
   "source": [
    "scores[(scores>70)  | (scores<80)]"
   ]
  },
  {
   "cell_type": "code",
   "execution_count": 16,
   "id": "e3ffc325-286f-4287-9aa5-d778d0661643",
   "metadata": {},
   "outputs": [
    {
     "data": {
      "text/plain": [
       "array([ 1,  2,  3,  4,  5,  6,  7,  8,  9, 10, 11, 12, 13, 14, 15])"
      ]
     },
     "execution_count": 16,
     "metadata": {},
     "output_type": "execute_result"
    }
   ],
   "source": [
    "import numpy as np\n",
    "ab=np.arange(1,16)\n",
    "ab"
   ]
  },
  {
   "cell_type": "code",
   "execution_count": 17,
   "id": "6910109e-3729-4efb-afa5-c26baa23148f",
   "metadata": {},
   "outputs": [
    {
     "data": {
      "text/plain": [
       "array([ 3,  6,  9, 12, 15])"
      ]
     },
     "execution_count": 17,
     "metadata": {},
     "output_type": "execute_result"
    }
   ],
   "source": [
    "ab[ab%3==0]    #------numbers that rae divisible by 3"
   ]
  },
  {
   "cell_type": "code",
   "execution_count": 18,
   "id": "54d5a29d-d4b3-4ee7-8c7b-e544a5b3c218",
   "metadata": {},
   "outputs": [
    {
     "data": {
      "text/plain": [
       "array([ 3,  6,  9, 12, 15])"
      ]
     },
     "execution_count": 18,
     "metadata": {},
     "output_type": "execute_result"
    }
   ],
   "source": [
    "ab[ab%3==0]    #------numbers that rae divisible by 3"
   ]
  },
  {
   "cell_type": "code",
   "execution_count": 19,
   "id": "3a8b0e67-9841-4851-9ba3-050035307d53",
   "metadata": {},
   "outputs": [
    {
     "data": {
      "text/plain": [
       "array([ 1,  3,  5,  7,  9, 11, 13, 15])"
      ]
     },
     "execution_count": 19,
     "metadata": {},
     "output_type": "execute_result"
    }
   ],
   "source": [
    "ab[ab%2!=0]    #-----odd numbers"
   ]
  },
  {
   "cell_type": "code",
   "execution_count": 20,
   "id": "156d3990-0fc6-4ffc-af0d-385fa230ea71",
   "metadata": {},
   "outputs": [
    {
     "data": {
      "text/plain": [
       "array([ 2,  4,  6,  8, 10, 12, 14])"
      ]
     },
     "execution_count": 20,
     "metadata": {},
     "output_type": "execute_result"
    }
   ],
   "source": [
    "ab[ab%2==0]    #----even numbers"
   ]
  },
  {
   "cell_type": "code",
   "execution_count": 21,
   "id": "b0575e58-6481-4c40-87d1-c5bba5612fec",
   "metadata": {},
   "outputs": [
    {
     "data": {
      "text/plain": [
       "array([25.6, 29.9, 27. ])"
      ]
     },
     "execution_count": 21,
     "metadata": {},
     "output_type": "execute_result"
    }
   ],
   "source": [
    "import numpy as np\n",
    "temp=np.array([22.5,19.0,25.6,21.4,29.9,18.6,23.1,27.0])\n",
    "temp[temp>24]"
   ]
  },
  {
   "cell_type": "code",
   "execution_count": 22,
   "id": "38eae5be-304f-4b8e-904d-ad609478daed",
   "metadata": {},
   "outputs": [
    {
     "data": {
      "text/plain": [
       "array([22.5, 25.6, 21.4, 23.1])"
      ]
     },
     "execution_count": 22,
     "metadata": {},
     "output_type": "execute_result"
    }
   ],
   "source": [
    "temp[(temp > 20)  & (temp < 26)]"
   ]
  },
  {
   "cell_type": "code",
   "execution_count": 23,
   "id": "3686a87a-4c66-4a21-a427-b38fc945a0c5",
   "metadata": {},
   "outputs": [
    {
     "data": {
      "text/plain": [
       "array([520, 800, 999, 720])"
      ]
     },
     "execution_count": 23,
     "metadata": {},
     "output_type": "execute_result"
    }
   ],
   "source": [
    "prices=np.array([250,499,520,310,800,999,450,720])\n",
    "prices[prices>500]"
   ]
  },
  {
   "cell_type": "code",
   "execution_count": null,
   "id": "cb3d91a6-c7b8-473c-a820-82744d9a6b31",
   "metadata": {},
   "outputs": [],
   "source": []
  }
 ],
 "metadata": {
  "kernelspec": {
   "display_name": "Python 3 (ipykernel)",
   "language": "python",
   "name": "python3"
  },
  "language_info": {
   "codemirror_mode": {
    "name": "ipython",
    "version": 3
   },
   "file_extension": ".py",
   "mimetype": "text/x-python",
   "name": "python",
   "nbconvert_exporter": "python",
   "pygments_lexer": "ipython3",
   "version": "3.12.7"
  }
 },
 "nbformat": 4,
 "nbformat_minor": 5
}
