{
 "cells": [
  {
   "cell_type": "code",
   "execution_count": 1,
   "id": "c6f919e4-6ed3-4626-9675-02ca4f23cf02",
   "metadata": {},
   "outputs": [
    {
     "name": "stdout",
     "output_type": "stream",
     "text": [
      "12\n",
      "14\n",
      "16\n",
      "18\n",
      "20\n",
      "22\n",
      "24\n",
      "26\n",
      "28\n"
     ]
    }
   ],
   "source": [
    "#for a list of numbers print only the ones that are both even and greater than 10\n",
    "for i in range(30):\n",
    "    if i%2==0 and i>10:\n",
    "        print(i)"
   ]
  },
  {
   "cell_type": "code",
   "execution_count": 2,
   "id": "4bd212b2-502d-486b-b3d7-b68b384d6b09",
   "metadata": {},
   "outputs": [
    {
     "name": "stdout",
     "output_type": "stream",
     "text": [
      "11 is a prime number\n",
      "13 is a prime number\n",
      "15 is a prime number\n",
      "17 is a prime number\n",
      "19 is a prime number\n",
      "21 is a prime number\n",
      "23 is a prime number\n",
      "25 is a prime number\n",
      "27 is a prime number\n",
      "29 is a prime number\n",
      "31 is a prime number\n",
      "33 is a prime number\n",
      "35 is a prime number\n",
      "37 is a prime number\n",
      "39 is a prime number\n",
      "41 is a prime number\n",
      "43 is a prime number\n",
      "45 is a prime number\n",
      "47 is a prime number\n",
      "49 is a prime number\n"
     ]
    }
   ],
   "source": [
    "for i in range(10,50):\n",
    "    if i%2!=0:\n",
    "        print(f'{i} is a prime number')"
   ]
  },
  {
   "cell_type": "code",
   "execution_count": 3,
   "id": "a4cc8d53-d0c5-4cd6-9f8d-806c1a466907",
   "metadata": {},
   "outputs": [
    {
     "name": "stdout",
     "output_type": "stream",
     "text": [
      "1\n",
      "2\n",
      "3\n"
     ]
    }
   ],
   "source": [
    "i = [1,2,3,4,5]\n",
    "for numbers in i:\n",
    "    if numbers == 4:\n",
    "        break\n",
    "    print(numbers)   "
   ]
  },
  {
   "cell_type": "code",
   "execution_count": 4,
   "id": "bf1c7ae0-65c8-4f74-b1ec-741947ab9163",
   "metadata": {},
   "outputs": [
    {
     "name": "stdout",
     "output_type": "stream",
     "text": [
      "1\n",
      "2\n",
      "3\n",
      "4\n",
      "6\n",
      "7\n"
     ]
    }
   ],
   "source": [
    "i=[1,2,3,4,5,6,7]\n",
    "for numbers in i:\n",
    "    if numbers == 5:\n",
    "        continue\n",
    "    print(numbers)  "
   ]
  },
  {
   "cell_type": "code",
   "execution_count": 5,
   "id": "f4c39d73-e7e3-49d5-a4db-3c6bcdf9c1c8",
   "metadata": {},
   "outputs": [
    {
     "name": "stdout",
     "output_type": "stream",
     "text": [
      "current number is: 10\n",
      "current number is: 8\n",
      "current number is: 6\n",
      "current number is: 4\n",
      "current number is: 2\n"
     ]
    }
   ],
   "source": [
    "#while\n",
    "number = 10\n",
    "while number>0:\n",
    "    print(\"current number is:\",number)\n",
    "    number-=2"
   ]
  },
  {
   "cell_type": "code",
   "execution_count": 6,
   "id": "24a93e13-0226-428f-8003-9d3d178e1e81",
   "metadata": {},
   "outputs": [
    {
     "name": "stdout",
     "output_type": "stream",
     "text": [
      "x is: 3\n",
      "x is: 2\n",
      "x is: 1\n",
      "loop has ended\n"
     ]
    }
   ],
   "source": [
    "x=3\n",
    "while x>0:\n",
    "    print(\"x is:\", x)\n",
    "    x-=1\n",
    "else:\n",
    "    print(\"loop has ended\")"
   ]
  },
  {
   "cell_type": "code",
   "execution_count": 7,
   "id": "c3044688-1030-4eb0-89d1-a61b45f56bc2",
   "metadata": {},
   "outputs": [
    {
     "name": "stdout",
     "output_type": "stream",
     "text": [
      "x is: 3\n",
      "x is: 2\n",
      "x is: 1\n",
      "loop has ended\n"
     ]
    }
   ],
   "source": [
    "#infinite while loop \n",
    "#if the condition in a while loop never becomes false, the loop continues indefinitely\n",
    "x=3\n",
    "while x>0:\n",
    "    print(\"x is:\", x)\n",
    "    x-=1\n",
    "else:\n",
    "    print(\"loop has ended\")"
   ]
  },
  {
   "cell_type": "code",
   "execution_count": 8,
   "id": "d50430df-d33f-4682-8182-25ea5be2a314",
   "metadata": {},
   "outputs": [
    {
     "data": {
      "text/plain": [
       "str"
      ]
     },
     "execution_count": 8,
     "metadata": {},
     "output_type": "execute_result"
    }
   ],
   "source": [
    "str=\"Good Evening\"\n",
    "type(str)"
   ]
  },
  {
   "cell_type": "code",
   "execution_count": 9,
   "id": "65e97e36-bb03-461d-821d-89bc58895bc8",
   "metadata": {},
   "outputs": [
    {
     "data": {
      "text/plain": [
       "12"
      ]
     },
     "execution_count": 9,
     "metadata": {},
     "output_type": "execute_result"
    }
   ],
   "source": [
    "len(str)"
   ]
  },
  {
   "cell_type": "code",
   "execution_count": 10,
   "id": "aadaf099-08a2-4b6d-ad26-2c9f6974c4fe",
   "metadata": {},
   "outputs": [
    {
     "data": {
      "text/plain": [
       "'n'"
      ]
     },
     "execution_count": 10,
     "metadata": {},
     "output_type": "execute_result"
    }
   ],
   "source": [
    "str[8]"
   ]
  },
  {
   "cell_type": "code",
   "execution_count": 11,
   "id": "bad0aaea-c7af-46ec-b7bf-b334c995d408",
   "metadata": {},
   "outputs": [
    {
     "data": {
      "text/plain": [
       "'g'"
      ]
     },
     "execution_count": 11,
     "metadata": {},
     "output_type": "execute_result"
    }
   ],
   "source": [
    "str[11]"
   ]
  },
  {
   "cell_type": "code",
   "execution_count": 12,
   "id": "631b6f55-dc70-4636-8185-a580130c21ad",
   "metadata": {},
   "outputs": [
    {
     "data": {
      "text/plain": [
       "'g'"
      ]
     },
     "execution_count": 12,
     "metadata": {},
     "output_type": "execute_result"
    }
   ],
   "source": [
    "str[-1]"
   ]
  },
  {
   "cell_type": "code",
   "execution_count": 13,
   "id": "16b5a44c-b13a-4194-8662-ec7585137d57",
   "metadata": {},
   "outputs": [
    {
     "data": {
      "text/plain": [
       "'pyth'"
      ]
     },
     "execution_count": 13,
     "metadata": {},
     "output_type": "execute_result"
    }
   ],
   "source": [
    "a=\"python programming\"\n",
    "a[0:4]\n"
   ]
  },
  {
   "cell_type": "code",
   "execution_count": 14,
   "id": "40480acb-c824-4bed-9a30-bef7a0d7883d",
   "metadata": {},
   "outputs": [
    {
     "data": {
      "text/plain": [
       "'n progr'"
      ]
     },
     "execution_count": 14,
     "metadata": {},
     "output_type": "execute_result"
    }
   ],
   "source": [
    "a[5:12]"
   ]
  },
  {
   "cell_type": "code",
   "execution_count": 15,
   "id": "8a711e80-0721-4cc4-9042-6d64548c1fa1",
   "metadata": {},
   "outputs": [
    {
     "data": {
      "text/plain": [
       "'pto r'"
      ]
     },
     "execution_count": 15,
     "metadata": {},
     "output_type": "execute_result"
    }
   ],
   "source": [
    "a[0:10:2]"
   ]
  },
  {
   "cell_type": "code",
   "execution_count": 16,
   "id": "c69c6b3c-9fd8-4ef9-b684-7337d004ef44",
   "metadata": {},
   "outputs": [
    {
     "data": {
      "text/plain": [
       "'python '"
      ]
     },
     "execution_count": 16,
     "metadata": {},
     "output_type": "execute_result"
    }
   ],
   "source": [
    "a[:7]"
   ]
  },
  {
   "cell_type": "code",
   "execution_count": 17,
   "id": "faafea77-4b1b-4b45-81d5-e430bce368e8",
   "metadata": {},
   "outputs": [
    {
     "data": {
      "text/plain": [
       "' programming'"
      ]
     },
     "execution_count": 17,
     "metadata": {},
     "output_type": "execute_result"
    }
   ],
   "source": [
    "a[6:]"
   ]
  },
  {
   "cell_type": "code",
   "execution_count": 18,
   "id": "c9f7f168-a188-40db-9057-6ff963f89800",
   "metadata": {},
   "outputs": [
    {
     "data": {
      "text/plain": [
       "'ammin'"
      ]
     },
     "execution_count": 18,
     "metadata": {},
     "output_type": "execute_result"
    }
   ],
   "source": [
    "a[-6:-1]"
   ]
  },
  {
   "cell_type": "code",
   "execution_count": 19,
   "id": "a597febc-71c2-444c-a12e-52b15eae28a3",
   "metadata": {},
   "outputs": [
    {
     "data": {
      "text/plain": [
       "'p'"
      ]
     },
     "execution_count": 19,
     "metadata": {},
     "output_type": "execute_result"
    }
   ],
   "source": [
    "a[-11]"
   ]
  },
  {
   "cell_type": "code",
   "execution_count": 20,
   "id": "527d8d24-3847-46b9-a62d-45c0f8ab4ddf",
   "metadata": {},
   "outputs": [
    {
     "name": "stdout",
     "output_type": "stream",
     "text": [
      "gnimmargorp nohtyp\n"
     ]
    }
   ],
   "source": [
    "reversed_a=a[::-1]\n",
    "print(reversed_a)"
   ]
  },
  {
   "cell_type": "code",
   "execution_count": 21,
   "id": "f2efdcca-3380-4409-8d85-098bfd22b154",
   "metadata": {},
   "outputs": [
    {
     "name": "stdout",
     "output_type": "stream",
     "text": [
      "programming\n"
     ]
    }
   ],
   "source": [
    "substring=a[7:]\n",
    "print(substring)"
   ]
  },
  {
   "cell_type": "code",
   "execution_count": 23,
   "id": "d78e9414-b264-4749-9665-33922b6ed79e",
   "metadata": {},
   "outputs": [
    {
     "data": {
      "text/plain": [
       "'hello san'"
      ]
     },
     "execution_count": 23,
     "metadata": {},
     "output_type": "execute_result"
    }
   ],
   "source": [
    "original_str='hello there'\n",
    "new_str=original_str.replace('there','san')\n",
    "new_str\n"
   ]
  },
  {
   "cell_type": "code",
   "execution_count": 24,
   "id": "6d33e522-241e-4060-b888-760615f51e76",
   "metadata": {},
   "outputs": [
    {
     "data": {
      "text/plain": [
       "'Myself san'"
      ]
     },
     "execution_count": 24,
     "metadata": {},
     "output_type": "execute_result"
    }
   ],
   "source": [
    "name='Myself Name'\n",
    "your_name=name.replace('Name','san')\n",
    "your_name"
   ]
  },
  {
   "cell_type": "code",
   "execution_count": 26,
   "id": "0b7f08f6-8a14-4010-a4fe-3af40035bbee",
   "metadata": {},
   "outputs": [],
   "source": [
    "x='hello'\n",
    "y='everybody'\n",
    "combined_string=x +\" \" + y"
   ]
  },
  {
   "cell_type": "code",
   "execution_count": 27,
   "id": "9f7a48ba-f051-4913-a32a-5f14fbf612cb",
   "metadata": {},
   "outputs": [
    {
     "data": {
      "text/plain": [
       "'hello everybody'"
      ]
     },
     "execution_count": 27,
     "metadata": {},
     "output_type": "execute_result"
    }
   ],
   "source": [
    "combined_string"
   ]
  },
  {
   "cell_type": "code",
   "execution_count": 28,
   "id": "3be8b562-1a94-42fe-ba09-a124c9a229ce",
   "metadata": {},
   "outputs": [
    {
     "name": "stdout",
     "output_type": "stream",
     "text": [
      "My name is ben  and im 17  years old \n"
     ]
    }
   ],
   "source": [
    "name='ben'\n",
    "age=17\n",
    "print(f\"My name is\",name,\" and im\" ,age, \" years old \" )"
   ]
  },
  {
   "cell_type": "code",
   "execution_count": 31,
   "id": "923c548e-9d93-4e40-aa97-a26383b5589c",
   "metadata": {},
   "outputs": [
    {
     "data": {
      "text/plain": [
       "'hello world'"
      ]
     },
     "execution_count": 31,
     "metadata": {},
     "output_type": "execute_result"
    }
   ],
   "source": [
    "my_str='hello world'\n",
    "my_str"
   ]
  },
  {
   "cell_type": "code",
   "execution_count": 32,
   "id": "1d38f170-ada6-41dc-9074-26c357e09fa8",
   "metadata": {},
   "outputs": [
    {
     "ename": "NameError",
     "evalue": "name 'my_str' is not defined",
     "output_type": "error",
     "traceback": [
      "\u001b[1;31m---------------------------------------------------------------------------\u001b[0m",
      "\u001b[1;31mNameError\u001b[0m                                 Traceback (most recent call last)",
      "Cell \u001b[1;32mIn[32], line 2\u001b[0m\n\u001b[0;32m      1\u001b[0m \u001b[38;5;28;01mdel\u001b[39;00m my_str\n\u001b[1;32m----> 2\u001b[0m my_str\n",
      "\u001b[1;31mNameError\u001b[0m: name 'my_str' is not defined"
     ]
    }
   ],
   "source": [
    "del my_str\n",
    "my_str"
   ]
  },
  {
   "cell_type": "code",
   "execution_count": 33,
   "id": "e2e38cda-7479-4afd-937c-d09acd307f1e",
   "metadata": {},
   "outputs": [
    {
     "data": {
      "text/plain": [
       "'123 546'"
      ]
     },
     "execution_count": 33,
     "metadata": {},
     "output_type": "execute_result"
    }
   ],
   "source": [
    "num='123'\n",
    "num1='546'\n",
    "concatination=num +\" \"+ num1\n",
    "concatination"
   ]
  },
  {
   "cell_type": "code",
   "execution_count": 34,
   "id": "0ac2d239-32e7-4299-836b-32754a4afae0",
   "metadata": {},
   "outputs": [
    {
     "name": "stdout",
     "output_type": "stream",
     "text": [
      "Concatenated_str: hello world\n"
     ]
    }
   ],
   "source": [
    "str1='hello'\n",
    "str2='world'\n",
    "concatenated_str=str1+' '+str2\n",
    "print('Concatenated_str:', concatenated_str)"
   ]
  },
  {
   "cell_type": "code",
   "execution_count": 35,
   "id": "45181a0a-24e7-4791-8ea0-53e9b8e724be",
   "metadata": {},
   "outputs": [
    {
     "name": "stdout",
     "output_type": "stream",
     "text": [
      "repeated string: hellohellohellohellohellohellohellohello\n"
     ]
    }
   ],
   "source": [
    "string = \"hello\"\n",
    "repeated_string = string*8\n",
    "print('repeated string:', repeated_string)\n"
   ]
  },
  {
   "cell_type": "code",
   "execution_count": 36,
   "id": "a8a8edb0-62e4-4d6a-9bef-cdb86408dcea",
   "metadata": {},
   "outputs": [
    {
     "name": "stdout",
     "output_type": "stream",
     "text": [
      "p\n",
      "y\n",
      "t\n",
      "h\n",
      "o\n",
      "n\n"
     ]
    }
   ],
   "source": [
    "text='python'\n",
    "for char in text:\n",
    "    print(char)"
   ]
  },
  {
   "cell_type": "code",
   "execution_count": null,
   "id": "be669257-0fb5-4108-ab79-581fa158925d",
   "metadata": {},
   "outputs": [],
   "source": [
    "text='programming'\n",
    "vowels='aeiou'\n",
    "count=0\n",
    "\n",
    "for char in text:\n",
    "    if char in vowels:\n",
    "        count +=1\n",
    "print('Number of vowels:',count)   "
   ]
  }
 ],
 "metadata": {
  "kernelspec": {
   "display_name": "Python 3 (ipykernel)",
   "language": "python",
   "name": "python3"
  },
  "language_info": {
   "codemirror_mode": {
    "name": "ipython",
    "version": 3
   },
   "file_extension": ".py",
   "mimetype": "text/x-python",
   "name": "python",
   "nbconvert_exporter": "python",
   "pygments_lexer": "ipython3",
   "version": "3.12.7"
  }
 },
 "nbformat": 4,
 "nbformat_minor": 5
}
