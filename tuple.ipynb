{
 "cells": [
  {
   "cell_type": "code",
   "execution_count": null,
   "id": "5520e8d9-5802-4829-83c3-3555dd99836b",
   "metadata": {},
   "outputs": [],
   "source": [
    "#tuple\n",
    "#ordered and not be changed"
   ]
  },
  {
   "cell_type": "code",
   "execution_count": 1,
   "id": "287ea27d-6ec0-443a-a462-d3c7b731d18c",
   "metadata": {},
   "outputs": [
    {
     "data": {
      "text/plain": [
       "('hello', 1)"
      ]
     },
     "execution_count": 1,
     "metadata": {},
     "output_type": "execute_result"
    }
   ],
   "source": [
    "t=(\"hello\",1,23,47,67.8,6,(1,2))\n",
    "t[0:2]"
   ]
  },
  {
   "cell_type": "code",
   "execution_count": 2,
   "id": "fecb04e5-da74-42c1-85b6-8385f04f216e",
   "metadata": {},
   "outputs": [
    {
     "data": {
      "text/plain": [
       "3"
      ]
     },
     "execution_count": 2,
     "metadata": {},
     "output_type": "execute_result"
    }
   ],
   "source": [
    "my_tuple=(1,2,3)\n",
    "my_tuple[2]"
   ]
  },
  {
   "cell_type": "code",
   "execution_count": 4,
   "id": "611590d4-0567-4d3c-b892-df05ff1c024f",
   "metadata": {},
   "outputs": [
    {
     "ename": "TypeError",
     "evalue": "'tuple' object does not support item assignment",
     "output_type": "error",
     "traceback": [
      "\u001b[1;31m---------------------------------------------------------------------------\u001b[0m",
      "\u001b[1;31mTypeError\u001b[0m                                 Traceback (most recent call last)",
      "Cell \u001b[1;32mIn[4], line 3\u001b[0m\n\u001b[0;32m      1\u001b[0m \u001b[38;5;66;03m#immutable\u001b[39;00m\n\u001b[0;32m      2\u001b[0m my_tuple\u001b[38;5;241m=\u001b[39m(\u001b[38;5;241m1\u001b[39m,\u001b[38;5;241m2\u001b[39m,\u001b[38;5;241m3\u001b[39m,\u001b[38;5;241m4\u001b[39m)\n\u001b[1;32m----> 3\u001b[0m my_tuple[\u001b[38;5;241m1\u001b[39m]\u001b[38;5;241m=\u001b[39m\u001b[38;5;241m7\u001b[39m\n",
      "\u001b[1;31mTypeError\u001b[0m: 'tuple' object does not support item assignment"
     ]
    }
   ],
   "source": [
    "#immutable\n",
    "my_tuple=(1,2,3,4)\n",
    "my_tuple[1]=7"
   ]
  },
  {
   "cell_type": "code",
   "execution_count": 5,
   "id": "e9ce4a0c-00f3-49d0-a1ee-7add9c8ed99b",
   "metadata": {},
   "outputs": [
    {
     "data": {
      "text/plain": [
       "(1, 2, 45.56, 'hello', (6, 3))"
      ]
     },
     "execution_count": 5,
     "metadata": {},
     "output_type": "execute_result"
    }
   ],
   "source": [
    "#heterogeneous\n",
    "my_tuple=(1,2,45.56,\"hello\",(6,3))\n",
    "my_tuple"
   ]
  },
  {
   "cell_type": "code",
   "execution_count": null,
   "id": "9458ffc2-07c0-422f-8a1e-f6b602b09cd1",
   "metadata": {},
   "outputs": [],
   "source": [
    "#indexing and slicing"
   ]
  },
  {
   "cell_type": "code",
   "execution_count": 6,
   "id": "377075fb-2222-4a00-a19b-dc2a12cf0d65",
   "metadata": {},
   "outputs": [
    {
     "name": "stdout",
     "output_type": "stream",
     "text": [
      "35\n",
      "(56, 35, 97)\n"
     ]
    }
   ],
   "source": [
    "my_value=(12,56,35,97,8,6)\n",
    "print(my_value[2])\n",
    "print(my_value[1:4])"
   ]
  },
  {
   "cell_type": "code",
   "execution_count": null,
   "id": "dbf98c84-509d-466a-869b-4ca165e6b0a6",
   "metadata": {},
   "outputs": [],
   "source": [
    "#packing and unpacking"
   ]
  },
  {
   "cell_type": "code",
   "execution_count": 7,
   "id": "deb4796e-6f8f-4fd1-af15-79c83be5302e",
   "metadata": {},
   "outputs": [
    {
     "name": "stdout",
     "output_type": "stream",
     "text": [
      "(1, 2, 3)\n"
     ]
    }
   ],
   "source": [
    "my_tuple=1,2,3\n",
    "print(my_tuple)              #packing"
   ]
  },
  {
   "cell_type": "code",
   "execution_count": 8,
   "id": "42a61091-e4fd-4c3d-999a-32cedaf40118",
   "metadata": {},
   "outputs": [
    {
     "name": "stdout",
     "output_type": "stream",
     "text": [
      "1\n",
      "2\n",
      "3\n"
     ]
    }
   ],
   "source": [
    "a,b,c=my_tuple\n",
    "a,b,c=my_tuple\n",
    "print(a)\n",
    "print(b)\n",
    "print(c)"
   ]
  },
  {
   "cell_type": "code",
   "execution_count": 9,
   "id": "602d9d90-1684-44a4-be32-b264a5917b69",
   "metadata": {},
   "outputs": [
    {
     "name": "stdout",
     "output_type": "stream",
     "text": [
      "('john', 24, 'engineer')\n"
     ]
    }
   ],
   "source": [
    "person=(\"john\",24,\"engineer\")\n",
    "print(person)"
   ]
  },
  {
   "cell_type": "code",
   "execution_count": 10,
   "id": "cc434c36-7cec-41e3-ae6f-058e628ad109",
   "metadata": {},
   "outputs": [
    {
     "name": "stdout",
     "output_type": "stream",
     "text": [
      "10 20 30\n"
     ]
    }
   ],
   "source": [
    "coordinates=(10,20,30)\n",
    "x=coordinates[0]\n",
    "y=coordinates[1]\n",
    "z=coordinates[2]\n",
    "print(x,y,z)"
   ]
  },
  {
   "cell_type": "code",
   "execution_count": 11,
   "id": "c3c63764-2ca3-4795-8afa-afc1ea75f919",
   "metadata": {},
   "outputs": [
    {
     "data": {
      "text/plain": [
       "2"
      ]
     },
     "execution_count": 11,
     "metadata": {},
     "output_type": "execute_result"
    }
   ],
   "source": [
    "nested_tuple=(1,(2,3),(4,(5,6)))\n",
    "nested_tuple[1][0]"
   ]
  },
  {
   "cell_type": "code",
   "execution_count": 12,
   "id": "0dcb17b0-6a4d-4a48-b35a-8d2b1fc5420e",
   "metadata": {},
   "outputs": [
    {
     "data": {
      "text/plain": [
       "(5, 6)"
      ]
     },
     "execution_count": 12,
     "metadata": {},
     "output_type": "execute_result"
    }
   ],
   "source": [
    "nested_tuple[2][1]"
   ]
  },
  {
   "cell_type": "code",
   "execution_count": 13,
   "id": "0d70eb4e-7952-40c9-a2bf-7b577dd7fc2f",
   "metadata": {},
   "outputs": [
    {
     "name": "stdout",
     "output_type": "stream",
     "text": [
      "('bana', 'cherry')\n",
      "('apple', 'bana', 'cherry', 'grapes')\n",
      "('cherry', 'grapes', 'mango')\n",
      "('apple', 'bana')\n"
     ]
    }
   ],
   "source": [
    "my_tuple=('apple','bana','cherry','grapes','mango')\n",
    "slice_1=my_tuple[1:3]\n",
    "slice_2=my_tuple[:4]\n",
    "slice_3=my_tuple[2:]\n",
    "slice_4=my_tuple[:-3]\n",
    "print(slice_1)\n",
    "print(slice_2)\n",
    "print(slice_3)\n",
    "print(slice_4)\n"
   ]
  },
  {
   "cell_type": "code",
   "execution_count": 14,
   "id": "612e2b47-53a8-4c19-a9e8-45c75c358492",
   "metadata": {},
   "outputs": [
    {
     "data": {
      "text/plain": [
       "'cherry'"
      ]
     },
     "execution_count": 14,
     "metadata": {},
     "output_type": "execute_result"
    }
   ],
   "source": [
    "my_fruits=('apple','bana','cherry','grapes','mango')\n",
    "my_fruits[2]"
   ]
  },
  {
   "cell_type": "code",
   "execution_count": 15,
   "id": "93800ba6-bd32-4cfc-8d17-ce1b463e5f3f",
   "metadata": {},
   "outputs": [
    {
     "data": {
      "text/plain": [
       "(10, 20, 30)"
      ]
     },
     "execution_count": 15,
     "metadata": {},
     "output_type": "execute_result"
    }
   ],
   "source": [
    "no=(10,20,30,40,50)\n",
    "new_tuple=no[:3]\n",
    "new_tuple"
   ]
  },
  {
   "cell_type": "code",
   "execution_count": 16,
   "id": "b7c776f0-f647-4780-ba5d-3449ed221bee",
   "metadata": {},
   "outputs": [
    {
     "name": "stdout",
     "output_type": "stream",
     "text": [
      "yellow\n",
      "black\n"
     ]
    }
   ],
   "source": [
    "colors=('red','blue','black','green','yellow')\n",
    "print(colors[-1])\n",
    "print(colors[-3])"
   ]
  },
  {
   "cell_type": "code",
   "execution_count": 17,
   "id": "83894dfa-caff-45da-a87e-65505e40e215",
   "metadata": {},
   "outputs": [
    {
     "data": {
      "text/plain": [
       "5"
      ]
     },
     "execution_count": 17,
     "metadata": {},
     "output_type": "execute_result"
    }
   ],
   "source": [
    "nested_tuple=(1,(2,3),(4,(5,6),7,8))\n",
    "nested_tuple[2][1][0]"
   ]
  },
  {
   "cell_type": "code",
   "execution_count": 18,
   "id": "bed27905-f5df-4abc-9101-3582116bfd7b",
   "metadata": {},
   "outputs": [
    {
     "data": {
      "text/plain": [
       "5"
      ]
     },
     "execution_count": 18,
     "metadata": {},
     "output_type": "execute_result"
    }
   ],
   "source": [
    "nested_tuple=(1,(2,3),(4,(5,6),7,8))\n",
    "nested_tuple[2][1][0]"
   ]
  },
  {
   "cell_type": "code",
   "execution_count": 19,
   "id": "1c024e0a-4a52-432b-a432-c00701817d77",
   "metadata": {},
   "outputs": [
    {
     "data": {
      "text/plain": [
       "tuple"
      ]
     },
     "execution_count": 19,
     "metadata": {},
     "output_type": "execute_result"
    }
   ],
   "source": [
    "values=('apple','banana','grapes')\n",
    "type(values)"
   ]
  },
  {
   "cell_type": "code",
   "execution_count": 20,
   "id": "2adc6494-5cbb-4601-84f0-4d4e1cb635e0",
   "metadata": {},
   "outputs": [
    {
     "data": {
      "text/plain": [
       "['apple', 'banana', 'grapes']"
      ]
     },
     "execution_count": 20,
     "metadata": {},
     "output_type": "execute_result"
    }
   ],
   "source": [
    "a=list(values)\n",
    "a"
   ]
  },
  {
   "cell_type": "code",
   "execution_count": 21,
   "id": "679c876f-c468-446f-a1b3-19f7d0fce5e5",
   "metadata": {},
   "outputs": [
    {
     "data": {
      "text/plain": [
       "['apple', 'banana', 'grapes', 'goa']"
      ]
     },
     "execution_count": 21,
     "metadata": {},
     "output_type": "execute_result"
    }
   ],
   "source": [
    "a.append('goa')\n",
    "a"
   ]
  },
  {
   "cell_type": "code",
   "execution_count": 22,
   "id": "13ea4b48-9f1d-46aa-b017-2989a9396754",
   "metadata": {},
   "outputs": [
    {
     "data": {
      "text/plain": [
       "('apple', 'banana', 'grapes', 'goa')"
      ]
     },
     "execution_count": 22,
     "metadata": {},
     "output_type": "execute_result"
    }
   ],
   "source": [
    "b=tuple(a)\n",
    "b"
   ]
  },
  {
   "cell_type": "code",
   "execution_count": 23,
   "id": "054d156d-3c2a-4a51-86f0-1599b7632baa",
   "metadata": {},
   "outputs": [
    {
     "data": {
      "text/plain": [
       "list"
      ]
     },
     "execution_count": 23,
     "metadata": {},
     "output_type": "execute_result"
    }
   ],
   "source": [
    "type(a)"
   ]
  },
  {
   "cell_type": "code",
   "execution_count": 24,
   "id": "f1112c2d-2bed-47b4-81aa-44a52d060a84",
   "metadata": {},
   "outputs": [
    {
     "data": {
      "text/plain": [
       "tuple"
      ]
     },
     "execution_count": 24,
     "metadata": {},
     "output_type": "execute_result"
    }
   ],
   "source": [
    "type(b)"
   ]
  },
  {
   "cell_type": "code",
   "execution_count": 25,
   "id": "533bb5c3-5cb8-4427-a4d0-74473307abe6",
   "metadata": {},
   "outputs": [
    {
     "name": "stdout",
     "output_type": "stream",
     "text": [
      "('apple', 'goa', 'cherry')\n"
     ]
    }
   ],
   "source": [
    "fruits=('apple','banana','cherry')\n",
    "fruits_new=fruits[:1] + ('goa',) + fruits[2:]\n",
    "print(fruits_new)\n"
   ]
  },
  {
   "cell_type": "code",
   "execution_count": 26,
   "id": "f0e8a46e-f4ef-46bd-8e4e-33096cc26ed9",
   "metadata": {},
   "outputs": [],
   "source": [
    "fru=('apple','banana','cherry')"
   ]
  },
  {
   "cell_type": "code",
   "execution_count": 27,
   "id": "3617eb36-bac6-4fe7-a33a-5c3c64f378a8",
   "metadata": {},
   "outputs": [
    {
     "name": "stdout",
     "output_type": "stream",
     "text": [
      "('apple', 'banana', 'cherry', 'date')\n"
     ]
    }
   ],
   "source": [
    "fru1=fru+('date',)\n",
    "print(fru1)"
   ]
  },
  {
   "cell_type": "code",
   "execution_count": 28,
   "id": "ef731e55-2357-414e-8d46-a488e6ab2b91",
   "metadata": {},
   "outputs": [],
   "source": [
    "fruits1=('apple','banana','cherry')"
   ]
  },
  {
   "cell_type": "code",
   "execution_count": 29,
   "id": "665ce434-0afe-484d-aeef-106c23d02282",
   "metadata": {},
   "outputs": [
    {
     "data": {
      "text/plain": [
       "2"
      ]
     },
     "execution_count": 29,
     "metadata": {},
     "output_type": "execute_result"
    }
   ],
   "source": [
    "my_value=('a','b','c','d','e')\n",
    "my_value.index('c')"
   ]
  },
  {
   "cell_type": "code",
   "execution_count": 30,
   "id": "19a807fb-825b-46cf-8323-2567b8a8941e",
   "metadata": {},
   "outputs": [
    {
     "data": {
      "text/plain": [
       "5"
      ]
     },
     "execution_count": 30,
     "metadata": {},
     "output_type": "execute_result"
    }
   ],
   "source": [
    "len(my_value)"
   ]
  },
  {
   "cell_type": "code",
   "execution_count": 31,
   "id": "3fe5acde-a575-49b0-a98d-e50abaef915f",
   "metadata": {},
   "outputs": [
    {
     "name": "stdout",
     "output_type": "stream",
     "text": [
      "3\n"
     ]
    }
   ],
   "source": [
    "my_no=(12,20,34)\n",
    "length=len(my_no)\n",
    "print(length)"
   ]
  },
  {
   "cell_type": "code",
   "execution_count": 32,
   "id": "cb8bc777-175c-419e-adef-e0b7c05dd604",
   "metadata": {},
   "outputs": [
    {
     "data": {
      "text/plain": [
       "77"
      ]
     },
     "execution_count": 32,
     "metadata": {},
     "output_type": "execute_result"
    }
   ],
   "source": [
    "t=(5,67,8,5,56,77,9,49,2)\n",
    "max(t)"
   ]
  },
  {
   "cell_type": "code",
   "execution_count": 33,
   "id": "4b022e66-8489-4042-8374-eb2fb2e78919",
   "metadata": {},
   "outputs": [
    {
     "data": {
      "text/plain": [
       "2"
      ]
     },
     "execution_count": 33,
     "metadata": {},
     "output_type": "execute_result"
    }
   ],
   "source": [
    "min(t)"
   ]
  },
  {
   "cell_type": "code",
   "execution_count": 34,
   "id": "7716e47c-52f8-43d9-942a-882e269eec98",
   "metadata": {},
   "outputs": [
    {
     "data": {
      "text/plain": [
       "278"
      ]
     },
     "execution_count": 34,
     "metadata": {},
     "output_type": "execute_result"
    }
   ],
   "source": [
    "sum(t)"
   ]
  },
  {
   "cell_type": "code",
   "execution_count": 35,
   "id": "f6fcdc70-1de5-409e-a403-a37360a3c25a",
   "metadata": {},
   "outputs": [
    {
     "data": {
      "text/plain": [
       "[2, 5, 5, 8, 9, 49, 56, 67, 77]"
      ]
     },
     "execution_count": 35,
     "metadata": {},
     "output_type": "execute_result"
    }
   ],
   "source": [
    "sorted(t)"
   ]
  },
  {
   "cell_type": "code",
   "execution_count": 36,
   "id": "aef8ef0b-616e-46bc-8b9e-d7cf533c6cd7",
   "metadata": {},
   "outputs": [
    {
     "name": "stdout",
     "output_type": "stream",
     "text": [
      "92\n",
      "76\n"
     ]
    }
   ],
   "source": [
    "scores=(88,76,92,85,79)\n",
    "print(max(scores))\n",
    "print(min(scores))"
   ]
  },
  {
   "cell_type": "code",
   "execution_count": 37,
   "id": "ae972a49-5224-4693-b813-c58b6b2abfe5",
   "metadata": {},
   "outputs": [
    {
     "data": {
      "text/plain": [
       "True"
      ]
     },
     "execution_count": 37,
     "metadata": {},
     "output_type": "execute_result"
    }
   ],
   "source": [
    "cities=('new york','los angeles','paris','london','tokyo')\n",
    "'paris' in cities"
   ]
  },
  {
   "cell_type": "code",
   "execution_count": 38,
   "id": "8be1a2df-4591-46aa-b940-681686a69eb1",
   "metadata": {},
   "outputs": [
    {
     "name": "stdout",
     "output_type": "stream",
     "text": [
      "16\n"
     ]
    }
   ],
   "source": [
    "length=2\n",
    "width=4\n",
    "height=2\n",
    "volume=length*width*height\n",
    "print(volume)"
   ]
  },
  {
   "cell_type": "code",
   "execution_count": 1,
   "id": "2a41284c-5250-4676-9a20-ab5a416409f3",
   "metadata": {},
   "outputs": [
    {
     "data": {
      "text/plain": [
       "1"
      ]
     },
     "execution_count": 1,
     "metadata": {},
     "output_type": "execute_result"
    }
   ],
   "source": [
    "set={1,2,3,4}\n",
    "a=set.pop()\n",
    "a"
   ]
  },
  {
   "cell_type": "code",
   "execution_count": 2,
   "id": "cd1cc75a-f941-4e97-9e4e-f51f10d3d4c1",
   "metadata": {},
   "outputs": [
    {
     "data": {
      "text/plain": [
       "{2, 3, 4}"
      ]
     },
     "execution_count": 2,
     "metadata": {},
     "output_type": "execute_result"
    }
   ],
   "source": [
    "set"
   ]
  },
  {
   "cell_type": "code",
   "execution_count": 3,
   "id": "c55a29d4-f008-4b1f-bbe8-b2cc5147a0c6",
   "metadata": {},
   "outputs": [
    {
     "data": {
      "text/plain": [
       "{2, 3, 4, 7}"
      ]
     },
     "execution_count": 3,
     "metadata": {},
     "output_type": "execute_result"
    }
   ],
   "source": [
    "set.add(7)\n",
    "set"
   ]
  },
  {
   "cell_type": "code",
   "execution_count": 4,
   "id": "bf7cbcdc-86a7-456a-a1f9-28c357bcc4e5",
   "metadata": {},
   "outputs": [
    {
     "data": {
      "text/plain": [
       "{2, 3, 4, 5, 7, 23, 54}"
      ]
     },
     "execution_count": 4,
     "metadata": {},
     "output_type": "execute_result"
    }
   ],
   "source": [
    "set.update([23,54,5])\n",
    "set"
   ]
  },
  {
   "cell_type": "code",
   "execution_count": 5,
   "id": "6640bbe8-a564-4094-9b14-6c312486d6f4",
   "metadata": {},
   "outputs": [
    {
     "data": {
      "text/plain": [
       "{2, 3, 4, 5, 7, 23}"
      ]
     },
     "execution_count": 5,
     "metadata": {},
     "output_type": "execute_result"
    }
   ],
   "source": [
    "set.remove(54)\n",
    "set"
   ]
  },
  {
   "cell_type": "code",
   "execution_count": 6,
   "id": "07dff9e3-31e7-44cd-9f06-691f516be691",
   "metadata": {},
   "outputs": [
    {
     "data": {
      "text/plain": [
       "{2, 3, 4, 5, 23}"
      ]
     },
     "execution_count": 6,
     "metadata": {},
     "output_type": "execute_result"
    }
   ],
   "source": [
    "set.discard(7)\n",
    "set"
   ]
  },
  {
   "cell_type": "code",
   "execution_count": 7,
   "id": "8d0807f7-f85e-4120-a865-5dbf18f42287",
   "metadata": {},
   "outputs": [
    {
     "name": "stdout",
     "output_type": "stream",
     "text": [
      "1\n",
      "2\n",
      "4\n"
     ]
    }
   ],
   "source": [
    "sets={1,2,4}             \n",
    "for item in sets:\n",
    "    print(item)"
   ]
  },
  {
   "cell_type": "code",
   "execution_count": 8,
   "id": "5edf82f5-bdaa-47c1-b188-ed12af839842",
   "metadata": {},
   "outputs": [
    {
     "data": {
      "text/plain": [
       "{(43, 34, 65), 1, 2, 3, 'hello'}"
      ]
     },
     "execution_count": 8,
     "metadata": {},
     "output_type": "execute_result"
    }
   ],
   "source": [
    "my_set={1,2,3,'hello',(43,34,65)}\n",
    "my_set"
   ]
  },
  {
   "cell_type": "code",
   "execution_count": 9,
   "id": "958f7f16-ead7-49c7-a5d7-efce5a69e539",
   "metadata": {},
   "outputs": [
    {
     "data": {
      "text/plain": [
       "set()"
      ]
     },
     "execution_count": 9,
     "metadata": {},
     "output_type": "execute_result"
    }
   ],
   "source": [
    "my_set={1,2,3}\n",
    "my_set.clear()\n",
    "my_set"
   ]
  },
  {
   "cell_type": "code",
   "execution_count": 11,
   "id": "093ad099-a9eb-4ad9-b97a-ed03e4001e63",
   "metadata": {},
   "outputs": [],
   "source": [
    "set1={1,2,3}\n",
    "set2={3,4,5}"
   ]
  },
  {
   "cell_type": "code",
   "execution_count": 12,
   "id": "cc5476a6-d7a6-49dc-b19b-6a39fa150099",
   "metadata": {},
   "outputs": [
    {
     "data": {
      "text/plain": [
       "{1, 2, 3, 4, 5}"
      ]
     },
     "execution_count": 12,
     "metadata": {},
     "output_type": "execute_result"
    }
   ],
   "source": [
    "set1.union(set2)"
   ]
  },
  {
   "cell_type": "code",
   "execution_count": 13,
   "id": "d051d338-ec6b-48b7-a2e5-915df67d13d5",
   "metadata": {},
   "outputs": [
    {
     "data": {
      "text/plain": [
       "{6, 7}"
      ]
     },
     "execution_count": 13,
     "metadata": {},
     "output_type": "execute_result"
    }
   ],
   "source": [
    "set3={4,5,6,7}\n",
    "set4={7,6,8,9}\n",
    "set3.intersection(set4)"
   ]
  },
  {
   "cell_type": "code",
   "execution_count": 14,
   "id": "3951a7c3-871d-4c29-b5f0-59fbfe0399eb",
   "metadata": {},
   "outputs": [
    {
     "data": {
      "text/plain": [
       "{4, 5}"
      ]
     },
     "execution_count": 14,
     "metadata": {},
     "output_type": "execute_result"
    }
   ],
   "source": [
    "set3.difference(set4)"
   ]
  },
  {
   "cell_type": "code",
   "execution_count": 15,
   "id": "ae030892-9031-4e37-893e-8283b94fded9",
   "metadata": {},
   "outputs": [
    {
     "data": {
      "text/plain": [
       "{4, 5, 8, 9}"
      ]
     },
     "execution_count": 15,
     "metadata": {},
     "output_type": "execute_result"
    }
   ],
   "source": [
    "set3.symmetric_difference(set4)"
   ]
  },
  {
   "cell_type": "code",
   "execution_count": 16,
   "id": "76a0f72e-1756-449f-8ccf-59b8fcb311ed",
   "metadata": {},
   "outputs": [
    {
     "data": {
      "text/plain": [
       "False"
      ]
     },
     "execution_count": 16,
     "metadata": {},
     "output_type": "execute_result"
    }
   ],
   "source": [
    "myset1={1,2,3}\n",
    "myset2={2,3}\n",
    "myset1.issubset(myset2)"
   ]
  },
  {
   "cell_type": "code",
   "execution_count": 17,
   "id": "5d879569-3383-465e-a37e-9094a7076949",
   "metadata": {},
   "outputs": [
    {
     "data": {
      "text/plain": [
       "True"
      ]
     },
     "execution_count": 17,
     "metadata": {},
     "output_type": "execute_result"
    }
   ],
   "source": [
    "myset2.issubset(myset1)"
   ]
  },
  {
   "cell_type": "code",
   "execution_count": 18,
   "id": "844fc021-b3b3-4476-96db-98ba280f4556",
   "metadata": {},
   "outputs": [
    {
     "data": {
      "text/plain": [
       "True"
      ]
     },
     "execution_count": 18,
     "metadata": {},
     "output_type": "execute_result"
    }
   ],
   "source": [
    "myset1.issuperset(myset2)"
   ]
  },
  {
   "cell_type": "code",
   "execution_count": 19,
   "id": "7f337d60-0889-4aad-9446-997f0b947b20",
   "metadata": {},
   "outputs": [
    {
     "data": {
      "text/plain": [
       "False"
      ]
     },
     "execution_count": 19,
     "metadata": {},
     "output_type": "execute_result"
    }
   ],
   "source": [
    "myset2.issuperset(myset1)"
   ]
  },
  {
   "cell_type": "code",
   "execution_count": 20,
   "id": "74cbb1ec-eaa6-49f0-9c67-f6ffba149c90",
   "metadata": {},
   "outputs": [
    {
     "data": {
      "text/plain": [
       "True"
      ]
     },
     "execution_count": 20,
     "metadata": {},
     "output_type": "execute_result"
    }
   ],
   "source": [
    "s1={1,2,3}\n",
    "s2={4,9,6}\n",
    "s1.isdisjoint(s2)"
   ]
  },
  {
   "cell_type": "code",
   "execution_count": 21,
   "id": "bb679077-781f-457d-8c85-26029d23e042",
   "metadata": {},
   "outputs": [
    {
     "data": {
      "text/plain": [
       "{1, 2, 3}"
      ]
     },
     "execution_count": 21,
     "metadata": {},
     "output_type": "execute_result"
    }
   ],
   "source": [
    "set_copy=s1.copy()\n",
    "set_copy"
   ]
  },
  {
   "cell_type": "code",
   "execution_count": 22,
   "id": "3a3166f1-648f-4c72-9e6a-1a000dc84fd6",
   "metadata": {},
   "outputs": [
    {
     "data": {
      "text/plain": [
       "{2, 3, 4, 5, 23}"
      ]
     },
     "execution_count": 22,
     "metadata": {},
     "output_type": "execute_result"
    }
   ],
   "source": [
    "set"
   ]
  },
  {
   "cell_type": "code",
   "execution_count": 23,
   "id": "70beb42b-282a-45c3-ac71-7478e2f494b0",
   "metadata": {},
   "outputs": [
    {
     "data": {
      "text/plain": [
       "{1, 2, 3, 4, 5, 23}"
      ]
     },
     "execution_count": 23,
     "metadata": {},
     "output_type": "execute_result"
    }
   ],
   "source": [
    "set.add(1)\n",
    "set"
   ]
  },
  {
   "cell_type": "code",
   "execution_count": 24,
   "id": "0f83d4f1-3dbc-4e58-918e-3f992b495808",
   "metadata": {},
   "outputs": [
    {
     "data": {
      "text/plain": [
       "frozenset({1, 2, 3, 4, 5, 23})"
      ]
     },
     "execution_count": 24,
     "metadata": {},
     "output_type": "execute_result"
    }
   ],
   "source": [
    "a= frozenset(set)\n",
    "a"
   ]
  },
  {
   "cell_type": "code",
   "execution_count": 25,
   "id": "142be693-eb49-48f3-9511-cfabacdbaefc",
   "metadata": {},
   "outputs": [
    {
     "data": {
      "text/plain": [
       "6"
      ]
     },
     "execution_count": 25,
     "metadata": {},
     "output_type": "execute_result"
    }
   ],
   "source": [
    "len(set)"
   ]
  },
  {
   "cell_type": "code",
   "execution_count": 26,
   "id": "44d7f55b-d395-415c-8205-df87892f4954",
   "metadata": {},
   "outputs": [
    {
     "data": {
      "text/plain": [
       "23"
      ]
     },
     "execution_count": 26,
     "metadata": {},
     "output_type": "execute_result"
    }
   ],
   "source": [
    "max(set)"
   ]
  },
  {
   "cell_type": "code",
   "execution_count": 27,
   "id": "c5fe670e-95be-4884-9721-a1ed512fbef7",
   "metadata": {},
   "outputs": [
    {
     "data": {
      "text/plain": [
       "1"
      ]
     },
     "execution_count": 27,
     "metadata": {},
     "output_type": "execute_result"
    }
   ],
   "source": [
    "min(set)"
   ]
  },
  {
   "cell_type": "code",
   "execution_count": 28,
   "id": "c153d949-5ed0-4e62-a8b9-2f32ca4d26b0",
   "metadata": {},
   "outputs": [
    {
     "data": {
      "text/plain": [
       "38"
      ]
     },
     "execution_count": 28,
     "metadata": {},
     "output_type": "execute_result"
    }
   ],
   "source": [
    "sum(set)"
   ]
  },
  {
   "cell_type": "code",
   "execution_count": 29,
   "id": "51f82403-91ac-4a46-a2d8-e6c427fdf8cf",
   "metadata": {},
   "outputs": [
    {
     "data": {
      "text/plain": [
       "[12, 20, 34, 56]"
      ]
     },
     "execution_count": 29,
     "metadata": {},
     "output_type": "execute_result"
    }
   ],
   "source": [
    "a=(20,34,12,56)\n",
    "sorted(a)"
   ]
  },
  {
   "cell_type": "code",
   "execution_count": 30,
   "id": "db9c963c-d7eb-474c-ab69-1362fb785777",
   "metadata": {},
   "outputs": [
    {
     "data": {
      "text/plain": [
       "[1, 2, 3, 5]"
      ]
     },
     "execution_count": 30,
     "metadata": {},
     "output_type": "execute_result"
    }
   ],
   "source": [
    "my_set={3,5,2,1}\n",
    "a = sorted(my_set)\n",
    "a"
   ]
  },
  {
   "cell_type": "code",
   "execution_count": 31,
   "id": "28c53529-eb5a-48c3-8085-9c9a1c00291c",
   "metadata": {},
   "outputs": [
    {
     "data": {
      "text/plain": [
       "list"
      ]
     },
     "execution_count": 31,
     "metadata": {},
     "output_type": "execute_result"
    }
   ],
   "source": [
    "type(a)"
   ]
  },
  {
   "cell_type": "code",
   "execution_count": 32,
   "id": "ba07bb86-e7a1-429f-90cf-77a739684b2a",
   "metadata": {},
   "outputs": [
    {
     "data": {
      "text/plain": [
       "set"
      ]
     },
     "execution_count": 32,
     "metadata": {},
     "output_type": "execute_result"
    }
   ],
   "source": [
    "type(my_set)"
   ]
  },
  {
   "cell_type": "code",
   "execution_count": 33,
   "id": "a251e6cd-7e60-465d-9f96-1a3509c99118",
   "metadata": {},
   "outputs": [
    {
     "data": {
      "text/plain": [
       "True"
      ]
     },
     "execution_count": 33,
     "metadata": {},
     "output_type": "execute_result"
    }
   ],
   "source": [
    "s={0,3,'hi',(5)}\n",
    "any(set)"
   ]
  },
  {
   "cell_type": "code",
   "execution_count": 34,
   "id": "5c97e521-b9dc-4417-b757-8f134c9c76d0",
   "metadata": {},
   "outputs": [
    {
     "data": {
      "text/plain": [
       "True"
      ]
     },
     "execution_count": 34,
     "metadata": {},
     "output_type": "execute_result"
    }
   ],
   "source": [
    "all(set)"
   ]
  },
  {
   "cell_type": "code",
   "execution_count": 35,
   "id": "0e2e74fe-6547-4ab7-9efb-b2cc9ae64d26",
   "metadata": {},
   "outputs": [
    {
     "ename": "TypeError",
     "evalue": "'set' object is not callable",
     "output_type": "error",
     "traceback": [
      "\u001b[1;31m---------------------------------------------------------------------------\u001b[0m",
      "\u001b[1;31mTypeError\u001b[0m                                 Traceback (most recent call last)",
      "Cell \u001b[1;32mIn[35], line 2\u001b[0m\n\u001b[0;32m      1\u001b[0m my_list\u001b[38;5;241m=\u001b[39m[\u001b[38;5;241m1\u001b[39m,\u001b[38;5;241m2\u001b[39m,\u001b[38;5;241m3\u001b[39m,\u001b[38;5;241m2\u001b[39m,\u001b[38;5;241m4\u001b[39m,\u001b[38;5;241m5\u001b[39m,\u001b[38;5;241m3\u001b[39m]\n\u001b[1;32m----> 2\u001b[0m my_set\u001b[38;5;241m=\u001b[39m\u001b[38;5;28mset\u001b[39m(my_list)\n\u001b[0;32m      3\u001b[0m my_set\n",
      "\u001b[1;31mTypeError\u001b[0m: 'set' object is not callable"
     ]
    }
   ],
   "source": [
    "my_list=[1,2,3,2,4,5,3]\n",
    "my_set=set(my_list)\n",
    "my_set"
   ]
  },
  {
   "cell_type": "code",
   "execution_count": 36,
   "id": "d90e52a7-c5cf-4298-8973-3e05099d33b1",
   "metadata": {},
   "outputs": [
    {
     "name": "stdout",
     "output_type": "stream",
     "text": [
      "{1, 4, 9, 16, 25}\n"
     ]
    }
   ],
   "source": [
    "number = [1,2,3,4,5]\n",
    "squares_set ={x**2 for x in number}\n",
    "print(squares_set)"
   ]
  },
  {
   "cell_type": "code",
   "execution_count": 37,
   "id": "09476a53-0012-4907-ba1b-3cda2d3b9dbe",
   "metadata": {},
   "outputs": [
    {
     "name": "stdout",
     "output_type": "stream",
     "text": [
      "{16, 4}\n"
     ]
    }
   ],
   "source": [
    "no=[1,2,3,4,5]\n",
    "even_squares_set={x**2 for x in no if x%2==0}\n",
    "print(even_squares_set)"
   ]
  },
  {
   "cell_type": "code",
   "execution_count": null,
   "id": "61ba2f6d-80ff-46b9-a4dc-f233f52271d1",
   "metadata": {},
   "outputs": [],
   "source": []
  }
 ],
 "metadata": {
  "kernelspec": {
   "display_name": "Python 3 (ipykernel)",
   "language": "python",
   "name": "python3"
  },
  "language_info": {
   "codemirror_mode": {
    "name": "ipython",
    "version": 3
   },
   "file_extension": ".py",
   "mimetype": "text/x-python",
   "name": "python",
   "nbconvert_exporter": "python",
   "pygments_lexer": "ipython3",
   "version": "3.12.7"
  }
 },
 "nbformat": 4,
 "nbformat_minor": 5
}
