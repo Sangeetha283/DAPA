{
 "cells": [
  {
   "cell_type": "code",
   "execution_count": null,
   "id": "64c77248-511f-4625-acdb-0c1a1b3048dc",
   "metadata": {},
   "outputs": [],
   "source": [
    "#OOP"
   ]
  },
  {
   "cell_type": "code",
   "execution_count": null,
   "id": "43458f8e-4022-43d1-91ac-a14671244447",
   "metadata": {},
   "outputs": [],
   "source": [
    "#class-a blueprint to bulid a struture\n",
    "#object-ia an instance of a class or a real world entity"
   ]
  },
  {
   "cell_type": "code",
   "execution_count": 2,
   "id": "2382c48e-1c81-418e-94c6-6bb24fc38756",
   "metadata": {},
   "outputs": [],
   "source": [
    "a='hello world'"
   ]
  },
  {
   "cell_type": "code",
   "execution_count": 3,
   "id": "eb7c2d4d-f75e-4980-b9fe-89e801ab8ad2",
   "metadata": {},
   "outputs": [
    {
     "name": "stdout",
     "output_type": "stream",
     "text": [
      "<class 'str'>\n"
     ]
    }
   ],
   "source": [
    "print(type(a))"
   ]
  },
  {
   "cell_type": "code",
   "execution_count": 4,
   "id": "536bf202-403f-4b35-879a-0e2244258841",
   "metadata": {},
   "outputs": [
    {
     "data": {
      "text/plain": [
       "'Hello world'"
      ]
     },
     "execution_count": 4,
     "metadata": {},
     "output_type": "execute_result"
    }
   ],
   "source": [
    "a.capitalize()"
   ]
  },
  {
   "cell_type": "code",
   "execution_count": 6,
   "id": "9d39f430-9d21-4df6-bb11-52ce37a0369b",
   "metadata": {},
   "outputs": [],
   "source": [
    "x = [4,5,6,7,8]"
   ]
  },
  {
   "cell_type": "code",
   "execution_count": 7,
   "id": "e39f42ad-8f68-499b-ab21-6519d2a59a7b",
   "metadata": {},
   "outputs": [
    {
     "name": "stdout",
     "output_type": "stream",
     "text": [
      "<class 'list'>\n"
     ]
    }
   ],
   "source": [
    "print(type(x))"
   ]
  },
  {
   "cell_type": "code",
   "execution_count": 8,
   "id": "6cdee9bb-20d9-4d61-92a5-94b616460485",
   "metadata": {},
   "outputs": [],
   "source": [
    "y=['Hi Everyone']"
   ]
  },
  {
   "cell_type": "code",
   "execution_count": 9,
   "id": "c5535455-1863-4afa-9c68-1f91d0fbc53f",
   "metadata": {},
   "outputs": [
    {
     "data": {
      "text/plain": [
       "list"
      ]
     },
     "execution_count": 9,
     "metadata": {},
     "output_type": "execute_result"
    }
   ],
   "source": [
    "type(y)"
   ]
  },
  {
   "cell_type": "code",
   "execution_count": 12,
   "id": "ef7dc208-c38c-4999-90cf-f80e7f50af8e",
   "metadata": {},
   "outputs": [],
   "source": [
    "b=[1,21,32,78,70,100,56]"
   ]
  },
  {
   "cell_type": "code",
   "execution_count": 13,
   "id": "303ed055-33f8-4631-8937-77290cf8da6d",
   "metadata": {},
   "outputs": [
    {
     "data": {
      "text/plain": [
       "7"
      ]
     },
     "execution_count": 13,
     "metadata": {},
     "output_type": "execute_result"
    }
   ],
   "source": [
    "len(b)"
   ]
  },
  {
   "cell_type": "code",
   "execution_count": 14,
   "id": "de016c56-45fc-465b-87bf-636083951a3d",
   "metadata": {},
   "outputs": [
    {
     "data": {
      "text/plain": [
       "1"
      ]
     },
     "execution_count": 14,
     "metadata": {},
     "output_type": "execute_result"
    }
   ],
   "source": [
    "min(b)"
   ]
  },
  {
   "cell_type": "code",
   "execution_count": 15,
   "id": "3094f2dd-aa79-446a-9b50-4abaebadea60",
   "metadata": {},
   "outputs": [
    {
     "data": {
      "text/plain": [
       "100"
      ]
     },
     "execution_count": 15,
     "metadata": {},
     "output_type": "execute_result"
    }
   ],
   "source": [
    "max(b)"
   ]
  },
  {
   "cell_type": "code",
   "execution_count": 16,
   "id": "715eb21f-796a-48eb-bfa7-fc8df14b9a6a",
   "metadata": {},
   "outputs": [
    {
     "data": {
      "text/plain": [
       "358"
      ]
     },
     "execution_count": 16,
     "metadata": {},
     "output_type": "execute_result"
    }
   ],
   "source": [
    "sum(b)"
   ]
  },
  {
   "cell_type": "code",
   "execution_count": 17,
   "id": "7e8c4e33-cecb-4d98-baa8-f91c8077ca88",
   "metadata": {},
   "outputs": [],
   "source": [
    "b.append(10)"
   ]
  },
  {
   "cell_type": "code",
   "execution_count": 18,
   "id": "2b5b44e3-8068-4609-9762-d93560494955",
   "metadata": {},
   "outputs": [
    {
     "data": {
      "text/plain": [
       "[1, 21, 32, 78, 70, 100, 56, 10]"
      ]
     },
     "execution_count": 18,
     "metadata": {},
     "output_type": "execute_result"
    }
   ],
   "source": [
    "b"
   ]
  },
  {
   "cell_type": "code",
   "execution_count": 19,
   "id": "5b644e39-733a-4638-aab4-edf312a14039",
   "metadata": {},
   "outputs": [],
   "source": [
    "class mobile_phone1:\n",
    "    def __init__(self,a_col,b_size,c_numc):\n",
    "        self.color=a_col\n",
    "        self.size=b_size\n",
    "        self.camera=c_numc\n",
    "\n",
    "    def calling(self,call_rates):\n",
    "        print(f\"i am calling using {self.color} cell phone and the cell rates per second is {call_rates} \")"
   ]
  },
  {
   "cell_type": "code",
   "execution_count": 20,
   "id": "fe441fc8-b73e-4fb2-8853-aa962a7de42c",
   "metadata": {},
   "outputs": [],
   "source": [
    "samsung=mobile_phone1('black',10,2)"
   ]
  },
  {
   "cell_type": "code",
   "execution_count": 21,
   "id": "2ef22faa-b0da-46a3-9643-d48be6841705",
   "metadata": {},
   "outputs": [
    {
     "data": {
      "text/plain": [
       "'black'"
      ]
     },
     "execution_count": 21,
     "metadata": {},
     "output_type": "execute_result"
    }
   ],
   "source": [
    "samsung.color"
   ]
  },
  {
   "cell_type": "code",
   "execution_count": 22,
   "id": "cfafe8d9-f5c1-494e-85f0-78a7dc54d91a",
   "metadata": {},
   "outputs": [
    {
     "data": {
      "text/plain": [
       "10"
      ]
     },
     "execution_count": 22,
     "metadata": {},
     "output_type": "execute_result"
    }
   ],
   "source": [
    "samsung.size"
   ]
  },
  {
   "cell_type": "code",
   "execution_count": 23,
   "id": "dfca27c5-06d9-4f8f-9137-579b77769040",
   "metadata": {},
   "outputs": [
    {
     "data": {
      "text/plain": [
       "2"
      ]
     },
     "execution_count": 23,
     "metadata": {},
     "output_type": "execute_result"
    }
   ],
   "source": [
    "samsung.camera"
   ]
  },
  {
   "cell_type": "code",
   "execution_count": 25,
   "id": "60532c64-0443-40fe-b446-2111ab2fdebe",
   "metadata": {},
   "outputs": [],
   "source": [
    "class person:\n",
    "    def __init__(self,a,b):\n",
    "        self.name=a\n",
    "        self.age=b\n",
    "\n",
    "    def introduce(self,a):\n",
    "        print(f\"My name is {self.name} and I am {self.age} years old\")"
   ]
  },
  {
   "cell_type": "code",
   "execution_count": 26,
   "id": "9fe522a4-104e-4035-aa51-ec9c64d0f51e",
   "metadata": {},
   "outputs": [],
   "source": [
    "person1=person('Alice',25)"
   ]
  },
  {
   "cell_type": "code",
   "execution_count": 27,
   "id": "abd6182b-7729-4b57-9034-3d692b263e9c",
   "metadata": {},
   "outputs": [
    {
     "name": "stdout",
     "output_type": "stream",
     "text": [
      "My name is Alice and I am 25 years old\n"
     ]
    }
   ],
   "source": [
    "person1.introduce(a)"
   ]
  },
  {
   "cell_type": "code",
   "execution_count": 28,
   "id": "099d2bd5-d373-4a3e-b3ab-1c769b29e0de",
   "metadata": {},
   "outputs": [],
   "source": [
    "person2=person('Char',18)"
   ]
  },
  {
   "cell_type": "code",
   "execution_count": 29,
   "id": "d20cc8af-81e9-4eef-b32d-8d0907d343bb",
   "metadata": {},
   "outputs": [
    {
     "name": "stdout",
     "output_type": "stream",
     "text": [
      "My name is Char and I am 18 years old\n"
     ]
    }
   ],
   "source": [
    "person2.introduce(b)"
   ]
  },
  {
   "cell_type": "code",
   "execution_count": null,
   "id": "596fd058-2fc4-4f51-aef7-58db3139ab60",
   "metadata": {},
   "outputs": [],
   "source": []
  }
 ],
 "metadata": {
  "kernelspec": {
   "display_name": "Python 3 (ipykernel)",
   "language": "python",
   "name": "python3"
  },
  "language_info": {
   "codemirror_mode": {
    "name": "ipython",
    "version": 3
   },
   "file_extension": ".py",
   "mimetype": "text/x-python",
   "name": "python",
   "nbconvert_exporter": "python",
   "pygments_lexer": "ipython3",
   "version": "3.12.7"
  }
 },
 "nbformat": 4,
 "nbformat_minor": 5
}
