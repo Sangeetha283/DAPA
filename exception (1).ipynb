{
 "cells": [
  {
   "cell_type": "code",
   "execution_count": 1,
   "id": "098c025d-bbcd-4b3e-98f5-ff59f59453df",
   "metadata": {},
   "outputs": [],
   "source": [
    "class Mylist:\n",
    "    def __init__(self):\n",
    "       self.item =[]\n",
    "\n",
    "    def append(self,items):\n",
    "        \"\"\" Method to add an items to the list \"\"\"\n",
    "        self.items.append(items)\n",
    "\n",
    "    def remove(self,items):\n",
    "        \"\"\" Method to remove an item from the list \"\"\"\n",
    "        if item in self.items:\n",
    "            self.items.remove(item)\n",
    "        else:\n",
    "            print(f\" {item} not found in the list!\")\n",
    "    def display(self):\n",
    "        \"\"\" Method to display the current list\"\"\"\n",
    "        print(self.items)\n",
    "    def size(self):\n",
    "        \"\"\" Method to return the size of the list\"\"\"\n",
    "        return len(self.items)\n",
    "    "
   ]
  },
  {
   "cell_type": "code",
   "execution_count": 2,
   "id": "ed8c011f-efe3-4dfa-bac4-c88e737df437",
   "metadata": {},
   "outputs": [
    {
     "name": "stdin",
     "output_type": "stream",
     "text": [
      "enter a number:  56\n"
     ]
    },
    {
     "name": "stdout",
     "output_type": "stream",
     "text": [
      "Result is 0.17857142857142858\n"
     ]
    }
   ],
   "source": [
    "try:\n",
    "    x=int(input(\"enter a number: \"))\n",
    "    result=10/x\n",
    "    print(\"Result is\", result)\n",
    "except ValueError:\n",
    "    print(\"that was not a number\")\n",
    "except ZeroDevisionError:\n",
    "    print(\"you cannot divide by zero\")\n",
    "    "
   ]
  },
  {
   "cell_type": "code",
   "execution_count": 3,
   "id": "266d4fbf-8841-47c4-bcaa-27fbc68f647a",
   "metadata": {},
   "outputs": [
    {
     "name": "stdin",
     "output_type": "stream",
     "text": [
      "enter a number:  7\n"
     ]
    },
    {
     "name": "stdout",
     "output_type": "stream",
     "text": [
      "you entered: 7\n"
     ]
    }
   ],
   "source": [
    "try:\n",
    "    value = int(input(\"enter a number: \"))\n",
    "    print(\"you entered:\",value)\n",
    "except ValueError: \n",
    "    print(\"Oops! that was not a valid number\")"
   ]
  },
  {
   "cell_type": "code",
   "execution_count": 4,
   "id": "83d78fc3-b1c7-4df9-ab6b-ab743d4350f9",
   "metadata": {},
   "outputs": [
    {
     "name": "stdout",
     "output_type": "stream",
     "text": [
      "result is: 4.0\n",
      "this block runs no matter what\n"
     ]
    }
   ],
   "source": [
    "try:\n",
    "    x=8\n",
    "    y=2\n",
    "    result=x/y\n",
    "except ZeroDevisionError:\n",
    "    print(\"cannot divide by zero!\")\n",
    "else:\n",
    "    print(\"result is:\", result)\n",
    "finally:\n",
    "    print(\"this block runs no matter what\")"
   ]
  },
  {
   "cell_type": "code",
   "execution_count": 5,
   "id": "8020e5ff-53e7-4f4a-8fa5-c328cf1661bc",
   "metadata": {},
   "outputs": [
    {
     "name": "stdout",
     "output_type": "stream",
     "text": [
      "Custom Exception Caught: age cannot be negative!\n"
     ]
    }
   ],
   "source": [
    "class NegativeAgeError(Exception):\n",
    "    \"\"\"Raised when the age is negative\"\"\"\n",
    "    pass\n",
    "def validate_age(age):\n",
    "    if age<0:\n",
    "        raise NegativeAgeError(\"age cannot be negative!\")\n",
    "    else:\n",
    "        print(\"Valid age:\", age)\n",
    "\n",
    "try:\n",
    "    validate_age(-7)\n",
    "except NegativeAgeError as e:\n",
    "    print(\"Custom Exception Caught:\",e)"
   ]
  },
  {
   "cell_type": "code",
   "execution_count": 6,
   "id": "4c7d642c-199a-4af0-85a3-9b0d27a84f24",
   "metadata": {},
   "outputs": [
    {
     "name": "stdin",
     "output_type": "stream",
     "text": [
      "enter a number:  8\n"
     ]
    },
    {
     "name": "stdout",
     "output_type": "stream",
     "text": [
      "you entered: 8\n"
     ]
    }
   ],
   "source": [
    "try:\n",
    "    value = int(input(\"enter a number: \"))\n",
    "    print(\"you entered:\",value)\n",
    "except ValueError:\n",
    "    print(\"Oops! that was not a valid number\")"
   ]
  },
  {
   "cell_type": "code",
   "execution_count": null,
   "id": "6b431b51-1406-4cf9-855f-9a6613ad92b0",
   "metadata": {},
   "outputs": [],
   "source": []
  }
 ],
 "metadata": {
  "kernelspec": {
   "display_name": "Python 3 (ipykernel)",
   "language": "python",
   "name": "python3"
  },
  "language_info": {
   "codemirror_mode": {
    "name": "ipython",
    "version": 3
   },
   "file_extension": ".py",
   "mimetype": "text/x-python",
   "name": "python",
   "nbconvert_exporter": "python",
   "pygments_lexer": "ipython3",
   "version": "3.12.7"
  }
 },
 "nbformat": 4,
 "nbformat_minor": 5
}
