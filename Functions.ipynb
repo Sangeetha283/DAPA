{
 "cells": [
  {
   "cell_type": "code",
   "execution_count": null,
   "id": "9ea8ecf3-c03f-426e-acbc-47a16dcc1c63",
   "metadata": {},
   "outputs": [],
   "source": [
    "#funtions"
   ]
  },
  {
   "cell_type": "code",
   "execution_count": 1,
   "id": "ed0fe940-69f3-46f1-bed0-a991a0764fab",
   "metadata": {},
   "outputs": [],
   "source": [
    "def greet():\n",
    "    name = input(\"Enter the name \")\n",
    "    print(f\"Hello {name}, Welcome to the party ..\")"
   ]
  },
  {
   "cell_type": "code",
   "execution_count": 2,
   "id": "e4e916af-d171-4c09-ba55-999f311d53f8",
   "metadata": {},
   "outputs": [
    {
     "name": "stdin",
     "output_type": "stream",
     "text": [
      "Enter the name  sangeetha\n"
     ]
    },
    {
     "name": "stdout",
     "output_type": "stream",
     "text": [
      "Hello sangeetha, Welcome to the party ..\n"
     ]
    }
   ],
   "source": [
    "greet()"
   ]
  },
  {
   "cell_type": "code",
   "execution_count": null,
   "id": "bd217c21-84ca-4990-8af3-d477d5dbb62b",
   "metadata": {},
   "outputs": [],
   "source": [
    "def calculation():\n",
    "    a = 18\n",
    "    b = 44\n",
    "    print(a+b)\n",
    "    print(a-b)\n",
    "    print(a*b)\n",
    "    print(a%b)"
   ]
  },
  {
   "cell_type": "code",
   "execution_count": 7,
   "id": "01ee82e9-5e72-4936-828f-009fad7505f2",
   "metadata": {},
   "outputs": [
    {
     "name": "stdout",
     "output_type": "stream",
     "text": [
      "62\n",
      "-26\n",
      "792\n",
      "18\n"
     ]
    }
   ],
   "source": [
    "calculation()"
   ]
  },
  {
   "cell_type": "code",
   "execution_count": 10,
   "id": "6d3afe4a-cb22-4f6d-adfe-ea582d6cb62f",
   "metadata": {},
   "outputs": [],
   "source": [
    "def mul(num):\n",
    "    for i in range(1,12):\n",
    "        print(f\"{num} x {i} = {num*i}\")"
   ]
  },
  {
   "cell_type": "code",
   "execution_count": 11,
   "id": "83ad79b7-e74a-41bc-9008-87171d26b2c9",
   "metadata": {},
   "outputs": [
    {
     "name": "stdout",
     "output_type": "stream",
     "text": [
      "9 x 1 = 9\n",
      "9 x 2 = 18\n",
      "9 x 3 = 27\n",
      "9 x 4 = 36\n",
      "9 x 5 = 45\n",
      "9 x 6 = 54\n",
      "9 x 7 = 63\n",
      "9 x 8 = 72\n",
      "9 x 9 = 81\n",
      "9 x 10 = 90\n",
      "9 x 11 = 99\n"
     ]
    }
   ],
   "source": [
    "mul(9)"
   ]
  },
  {
   "cell_type": "code",
   "execution_count": null,
   "id": "7707326b-320c-4a1e-b47f-dbfc57e7a968",
   "metadata": {},
   "outputs": [],
   "source": [
    "#parameter and argument"
   ]
  },
  {
   "cell_type": "code",
   "execution_count": null,
   "id": "f6716f39-6c5d-437a-9f80-e1aa349351b6",
   "metadata": {},
   "outputs": [],
   "source": [
    "def greet(name):              #name is a parameter\n",
    "    print(f\"{hello},{name}!\")      # alice is an argument"
   ]
  },
  {
   "cell_type": "code",
   "execution_count": null,
   "id": "90cd5f34-ca4f-4f94-810b-04078620da41",
   "metadata": {},
   "outputs": [],
   "source": [
    "#formal argument-the declaration\n",
    "#actual argument-the value passed to the variables when it is called\n",
    "def greet(name):             #name is formal argument\n",
    "    print(f\"hello,{name}!\") #alice ia an argument"
   ]
  },
  {
   "cell_type": "code",
   "execution_count": 14,
   "id": "54e8e3b9-8f8f-4ead-98dd-81ce9839cede",
   "metadata": {},
   "outputs": [],
   "source": [
    "def fun():\n",
    "    a=14\n",
    "    b=40\n",
    "    c=a+b\n",
    "    return c"
   ]
  },
  {
   "cell_type": "code",
   "execution_count": 15,
   "id": "5bc8cd39-f7ed-425e-819e-22d2d78ca5bb",
   "metadata": {},
   "outputs": [],
   "source": [
    "var=fun()"
   ]
  },
  {
   "cell_type": "code",
   "execution_count": 16,
   "id": "c476b976-e728-4cbf-8123-9274b866a38c",
   "metadata": {},
   "outputs": [
    {
     "data": {
      "text/plain": [
       "54"
      ]
     },
     "execution_count": 16,
     "metadata": {},
     "output_type": "execute_result"
    }
   ],
   "source": [
    "var"
   ]
  },
  {
   "cell_type": "code",
   "execution_count": 18,
   "id": "be26bdca-e672-4c2d-a670-256c4139e517",
   "metadata": {},
   "outputs": [
    {
     "name": "stdout",
     "output_type": "stream",
     "text": [
      "Odd\n"
     ]
    }
   ],
   "source": [
    "def check_even(number):\n",
    "    if number%2==0:\n",
    "        return \"Even\"\n",
    "    return \"Odd\"\n",
    "result=check_even(7)\n",
    "print(result)"
   ]
  },
  {
   "cell_type": "code",
   "execution_count": 19,
   "id": "b2b52ba1-f5e0-4d72-b901-498c41d9380b",
   "metadata": {},
   "outputs": [
    {
     "name": "stdout",
     "output_type": "stream",
     "text": [
      "[1, 2, 45, 6]\n"
     ]
    }
   ],
   "source": [
    "def create_list():\n",
    "    return [1,2,45,6]\n",
    "my_list = create_list()\n",
    "print(my_list)"
   ]
  },
  {
   "cell_type": "code",
   "execution_count": null,
   "id": "d50a0f15-cf0a-443f-8d0a-e1af3a5dd3b1",
   "metadata": {},
   "outputs": [],
   "source": []
  }
 ],
 "metadata": {
  "kernelspec": {
   "display_name": "Python 3 (ipykernel)",
   "language": "python",
   "name": "python3"
  },
  "language_info": {
   "codemirror_mode": {
    "name": "ipython",
    "version": 3
   },
   "file_extension": ".py",
   "mimetype": "text/x-python",
   "name": "python",
   "nbconvert_exporter": "python",
   "pygments_lexer": "ipython3",
   "version": "3.12.7"
  }
 },
 "nbformat": 4,
 "nbformat_minor": 5
}
