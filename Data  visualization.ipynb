{
 "cells": [
  {
   "cell_type": "code",
   "execution_count": null,
   "id": "ec9430fd-de4b-48e9-8095-86f61a79e06c",
   "metadata": {},
   "outputs": [],
   "source": [
    "#Ex"
   ]
  },
  {
   "cell_type": "code",
   "execution_count": null,
   "id": "a51847b7-b58e-4c51-ae01-ac3289d1891d",
   "metadata": {},
   "outputs": [],
   "source": [
    "np.exp()-e^x for each element"
   ]
  },
  {
   "cell_type": "code",
   "execution_count": null,
   "id": "138c2898-a864-4a2d-9c42-a0df17a5504d",
   "metadata": {},
   "outputs": [],
   "source": [
    "np.log()-natural log for each element"
   ]
  },
  {
   "cell_type": "code",
   "execution_count": 2,
   "id": "dc7f0c5a-e98c-4414-b8d7-62154a575975",
   "metadata": {},
   "outputs": [
    {
     "name": "stdout",
     "output_type": "stream",
     "text": [
      "exponential(e^x): [  7.3890561   20.08553692  54.59815003 148.4131591 ]\n",
      "natural log(ln): [0.69314718 1.09861229 1.38629436 1.60943791]\n"
     ]
    }
   ],
   "source": [
    "import numpy as np\n",
    "arr = np.array([2,3,4,5])\n",
    "print(\"exponential(e^x):\", np.exp(arr))\n",
    "print(\"natural log(ln):\", np.log(arr))"
   ]
  },
  {
   "cell_type": "code",
   "execution_count": null,
   "id": "2ee985e8-fd3d-4439-adbb-3d07951c3946",
   "metadata": {},
   "outputs": [],
   "source": [
    "MATRIX OPERATIONS"
   ]
  },
  {
   "cell_type": "code",
   "execution_count": 5,
   "id": "fbbcb600-2012-4789-a27b-bc6fa9fcd0e4",
   "metadata": {},
   "outputs": [
    {
     "name": "stdout",
     "output_type": "stream",
     "text": [
      "matrixs multiplication: [[19 22]\n",
      " [43 50]]\n",
      "original matrix: [[1 2]\n",
      " [3 4]]\n",
      "after transpose: [[1 3]\n",
      " [2 4]]\n"
     ]
    }
   ],
   "source": [
    "matrix_a = np.array([[1,2], [3,4]])\n",
    "matrix_b = np.array([[5,6], [7,8]])\n",
    "print(\"matrixs multiplication:\", np.dot(matrix_a, matrix_b))\n",
    "print(\"original matrix:\", matrix_a)\n",
    "print(\"after transpose:\", np.transpose(matrix_a))"
   ]
  },
  {
   "cell_type": "code",
   "execution_count": null,
   "id": "7fbaf2cc-670c-49f5-9edb-dd715cdd00ef",
   "metadata": {},
   "outputs": [],
   "source": [
    "ROUNDING AND TRUNCATION"
   ]
  },
  {
   "cell_type": "code",
   "execution_count": 12,
   "id": "44d3aaec-df01-4484-b793-aaa3e4d9f315",
   "metadata": {},
   "outputs": [
    {
     "ename": "SyntaxError",
     "evalue": "invalid syntax (318323961.py, line 1)",
     "output_type": "error",
     "traceback": [
      "\u001b[1;36m  Cell \u001b[1;32mIn[12], line 1\u001b[1;36m\u001b[0m\n\u001b[1;33m    np.round(array,decimals)-round to specific decimals\u001b[0m\n\u001b[1;37m                                   ^\u001b[0m\n\u001b[1;31mSyntaxError\u001b[0m\u001b[1;31m:\u001b[0m invalid syntax\n"
     ]
    }
   ],
   "source": [
    "np.round(array,decimals)-round to specific decimals\n",
    "np.trunc(array)-remove decimals"
   ]
  },
  {
   "cell_type": "code",
   "execution_count": 9,
   "id": "86480354-ca9a-4175-b5bb-c23074a9b1a8",
   "metadata": {},
   "outputs": [],
   "source": [
    "data = np.array([3.14159, 4.3456, 5.4567])"
   ]
  },
  {
   "cell_type": "code",
   "execution_count": 11,
   "id": "1d8d9fce-6494-4cbb-ae46-1dd995e4e3f3",
   "metadata": {},
   "outputs": [
    {
     "name": "stdout",
     "output_type": "stream",
     "text": [
      "rounded to 2 decimals: [3.14 4.35 5.46]\n",
      "truncated: [3. 4. 5.]\n"
     ]
    }
   ],
   "source": [
    "print(\"rounded to 2 decimals:\", np.round(data,2))\n",
    "print(\"truncated:\", np.trunc(data))"
   ]
  },
  {
   "cell_type": "code",
   "execution_count": null,
   "id": "76d75438-0dc6-4b59-bd5d-5a07e7c17e82",
   "metadata": {},
   "outputs": [],
   "source": []
  },
  {
   "cell_type": "code",
   "execution_count": null,
   "id": "44c3667f-bccd-4570-86a4-0444fa95be51",
   "metadata": {},
   "outputs": [],
   "source": [
    "REAL TIME EXAMPLE:FUTURE INVSTMNT VALUEE"
   ]
  },
  {
   "cell_type": "code",
   "execution_count": 13,
   "id": "8ca5f2f3-a34c-4531-bce8-b3fdd8f20de6",
   "metadata": {},
   "outputs": [
    {
     "name": "stdout",
     "output_type": "stream",
     "text": [
      "rounded to 2: 462040.9\n"
     ]
    }
   ],
   "source": [
    "monthly_contribution = 1000\n",
    "annual_interest_rate = 6.0\n",
    "years = 20\n",
    "\n",
    "monthly_interest_rate = (annual_interest_rate/12)/100\n",
    "n = years*12\n",
    "\n",
    "future_value = monthly_contribution*((1 + monthly_interest_rate) ** n-1)/ monthly_interest_rate\n",
    "print(\"rounded to 2:\", np.round(future_value, 2))"
   ]
  },
  {
   "cell_type": "code",
   "execution_count": null,
   "id": "11bb1a55-f39c-4fb6-bbec-43b713edde3c",
   "metadata": {},
   "outputs": [],
   "source": [
    "NUMPY LOGICAL OPERATORS\n",
    "element wise:==,!=,<,>,<=<>=\n",
    "logical AND:&\n",
    "logical or:|"
   ]
  },
  {
   "cell_type": "code",
   "execution_count": 14,
   "id": "40869d26-949e-4a07-9886-0e13760ff678",
   "metadata": {},
   "outputs": [
    {
     "name": "stdout",
     "output_type": "stream",
     "text": [
      "equal: [False  True False  True]\n",
      "greather than: [False False  True False]\n",
      "array-wise equal (arr1 vs arr2): False\n"
     ]
    }
   ],
   "source": [
    "arr1 = np.array([1,2,3,4])\n",
    "arr2 = np.array([3,2,1,4])\n",
    "print(\"equal:\", arr1==arr2)\n",
    "print(\"greather than:\", arr1>arr2)\n",
    "print(\"array-wise equal (arr1 vs arr2):\", np.array_equal(arr1, arr2))"
   ]
  },
  {
   "cell_type": "code",
   "execution_count": null,
   "id": "af05c137-a34f-4da9-8416-894279e145ab",
   "metadata": {},
   "outputs": [],
   "source": [
    "REAL TIME EXAMPLE : WEATHER ANALYSIS"
   ]
  },
  {
   "cell_type": "code",
   "execution_count": null,
   "id": "c2066c84-6707-4c49-853c-7141e9db09d0",
   "metadata": {},
   "outputs": [],
   "source": [
    "use logical operation to filter weather condition\n",
    "hot day- temp>30\n",
    "rainy day- rainfall>0"
   ]
  },
  {
   "cell_type": "code",
   "execution_count": 18,
   "id": "1ebd5196-216c-4331-a2ff-b5a27be83130",
   "metadata": {},
   "outputs": [
    {
     "name": "stdout",
     "output_type": "stream",
     "text": [
      "hot day: [False  True  True False  True False False]\n",
      "rainy day: [ True False  True False False  True  True]\n",
      "hot and rainy days: [False False  True False False False False]\n",
      "hot or rainy day: [ True  True  True False  True  True  True]\n"
     ]
    }
   ],
   "source": [
    "temp = np.array([28,32,31,29,35,26,30])\n",
    "rainfall = np.array([5,0,10,0,0,8,15])\n",
    "hot_day = temp > 30\n",
    "rainy_day = rainfall > 0\n",
    "\n",
    "\n",
    "print(\"hot day:\", hot_day)\n",
    "print( \"rainy day:\", rainy_day)\n",
    "print(\"hot and rainy days:\", hot_day & rainy_day)\n",
    "print(\"hot or rainy day:\", hot_day | rainy_day)"
   ]
  },
  {
   "cell_type": "code",
   "execution_count": null,
   "id": "99c34903-442e-4a1b-a85b-0348f1dbd750",
   "metadata": {},
   "outputs": [],
   "source": []
  }
 ],
 "metadata": {
  "kernelspec": {
   "display_name": "Python 3 (ipykernel)",
   "language": "python",
   "name": "python3"
  },
  "language_info": {
   "codemirror_mode": {
    "name": "ipython",
    "version": 3
   },
   "file_extension": ".py",
   "mimetype": "text/x-python",
   "name": "python",
   "nbconvert_exporter": "python",
   "pygments_lexer": "ipython3",
   "version": "3.12.7"
  }
 },
 "nbformat": 4,
 "nbformat_minor": 5
}
